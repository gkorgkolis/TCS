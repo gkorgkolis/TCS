{
 "cells": [
  {
   "cell_type": "markdown",
   "metadata": {},
   "source": [
    "### Imports"
   ]
  },
  {
   "cell_type": "code",
   "execution_count": 1,
   "metadata": {},
   "outputs": [
    {
     "name": "stderr",
     "output_type": "stream",
     "text": [
      "Detecting 1 CUDA device(s).\n"
     ]
    },
    {
     "name": "stdout",
     "output_type": "stream",
     "text": [
      "TimesFM v1.2.0. See https://github.com/google-research/timesfm/blob/master/README.md for updated APIs.\n",
      "Loaded Jax TimesFM.\n",
      "Loaded PyTorch TimesFM.\n"
     ]
    }
   ],
   "source": [
    "import os\n",
    "\n",
    "import numpy as np\n",
    "import pandas as pd\n",
    "from pathlib import Path\n",
    "\n",
    "import torch\n",
    "import pickle\n",
    "import string\n",
    "import itertools\n",
    "\n",
    "import matplotlib.pyplot as plt\n",
    "\n",
    "import sys\n",
    "sys.path.append(\"..\")\n",
    "\n",
    "from cdt.metrics import SHD\n",
    "\n",
    "from simulation.simulation_tools import get_optimal_sim_XY, get_optimal_sim_XY_dual\n",
    "from utils import custom_binary_metrics, _from_full_to_cp\n",
    "\n",
    "rng = np.random.default_rng()\n",
    "\n",
    "COL_NAMES = list(string.ascii_uppercase) + [\"\".join(a) for a in list(itertools.permutations(list(string.ascii_uppercase), r=2))]"
   ]
  },
  {
   "cell_type": "markdown",
   "metadata": {},
   "source": [
    "### Experiment \n",
    "Observe the behavior of TCS when given a dense graph in the 1st phase"
   ]
  },
  {
   "cell_type": "code",
   "execution_count": null,
   "metadata": {},
   "outputs": [
    {
     "name": "stdout",
     "output_type": "stream",
     "text": [
      "\n",
      "\n",
      "------------------------------------- (000)_cp_v10_l1_p95_ts.csv -------------------------------------\n",
      "LOG: Optimal Simulation: 4 TCS configurations are to be tested ...\n",
      "_____________________________________________________________________________________________________________\n",
      "_______________________ {'cd': {'cd_method': 'PCMCI', 'cd_kwargs': None}, 'fc': {'pred_method': 'TCDF', 'pred_kwargs': {}}, 'z': {'noise_approximation': 'est'}, 'o': {'noise_approximation': 'est'}} _______________________\n",
      "LOG : Phase (1) : Causal structure ...\n",
      "LOG : Phase (2) : Functional Dependencies ...\n"
     ]
    },
    {
     "name": "stderr",
     "output_type": "stream",
     "text": [
      "100%|██████████| 1000/1000 [00:01<00:00, 950.48it/s]\n",
      "100%|██████████| 1000/1000 [00:00<00:00, 1133.09it/s]\n",
      "100%|██████████| 1000/1000 [00:00<00:00, 1071.83it/s]\n",
      "100%|██████████| 1000/1000 [00:01<00:00, 718.52it/s]\n",
      "100%|██████████| 1000/1000 [00:00<00:00, 1116.42it/s]\n"
     ]
    },
    {
     "name": "stdout",
     "output_type": "stream",
     "text": [
      "LOG : Phase (3) : Noise Estimation ...\n",
      "LOG : Simulation Phase : Ancestral Sampling ...\n"
     ]
    },
    {
     "name": "stderr",
     "output_type": "stream",
     "text": [
      "100%|██████████| 1020/1020 [00:07<00:00, 139.18it/s]\n"
     ]
    },
    {
     "name": "stdout",
     "output_type": "stream",
     "text": [
      "LOG: Optimal Detection Config: Searching for the optimal SVC discriminator ...\n"
     ]
    },
    {
     "name": "stderr",
     "output_type": "stream",
     "text": [
      "100%|██████████| 12/12 [00:05<00:00,  2.30it/s]\n"
     ]
    },
    {
     "name": "stdout",
     "output_type": "stream",
     "text": [
      "LOG: Optimal Detection Config: svm_detection_XY: 0.5318685890768272 (auc) || configs: 12 || elapsed_time: 5.21 (s)\n",
      "LOG: Optimal Detection Config: Searching for the optimal LSTM discriminator ...\n"
     ]
    },
    {
     "name": "stderr",
     "output_type": "stream",
     "text": [
      "100%|██████████| 8/8 [00:09<00:00,  1.24s/it]\n"
     ]
    },
    {
     "name": "stdout",
     "output_type": "stream",
     "text": [
      "LOG: Optimal Detection Config: lstm_detection_XY: 0.5357103874840823 (auc) || configs: 8 || elapsed_time: 9.93 (s)\n",
      "LOG: Optimal Simulation: Max C2ST AUC achieved: 0.5314171366199745\n",
      "_____________________________________________________________________________________________________________\n",
      "_____________________________________________________________________________________________________________\n",
      "_______________________ {'cd': {'cd_method': 'PCMCI', 'cd_kwargs': None}, 'fc': {'pred_method': 'TCDF', 'pred_kwargs': {}}, 'z': {'noise_approximation': 'spline'}, 'o': {'noise_approximation': 'spline'}} _______________________\n",
      "LOG : Phase (1) : Causal structure ...\n",
      "LOG : Phase (2) : Functional Dependencies ...\n"
     ]
    },
    {
     "name": "stderr",
     "output_type": "stream",
     "text": [
      "100%|██████████| 1000/1000 [00:00<00:00, 1282.34it/s]\n",
      "100%|██████████| 1000/1000 [00:00<00:00, 1228.45it/s]\n",
      "100%|██████████| 1000/1000 [00:00<00:00, 1294.25it/s]\n",
      "100%|██████████| 1000/1000 [00:01<00:00, 828.11it/s]\n",
      "100%|██████████| 1000/1000 [00:00<00:00, 1173.21it/s]\n"
     ]
    },
    {
     "name": "stdout",
     "output_type": "stream",
     "text": [
      "LOG : Phase (3) : Noise Estimation ...\n",
      "LOG : Simulation Phase : Ancestral Sampling ...\n"
     ]
    },
    {
     "name": "stderr",
     "output_type": "stream",
     "text": [
      "100%|██████████| 1020/1020 [00:07<00:00, 138.87it/s]\n"
     ]
    },
    {
     "name": "stdout",
     "output_type": "stream",
     "text": [
      "LOG: Optimal Detection Config: Searching for the optimal SVC discriminator ...\n"
     ]
    },
    {
     "name": "stderr",
     "output_type": "stream",
     "text": [
      "100%|██████████| 12/12 [00:05<00:00,  2.33it/s]\n"
     ]
    },
    {
     "name": "stdout",
     "output_type": "stream",
     "text": [
      "LOG: Optimal Detection Config: svm_detection_XY: 0.4926742566171879 (auc) || configs: 12 || elapsed_time: 5.16 (s)\n",
      "LOG: Optimal Detection Config: Searching for the optimal LSTM discriminator ...\n"
     ]
    },
    {
     "name": "stderr",
     "output_type": "stream",
     "text": [
      "100%|██████████| 8/8 [00:08<00:00,  1.11s/it]\n"
     ]
    },
    {
     "name": "stdout",
     "output_type": "stream",
     "text": [
      "LOG: Optimal Detection Config: lstm_detection_XY: 0.517462398485014 (auc) || configs: 8 || elapsed_time: 8.87 (s)\n",
      "LOG: Optimal Simulation: Max C2ST AUC achieved: 0.540496740595069\n",
      "_____________________________________________________________________________________________________________\n",
      "_____________________________________________________________________________________________________________\n",
      "_______________________ {'cd': {'cd_method': 'PCMCI', 'cd_kwargs': {'n_lags': 3, 'n_reps': 10}}, 'fc': {'pred_method': 'TCDF', 'pred_kwargs': {}}, 'z': {'noise_approximation': 'est'}, 'o': {'noise_approximation': 'est'}} _______________________\n",
      "LOG : Phase (1) : Causal structure ...\n",
      "LOG : Phase (2) : Functional Dependencies ...\n"
     ]
    },
    {
     "name": "stderr",
     "output_type": "stream",
     "text": [
      "100%|██████████| 1000/1000 [00:00<00:00, 1201.05it/s]\n",
      "100%|██████████| 1000/1000 [00:00<00:00, 1294.16it/s]\n",
      "100%|██████████| 1000/1000 [00:00<00:00, 1215.91it/s]\n",
      "100%|██████████| 1000/1000 [00:01<00:00, 835.06it/s]\n",
      "100%|██████████| 1000/1000 [00:00<00:00, 1199.35it/s]\n"
     ]
    },
    {
     "name": "stdout",
     "output_type": "stream",
     "text": [
      "LOG : Phase (3) : Noise Estimation ...\n",
      "LOG : Simulation Phase : Ancestral Sampling ...\n"
     ]
    },
    {
     "name": "stderr",
     "output_type": "stream",
     "text": [
      "100%|██████████| 1020/1020 [00:07<00:00, 136.63it/s]\n"
     ]
    },
    {
     "name": "stdout",
     "output_type": "stream",
     "text": [
      "LOG: Optimal Detection Config: Searching for the optimal SVC discriminator ...\n"
     ]
    },
    {
     "name": "stderr",
     "output_type": "stream",
     "text": [
      "100%|██████████| 12/12 [00:05<00:00,  2.28it/s]\n"
     ]
    },
    {
     "name": "stdout",
     "output_type": "stream",
     "text": [
      "LOG: Optimal Detection Config: svm_detection_XY: 0.5084121212121212 (auc) || configs: 12 || elapsed_time: 5.27 (s)\n",
      "LOG: Optimal Detection Config: Searching for the optimal LSTM discriminator ...\n"
     ]
    },
    {
     "name": "stderr",
     "output_type": "stream",
     "text": [
      "100%|██████████| 8/8 [00:08<00:00,  1.12s/it]\n"
     ]
    },
    {
     "name": "stdout",
     "output_type": "stream",
     "text": [
      "LOG: Optimal Detection Config: lstm_detection_XY: 0.4948343079922026 (auc) || configs: 8 || elapsed_time: 8.94 (s)\n",
      "LOG: Optimal Simulation: Max C2ST AUC achieved: 0.4918060606060606\n",
      "_____________________________________________________________________________________________________________\n",
      "_____________________________________________________________________________________________________________\n",
      "_______________________ {'cd': {'cd_method': 'PCMCI', 'cd_kwargs': {'n_lags': 3, 'n_reps': 10}}, 'fc': {'pred_method': 'TCDF', 'pred_kwargs': {}}, 'z': {'noise_approximation': 'spline'}, 'o': {'noise_approximation': 'spline'}} _______________________\n",
      "LOG : Phase (1) : Causal structure ...\n",
      "LOG : Phase (2) : Functional Dependencies ...\n"
     ]
    },
    {
     "name": "stderr",
     "output_type": "stream",
     "text": [
      "100%|██████████| 1000/1000 [00:00<00:00, 1198.46it/s]\n",
      "100%|██████████| 1000/1000 [00:00<00:00, 1151.01it/s]\n",
      "100%|██████████| 1000/1000 [00:00<00:00, 1119.42it/s]\n",
      "100%|██████████| 1000/1000 [00:01<00:00, 862.49it/s]\n",
      "100%|██████████| 1000/1000 [00:00<00:00, 1100.62it/s]\n"
     ]
    },
    {
     "name": "stdout",
     "output_type": "stream",
     "text": [
      "LOG : Phase (3) : Noise Estimation ...\n",
      "LOG : Simulation Phase : Ancestral Sampling ...\n"
     ]
    },
    {
     "name": "stderr",
     "output_type": "stream",
     "text": [
      "100%|██████████| 1020/1020 [00:07<00:00, 142.38it/s]\n"
     ]
    },
    {
     "name": "stdout",
     "output_type": "stream",
     "text": [
      "LOG: Optimal Detection Config: Searching for the optimal SVC discriminator ...\n"
     ]
    },
    {
     "name": "stderr",
     "output_type": "stream",
     "text": [
      "100%|██████████| 12/12 [00:05<00:00,  2.23it/s]\n"
     ]
    },
    {
     "name": "stdout",
     "output_type": "stream",
     "text": [
      "LOG: Optimal Detection Config: svm_detection_XY: 0.5166530559959007 (auc) || configs: 12 || elapsed_time: 5.37 (s)\n",
      "LOG: Optimal Detection Config: Searching for the optimal LSTM discriminator ...\n"
     ]
    },
    {
     "name": "stderr",
     "output_type": "stream",
     "text": [
      "100%|██████████| 8/8 [00:08<00:00,  1.10s/it]\n"
     ]
    },
    {
     "name": "stdout",
     "output_type": "stream",
     "text": [
      "LOG: Optimal Detection Config: lstm_detection_XY: 0.5495705728101621 (auc) || configs: 8 || elapsed_time: 8.79 (s)\n",
      "LOG: Optimal Simulation: Max C2ST AUC achieved: 0.5332836144056583\n",
      "_____________________________________________________________________________________________________________\n",
      "LOG: Optimal Simulation: Sparsity Penalty: optimal case: idx=2 | auc=0.4918060606060606 | edges=6.0\n"
     ]
    },
    {
     "name": "stderr",
     "output_type": "stream",
     "text": [
      "100%|██████████| 100/100 [00:00<00:00, 469.49it/s]\n"
     ]
    },
    {
     "name": "stdout",
     "output_type": "stream",
     "text": [
      "LOG: Optimal Simulation: Sparsity Penalty: eq. found: idx=0 | auc=0.5314171366199745 | edges=6.0\n"
     ]
    },
    {
     "name": "stderr",
     "output_type": "stream",
     "text": [
      "100%|██████████| 100/100 [00:00<00:00, 469.90it/s]\n"
     ]
    },
    {
     "name": "stdout",
     "output_type": "stream",
     "text": [
      "LOG: Optimal Simulation: Sparsity Penalty: eq. found: idx=1 | auc=0.540496740595069 | edges=6.0\n"
     ]
    },
    {
     "name": "stderr",
     "output_type": "stream",
     "text": [
      "100%|██████████| 100/100 [00:00<00:00, 453.54it/s]\n"
     ]
    },
    {
     "name": "stdout",
     "output_type": "stream",
     "text": [
      "LOG: Optimal Simulation: Sparsity Penalty: eq. found: idx=3 | auc=0.5332836144056583 | edges=6.0\n",
      "LOG: Optimal Simulation: Sparsity Penalty: opti case: idx=2 | auc=0.4918060606060606 | edges=6.0\n",
      "LOG: Optimal Simulation (0.4918060606060606 auc): chosen configuration: {\n",
      "    \"cd\": {\n",
      "        \"cd_kwargs\": {\n",
      "            \"n_lags\": 3,\n",
      "            \"n_reps\": 10\n",
      "        },\n",
      "        \"cd_method\": \"PCMCI\"\n",
      "    },\n",
      "    \"fc\": {\n",
      "        \"pred_kwargs\": {},\n",
      "        \"pred_method\": \"TCDF\"\n",
      "    },\n",
      "    \"o\": {\n",
      "        \"noise_approximation\": \"est\"\n",
      "    },\n",
      "    \"z\": {\n",
      "        \"noise_approximation\": \"est\"\n",
      "    }\n",
      "}\n",
      "Total number of edges in the ground truth: 6\n",
      "Total number of edges that were predicted: 6\n",
      "AUC: 1.0\n",
      "TPR: 1.0, FPR: 0.0, TNR: 1.0, FNR: 0.0\n",
      "__________________________________ ... ________________________________\n",
      "\n",
      "Total number of edges in the ground truth: 6\n",
      "Total number of edges that were predicted: 6\n",
      "AUC: 1.0\n",
      "TPR: 1.0, FPR: 0.0, TNR: 1.0, FNR: 0.0\n",
      "__________________________________ ... ________________________________\n",
      "\n",
      "\n",
      "\n",
      "------------------------------------- (001)_cp_v10_l1_p92_ts.csv -------------------------------------\n",
      "LOG: Optimal Simulation: 4 TCS configurations are to be tested ...\n",
      "_____________________________________________________________________________________________________________\n",
      "_______________________ {'cd': {'cd_method': 'PCMCI', 'cd_kwargs': None}, 'fc': {'pred_method': 'TCDF', 'pred_kwargs': {}}, 'z': {'noise_approximation': 'est'}, 'o': {'noise_approximation': 'est'}} _______________________\n",
      "LOG : Phase (1) : Causal structure ...\n",
      "LOG : Phase (2) : Functional Dependencies ...\n"
     ]
    },
    {
     "name": "stderr",
     "output_type": "stream",
     "text": [
      "100%|██████████| 1000/1000 [00:01<00:00, 880.87it/s]\n",
      "100%|██████████| 1000/1000 [00:01<00:00, 821.16it/s]\n",
      "100%|██████████| 1000/1000 [00:00<00:00, 1138.93it/s]\n",
      "100%|██████████| 1000/1000 [00:00<00:00, 1204.15it/s]\n",
      "100%|██████████| 1000/1000 [00:01<00:00, 844.26it/s]\n",
      "100%|██████████| 1000/1000 [00:00<00:00, 1153.83it/s]\n",
      "100%|██████████| 1000/1000 [00:00<00:00, 1140.93it/s]\n",
      "100%|██████████| 1000/1000 [00:00<00:00, 1253.08it/s]\n"
     ]
    },
    {
     "name": "stdout",
     "output_type": "stream",
     "text": [
      "LOG : Phase (3) : Noise Estimation ...\n",
      "LOG : Simulation Phase : Ancestral Sampling ...\n"
     ]
    },
    {
     "name": "stderr",
     "output_type": "stream",
     "text": [
      "100%|██████████| 1020/1020 [00:08<00:00, 119.09it/s]\n"
     ]
    },
    {
     "name": "stdout",
     "output_type": "stream",
     "text": [
      "LOG: Optimal Detection Config: Searching for the optimal SVC discriminator ...\n"
     ]
    },
    {
     "name": "stderr",
     "output_type": "stream",
     "text": [
      "100%|██████████| 12/12 [00:05<00:00,  2.20it/s]\n"
     ]
    },
    {
     "name": "stdout",
     "output_type": "stream",
     "text": [
      "LOG: Optimal Detection Config: svm_detection_XY: 0.5705686475409837 (auc) || configs: 12 || elapsed_time: 5.47 (s)\n",
      "LOG: Optimal Detection Config: Searching for the optimal LSTM discriminator ...\n"
     ]
    },
    {
     "name": "stderr",
     "output_type": "stream",
     "text": [
      "100%|██████████| 8/8 [00:09<00:00,  1.13s/it]\n"
     ]
    },
    {
     "name": "stdout",
     "output_type": "stream",
     "text": [
      "LOG: Optimal Detection Config: lstm_detection_XY: 0.5531546947245787 (auc) || configs: 8 || elapsed_time: 9.07 (s)\n",
      "LOG: Optimal Simulation: Max C2ST AUC achieved: 0.5706006659836066\n",
      "_____________________________________________________________________________________________________________\n",
      "_____________________________________________________________________________________________________________\n",
      "_______________________ {'cd': {'cd_method': 'PCMCI', 'cd_kwargs': None}, 'fc': {'pred_method': 'TCDF', 'pred_kwargs': {}}, 'z': {'noise_approximation': 'spline'}, 'o': {'noise_approximation': 'spline'}} _______________________\n",
      "LOG : Phase (1) : Causal structure ...\n",
      "LOG : Phase (2) : Functional Dependencies ...\n"
     ]
    },
    {
     "name": "stderr",
     "output_type": "stream",
     "text": [
      "100%|██████████| 1000/1000 [00:01<00:00, 811.48it/s]\n",
      "100%|██████████| 1000/1000 [00:01<00:00, 814.71it/s]\n",
      "100%|██████████| 1000/1000 [00:00<00:00, 1198.84it/s]\n",
      "100%|██████████| 1000/1000 [00:00<00:00, 1135.03it/s]\n",
      "100%|██████████| 1000/1000 [00:01<00:00, 868.13it/s]\n",
      "100%|██████████| 1000/1000 [00:00<00:00, 1172.59it/s]\n",
      "100%|██████████| 1000/1000 [00:00<00:00, 1285.70it/s]\n",
      "100%|██████████| 1000/1000 [00:00<00:00, 1185.43it/s]\n"
     ]
    },
    {
     "name": "stdout",
     "output_type": "stream",
     "text": [
      "LOG : Phase (3) : Noise Estimation ...\n",
      "LOG : Simulation Phase : Ancestral Sampling ...\n"
     ]
    },
    {
     "name": "stderr",
     "output_type": "stream",
     "text": [
      "100%|██████████| 1020/1020 [00:09<00:00, 113.04it/s]\n"
     ]
    },
    {
     "name": "stdout",
     "output_type": "stream",
     "text": [
      "LOG: Optimal Detection Config: Searching for the optimal SVC discriminator ...\n"
     ]
    },
    {
     "name": "stderr",
     "output_type": "stream",
     "text": [
      "100%|██████████| 12/12 [00:05<00:00,  2.18it/s]\n"
     ]
    },
    {
     "name": "stdout",
     "output_type": "stream",
     "text": [
      "LOG: Optimal Detection Config: svm_detection_XY: 0.5177621884810045 (auc) || configs: 12 || elapsed_time: 5.5 (s)\n",
      "LOG: Optimal Detection Config: Searching for the optimal LSTM discriminator ...\n"
     ]
    },
    {
     "name": "stderr",
     "output_type": "stream",
     "text": [
      "100%|██████████| 8/8 [00:09<00:00,  1.15s/it]\n"
     ]
    },
    {
     "name": "stdout",
     "output_type": "stream",
     "text": [
      "LOG: Optimal Detection Config: lstm_detection_XY: 0.5423358461706544 (auc) || configs: 8 || elapsed_time: 9.19 (s)\n",
      "LOG: Optimal Simulation: Max C2ST AUC achieved: 0.5468698787282859\n",
      "_____________________________________________________________________________________________________________\n",
      "_____________________________________________________________________________________________________________\n",
      "_______________________ {'cd': {'cd_method': 'PCMCI', 'cd_kwargs': {'n_lags': 3, 'n_reps': 10}}, 'fc': {'pred_method': 'TCDF', 'pred_kwargs': {}}, 'z': {'noise_approximation': 'est'}, 'o': {'noise_approximation': 'est'}} _______________________\n",
      "LOG : Phase (1) : Causal structure ...\n",
      "LOG : Phase (2) : Functional Dependencies ...\n"
     ]
    },
    {
     "name": "stderr",
     "output_type": "stream",
     "text": [
      "100%|██████████| 1000/1000 [00:01<00:00, 789.56it/s]\n",
      "100%|██████████| 1000/1000 [00:01<00:00, 817.86it/s]\n",
      "100%|██████████| 1000/1000 [00:00<00:00, 1223.48it/s]\n",
      "100%|██████████| 1000/1000 [00:00<00:00, 1135.43it/s]\n",
      "100%|██████████| 1000/1000 [00:00<00:00, 1174.57it/s]\n",
      "100%|██████████| 1000/1000 [00:00<00:00, 1134.89it/s]\n",
      "100%|██████████| 1000/1000 [00:00<00:00, 1264.73it/s]\n",
      "100%|██████████| 1000/1000 [00:00<00:00, 1117.32it/s]\n"
     ]
    },
    {
     "name": "stdout",
     "output_type": "stream",
     "text": [
      "LOG : Phase (3) : Noise Estimation ...\n",
      "LOG : Simulation Phase : Ancestral Sampling ...\n"
     ]
    },
    {
     "name": "stderr",
     "output_type": "stream",
     "text": [
      "100%|██████████| 1020/1020 [00:08<00:00, 119.63it/s]\n"
     ]
    },
    {
     "name": "stdout",
     "output_type": "stream",
     "text": [
      "LOG: Optimal Detection Config: Searching for the optimal SVC discriminator ...\n"
     ]
    },
    {
     "name": "stderr",
     "output_type": "stream",
     "text": [
      "100%|██████████| 12/12 [00:05<00:00,  2.10it/s]\n"
     ]
    },
    {
     "name": "stdout",
     "output_type": "stream",
     "text": [
      "LOG: Optimal Detection Config: svm_detection_XY: 0.5305769230769231 (auc) || configs: 12 || elapsed_time: 5.71 (s)\n",
      "LOG: Optimal Detection Config: Searching for the optimal LSTM discriminator ...\n"
     ]
    },
    {
     "name": "stderr",
     "output_type": "stream",
     "text": [
      "100%|██████████| 8/8 [00:09<00:00,  1.13s/it]\n"
     ]
    },
    {
     "name": "stdout",
     "output_type": "stream",
     "text": [
      "LOG: Optimal Detection Config: lstm_detection_XY: 0.5360655737704919 (auc) || configs: 8 || elapsed_time: 9.01 (s)\n",
      "LOG: Optimal Simulation: Max C2ST AUC achieved: 0.5322768670309654\n",
      "_____________________________________________________________________________________________________________\n",
      "_____________________________________________________________________________________________________________\n",
      "_______________________ {'cd': {'cd_method': 'PCMCI', 'cd_kwargs': {'n_lags': 3, 'n_reps': 10}}, 'fc': {'pred_method': 'TCDF', 'pred_kwargs': {}}, 'z': {'noise_approximation': 'spline'}, 'o': {'noise_approximation': 'spline'}} _______________________\n",
      "LOG : Phase (1) : Causal structure ...\n",
      "LOG : Phase (2) : Functional Dependencies ...\n"
     ]
    },
    {
     "name": "stderr",
     "output_type": "stream",
     "text": [
      "100%|██████████| 1000/1000 [00:01<00:00, 817.89it/s]\n",
      "100%|██████████| 1000/1000 [00:01<00:00, 798.93it/s]\n",
      "100%|██████████| 1000/1000 [00:00<00:00, 1183.52it/s]\n",
      "100%|██████████| 1000/1000 [00:00<00:00, 1172.45it/s]\n",
      "100%|██████████| 1000/1000 [00:00<00:00, 1274.89it/s]\n",
      "100%|██████████| 1000/1000 [00:00<00:00, 1241.77it/s]\n",
      "100%|██████████| 1000/1000 [00:00<00:00, 1232.08it/s]\n",
      "100%|██████████| 1000/1000 [00:00<00:00, 1186.32it/s]\n"
     ]
    },
    {
     "name": "stdout",
     "output_type": "stream",
     "text": [
      "LOG : Phase (3) : Noise Estimation ...\n",
      "LOG : Simulation Phase : Ancestral Sampling ...\n"
     ]
    },
    {
     "name": "stderr",
     "output_type": "stream",
     "text": [
      "100%|██████████| 1020/1020 [00:08<00:00, 117.29it/s]\n"
     ]
    },
    {
     "name": "stdout",
     "output_type": "stream",
     "text": [
      "LOG: Optimal Detection Config: Searching for the optimal SVC discriminator ...\n"
     ]
    },
    {
     "name": "stderr",
     "output_type": "stream",
     "text": [
      "100%|██████████| 12/12 [00:05<00:00,  2.19it/s]\n"
     ]
    },
    {
     "name": "stdout",
     "output_type": "stream",
     "text": [
      "LOG: Optimal Detection Config: svm_detection_XY: 0.589599358974359 (auc) || configs: 12 || elapsed_time: 5.49 (s)\n",
      "LOG: Optimal Detection Config: Searching for the optimal LSTM discriminator ...\n"
     ]
    },
    {
     "name": "stderr",
     "output_type": "stream",
     "text": [
      "100%|██████████| 8/8 [00:09<00:00,  1.13s/it]\n"
     ]
    },
    {
     "name": "stdout",
     "output_type": "stream",
     "text": [
      "LOG: Optimal Detection Config: lstm_detection_XY: 0.5434902780782079 (auc) || configs: 8 || elapsed_time: 9.06 (s)\n",
      "LOG: Optimal Simulation: Max C2ST AUC achieved: 0.589727564102564\n",
      "_____________________________________________________________________________________________________________\n",
      "LOG: Optimal Simulation: Sparsity Penalty: optimal case: idx=2 | auc=0.5322768670309654 | edges=11.0\n"
     ]
    },
    {
     "name": "stderr",
     "output_type": "stream",
     "text": [
      "100%|██████████| 100/100 [00:00<00:00, 451.10it/s]\n"
     ]
    },
    {
     "name": "stdout",
     "output_type": "stream",
     "text": [
      "LOG: Optimal Simulation: Sparsity Penalty: eq. found: idx=0 | auc=0.5706006659836066 | edges=12.0\n"
     ]
    },
    {
     "name": "stderr",
     "output_type": "stream",
     "text": [
      "100%|██████████| 100/100 [00:00<00:00, 361.61it/s]\n"
     ]
    },
    {
     "name": "stdout",
     "output_type": "stream",
     "text": [
      "LOG: Optimal Simulation: Sparsity Penalty: eq. found: idx=1 | auc=0.5468698787282859 | edges=12.0\n"
     ]
    },
    {
     "name": "stderr",
     "output_type": "stream",
     "text": [
      "100%|██████████| 100/100 [00:00<00:00, 398.35it/s]\n"
     ]
    },
    {
     "name": "stdout",
     "output_type": "stream",
     "text": [
      "LOG: Optimal Simulation: Sparsity Penalty: eq. found: idx=3 | auc=0.589727564102564 | edges=11.0\n",
      "LOG: Optimal Simulation: Sparsity Penalty: opti case: idx=2 | auc=0.5322768670309654 | edges=11.0\n",
      "LOG: Optimal Simulation (0.5322768670309654 auc): chosen configuration: {\n",
      "    \"cd\": {\n",
      "        \"cd_kwargs\": {\n",
      "            \"n_lags\": 3,\n",
      "            \"n_reps\": 10\n",
      "        },\n",
      "        \"cd_method\": \"PCMCI\"\n",
      "    },\n",
      "    \"fc\": {\n",
      "        \"pred_kwargs\": {},\n",
      "        \"pred_method\": \"TCDF\"\n",
      "    },\n",
      "    \"o\": {\n",
      "        \"noise_approximation\": \"est\"\n",
      "    },\n",
      "    \"z\": {\n",
      "        \"noise_approximation\": \"est\"\n",
      "    }\n",
      "}\n",
      "Total number of edges in the ground truth: 11\n",
      "Total number of edges that were predicted: 11\n",
      "AUC: 1.0\n",
      "TPR: 1.0, FPR: 0.0, TNR: 1.0, FNR: 0.0\n",
      "__________________________________ ... ________________________________\n",
      "\n",
      "Total number of edges in the ground truth: 11\n",
      "Total number of edges that were predicted: 11\n",
      "AUC: 1.0\n",
      "TPR: 1.0, FPR: 0.0, TNR: 1.0, FNR: 0.0\n",
      "__________________________________ ... ________________________________\n",
      "\n",
      "\n",
      "\n",
      "------------------------------------- (002)_cp_v10_l1_p89_ts.csv -------------------------------------\n",
      "LOG: Optimal Simulation: 4 TCS configurations are to be tested ...\n",
      "_____________________________________________________________________________________________________________\n",
      "_______________________ {'cd': {'cd_method': 'PCMCI', 'cd_kwargs': None}, 'fc': {'pred_method': 'TCDF', 'pred_kwargs': {}}, 'z': {'noise_approximation': 'est'}, 'o': {'noise_approximation': 'est'}} _______________________\n",
      "LOG : Phase (1) : Causal structure ...\n",
      "LOG : Phase (2) : Functional Dependencies ...\n"
     ]
    },
    {
     "name": "stderr",
     "output_type": "stream",
     "text": [
      "100%|██████████| 1000/1000 [00:00<00:00, 1248.51it/s]\n",
      "100%|██████████| 1000/1000 [00:00<00:00, 1302.46it/s]\n",
      "100%|██████████| 1000/1000 [00:01<00:00, 845.82it/s]\n",
      "100%|██████████| 1000/1000 [00:01<00:00, 948.37it/s]\n",
      "100%|██████████| 1000/1000 [00:01<00:00, 664.70it/s]\n",
      "100%|██████████| 1000/1000 [00:01<00:00, 739.28it/s]\n",
      "100%|██████████| 1000/1000 [00:01<00:00, 690.99it/s]\n"
     ]
    },
    {
     "name": "stdout",
     "output_type": "stream",
     "text": [
      "LOG : Phase (3) : Noise Estimation ...\n",
      "LOG : Simulation Phase : Ancestral Sampling ...\n"
     ]
    },
    {
     "name": "stderr",
     "output_type": "stream",
     "text": [
      "100%|██████████| 1020/1020 [00:09<00:00, 104.04it/s]\n"
     ]
    },
    {
     "name": "stdout",
     "output_type": "stream",
     "text": [
      "LOG: Optimal Detection Config: Searching for the optimal SVC discriminator ...\n"
     ]
    },
    {
     "name": "stderr",
     "output_type": "stream",
     "text": [
      "100%|██████████| 12/12 [00:06<00:00,  1.84it/s]\n"
     ]
    },
    {
     "name": "stdout",
     "output_type": "stream",
     "text": [
      "LOG: Optimal Detection Config: svm_detection_XY: 0.5648232821549469 (auc) || configs: 12 || elapsed_time: 6.53 (s)\n",
      "LOG: Optimal Detection Config: Searching for the optimal LSTM discriminator ...\n"
     ]
    },
    {
     "name": "stderr",
     "output_type": "stream",
     "text": [
      "100%|██████████| 8/8 [00:09<00:00,  1.22s/it]\n"
     ]
    },
    {
     "name": "stdout",
     "output_type": "stream",
     "text": [
      "LOG: Optimal Detection Config: lstm_detection_XY: 0.5403288201160541 (auc) || configs: 8 || elapsed_time: 9.75 (s)\n",
      "LOG: Optimal Simulation: Max C2ST AUC achieved: 0.5598017038070944\n",
      "_____________________________________________________________________________________________________________\n",
      "_____________________________________________________________________________________________________________\n",
      "_______________________ {'cd': {'cd_method': 'PCMCI', 'cd_kwargs': None}, 'fc': {'pred_method': 'TCDF', 'pred_kwargs': {}}, 'z': {'noise_approximation': 'spline'}, 'o': {'noise_approximation': 'spline'}} _______________________\n",
      "LOG : Phase (1) : Causal structure ...\n",
      "LOG : Phase (2) : Functional Dependencies ...\n"
     ]
    },
    {
     "name": "stderr",
     "output_type": "stream",
     "text": [
      "100%|██████████| 1000/1000 [00:01<00:00, 957.56it/s]\n",
      "100%|██████████| 1000/1000 [00:01<00:00, 988.35it/s]\n",
      "100%|██████████| 1000/1000 [00:01<00:00, 796.98it/s]\n",
      "100%|██████████| 1000/1000 [00:01<00:00, 982.11it/s]\n",
      "100%|██████████| 1000/1000 [00:01<00:00, 782.47it/s]\n",
      "100%|██████████| 1000/1000 [00:01<00:00, 802.57it/s]\n",
      "100%|██████████| 1000/1000 [00:01<00:00, 752.45it/s]\n"
     ]
    },
    {
     "name": "stdout",
     "output_type": "stream",
     "text": [
      "LOG : Phase (3) : Noise Estimation ...\n",
      "LOG : Simulation Phase : Ancestral Sampling ...\n"
     ]
    },
    {
     "name": "stderr",
     "output_type": "stream",
     "text": [
      "100%|██████████| 1020/1020 [00:09<00:00, 105.09it/s]\n"
     ]
    },
    {
     "name": "stdout",
     "output_type": "stream",
     "text": [
      "LOG: Optimal Detection Config: Searching for the optimal SVC discriminator ...\n"
     ]
    },
    {
     "name": "stderr",
     "output_type": "stream",
     "text": [
      "100%|██████████| 12/12 [00:06<00:00,  1.97it/s]\n"
     ]
    },
    {
     "name": "stdout",
     "output_type": "stream",
     "text": [
      "LOG: Optimal Detection Config: svm_detection_XY: 0.5313045008720141 (auc) || configs: 12 || elapsed_time: 6.1 (s)\n",
      "LOG: Optimal Detection Config: Searching for the optimal LSTM discriminator ...\n"
     ]
    },
    {
     "name": "stderr",
     "output_type": "stream",
     "text": [
      "100%|██████████| 8/8 [00:09<00:00,  1.18s/it]\n"
     ]
    },
    {
     "name": "stdout",
     "output_type": "stream",
     "text": [
      "LOG: Optimal Detection Config: lstm_detection_XY: 0.5189511380296584 (auc) || configs: 8 || elapsed_time: 9.43 (s)\n",
      "LOG: Optimal Simulation: Max C2ST AUC achieved: 0.5288564617033873\n",
      "_____________________________________________________________________________________________________________\n",
      "_____________________________________________________________________________________________________________\n",
      "_______________________ {'cd': {'cd_method': 'PCMCI', 'cd_kwargs': {'n_lags': 3, 'n_reps': 10}}, 'fc': {'pred_method': 'TCDF', 'pred_kwargs': {}}, 'z': {'noise_approximation': 'est'}, 'o': {'noise_approximation': 'est'}} _______________________\n",
      "LOG : Phase (1) : Causal structure ...\n",
      "LOG : Phase (2) : Functional Dependencies ...\n"
     ]
    },
    {
     "name": "stderr",
     "output_type": "stream",
     "text": [
      "100%|██████████| 1000/1000 [00:00<00:00, 1203.31it/s]\n",
      "100%|██████████| 1000/1000 [00:00<00:00, 1308.96it/s]\n",
      "100%|██████████| 1000/1000 [00:01<00:00, 838.92it/s]\n",
      "100%|██████████| 1000/1000 [00:00<00:00, 1247.79it/s]\n",
      "100%|██████████| 1000/1000 [00:01<00:00, 853.48it/s]\n",
      "100%|██████████| 1000/1000 [00:01<00:00, 829.54it/s]\n",
      "100%|██████████| 1000/1000 [00:01<00:00, 876.56it/s]\n"
     ]
    },
    {
     "name": "stdout",
     "output_type": "stream",
     "text": [
      "LOG : Phase (3) : Noise Estimation ...\n",
      "LOG : Simulation Phase : Ancestral Sampling ...\n"
     ]
    },
    {
     "name": "stderr",
     "output_type": "stream",
     "text": [
      "100%|██████████| 1020/1020 [00:08<00:00, 121.94it/s]\n"
     ]
    },
    {
     "name": "stdout",
     "output_type": "stream",
     "text": [
      "LOG: Optimal Detection Config: Searching for the optimal SVC discriminator ...\n"
     ]
    },
    {
     "name": "stderr",
     "output_type": "stream",
     "text": [
      "100%|██████████| 12/12 [00:05<00:00,  2.19it/s]\n"
     ]
    },
    {
     "name": "stdout",
     "output_type": "stream",
     "text": [
      "LOG: Optimal Detection Config: svm_detection_XY: 0.538648618377894 (auc) || configs: 12 || elapsed_time: 5.49 (s)\n",
      "LOG: Optimal Detection Config: Searching for the optimal LSTM discriminator ...\n"
     ]
    },
    {
     "name": "stderr",
     "output_type": "stream",
     "text": [
      "100%|██████████| 8/8 [00:09<00:00,  1.18s/it]\n"
     ]
    },
    {
     "name": "stdout",
     "output_type": "stream",
     "text": [
      "LOG: Optimal Detection Config: lstm_detection_XY: 0.5541190041334232 (auc) || configs: 8 || elapsed_time: 9.48 (s)\n",
      "LOG: Optimal Simulation: Max C2ST AUC achieved: 0.5505022589637605\n",
      "_____________________________________________________________________________________________________________\n",
      "_____________________________________________________________________________________________________________\n",
      "_______________________ {'cd': {'cd_method': 'PCMCI', 'cd_kwargs': {'n_lags': 3, 'n_reps': 10}}, 'fc': {'pred_method': 'TCDF', 'pred_kwargs': {}}, 'z': {'noise_approximation': 'spline'}, 'o': {'noise_approximation': 'spline'}} _______________________\n",
      "LOG : Phase (1) : Causal structure ...\n",
      "LOG : Phase (2) : Functional Dependencies ...\n"
     ]
    },
    {
     "name": "stderr",
     "output_type": "stream",
     "text": [
      "100%|██████████| 1000/1000 [00:00<00:00, 1165.50it/s]\n",
      "100%|██████████| 1000/1000 [00:00<00:00, 1116.56it/s]\n",
      "100%|██████████| 1000/1000 [00:01<00:00, 860.70it/s]\n",
      "100%|██████████| 1000/1000 [00:00<00:00, 1096.69it/s]\n",
      "100%|██████████| 1000/1000 [00:01<00:00, 848.97it/s]\n",
      "100%|██████████| 1000/1000 [00:01<00:00, 873.55it/s]\n",
      "100%|██████████| 1000/1000 [00:01<00:00, 832.15it/s]\n"
     ]
    },
    {
     "name": "stdout",
     "output_type": "stream",
     "text": [
      "LOG : Phase (3) : Noise Estimation ...\n",
      "LOG : Simulation Phase : Ancestral Sampling ...\n"
     ]
    },
    {
     "name": "stderr",
     "output_type": "stream",
     "text": [
      "100%|██████████| 1020/1020 [00:08<00:00, 119.31it/s]\n"
     ]
    },
    {
     "name": "stdout",
     "output_type": "stream",
     "text": [
      "LOG: Optimal Detection Config: Searching for the optimal SVC discriminator ...\n"
     ]
    },
    {
     "name": "stderr",
     "output_type": "stream",
     "text": [
      "100%|██████████| 12/12 [00:05<00:00,  2.26it/s]\n"
     ]
    },
    {
     "name": "stdout",
     "output_type": "stream",
     "text": [
      "LOG: Optimal Detection Config: svm_detection_XY: 0.5695931134898159 (auc) || configs: 12 || elapsed_time: 5.31 (s)\n",
      "LOG: Optimal Detection Config: Searching for the optimal LSTM discriminator ...\n"
     ]
    },
    {
     "name": "stderr",
     "output_type": "stream",
     "text": [
      "100%|██████████| 8/8 [00:09<00:00,  1.17s/it]\n"
     ]
    },
    {
     "name": "stdout",
     "output_type": "stream",
     "text": [
      "LOG: Optimal Detection Config: lstm_detection_XY: 0.5063650250963847 (auc) || configs: 8 || elapsed_time: 9.33 (s)\n",
      "LOG: Optimal Simulation: Max C2ST AUC achieved: 0.5686890990255845\n",
      "_____________________________________________________________________________________________________________\n",
      "LOG: Optimal Simulation: Sparsity Penalty: optimal case: idx=1 | auc=0.5288564617033873 | edges=11.0\n"
     ]
    },
    {
     "name": "stderr",
     "output_type": "stream",
     "text": [
      "100%|██████████| 100/100 [00:00<00:00, 420.16it/s]\n"
     ]
    },
    {
     "name": "stdout",
     "output_type": "stream",
     "text": [
      "LOG: Optimal Simulation: Sparsity Penalty: eq. found: idx=0 | auc=0.5598017038070944 | edges=11.0\n"
     ]
    },
    {
     "name": "stderr",
     "output_type": "stream",
     "text": [
      "100%|██████████| 100/100 [00:00<00:00, 390.63it/s]\n"
     ]
    },
    {
     "name": "stdout",
     "output_type": "stream",
     "text": [
      "LOG: Optimal Simulation: Sparsity Penalty: eq. found: idx=2 | auc=0.5505022589637605 | edges=12.0\n"
     ]
    },
    {
     "name": "stderr",
     "output_type": "stream",
     "text": [
      "100%|██████████| 100/100 [00:00<00:00, 411.52it/s]\n"
     ]
    },
    {
     "name": "stdout",
     "output_type": "stream",
     "text": [
      "LOG: Optimal Simulation: Sparsity Penalty: eq. found: idx=3 | auc=0.5686890990255845 | edges=12.0\n",
      "LOG: Optimal Simulation: Sparsity Penalty: opti case: idx=1 | auc=0.5288564617033873 | edges=11.0\n",
      "LOG: Optimal Simulation (0.5288564617033873 auc): chosen configuration: {\n",
      "    \"cd\": {\n",
      "        \"cd_kwargs\": null,\n",
      "        \"cd_method\": \"PCMCI\"\n",
      "    },\n",
      "    \"fc\": {\n",
      "        \"pred_kwargs\": {},\n",
      "        \"pred_method\": \"TCDF\"\n",
      "    },\n",
      "    \"o\": {\n",
      "        \"noise_approximation\": \"spline\"\n",
      "    },\n",
      "    \"z\": {\n",
      "        \"noise_approximation\": \"spline\"\n",
      "    }\n",
      "}\n",
      "Total number of edges in the ground truth: 11\n",
      "Total number of edges that were predicted: 11\n",
      "AUC: 1.0\n",
      "TPR: 1.0, FPR: 0.0, TNR: 1.0, FNR: 0.0\n",
      "__________________________________ ... ________________________________\n",
      "\n",
      "Total number of edges in the ground truth: 11\n",
      "Total number of edges that were predicted: 11\n",
      "AUC: 1.0\n",
      "TPR: 1.0, FPR: 0.0, TNR: 1.0, FNR: 0.0\n",
      "__________________________________ ... ________________________________\n",
      "\n",
      "\n",
      "\n",
      "------------------------------------- (003)_cp_v10_l1_p86_ts.csv -------------------------------------\n",
      "LOG: Optimal Simulation: 4 TCS configurations are to be tested ...\n",
      "_____________________________________________________________________________________________________________\n",
      "_______________________ {'cd': {'cd_method': 'PCMCI', 'cd_kwargs': None}, 'fc': {'pred_method': 'TCDF', 'pred_kwargs': {}}, 'z': {'noise_approximation': 'est'}, 'o': {'noise_approximation': 'est'}} _______________________\n",
      "LOG : Phase (1) : Causal structure ...\n",
      "LOG : Phase (2) : Functional Dependencies ...\n"
     ]
    },
    {
     "name": "stderr",
     "output_type": "stream",
     "text": [
      "100%|██████████| 1000/1000 [00:01<00:00, 841.98it/s]\n",
      "100%|██████████| 1000/1000 [00:01<00:00, 829.05it/s]\n",
      "100%|██████████| 1000/1000 [00:01<00:00, 875.90it/s]\n",
      "100%|██████████| 1000/1000 [00:00<00:00, 1193.18it/s]\n",
      "100%|██████████| 1000/1000 [00:00<00:00, 1290.45it/s]\n",
      "100%|██████████| 1000/1000 [00:01<00:00, 837.64it/s]\n",
      "100%|██████████| 1000/1000 [00:01<00:00, 845.64it/s]\n"
     ]
    },
    {
     "name": "stdout",
     "output_type": "stream",
     "text": [
      "LOG : Phase (3) : Noise Estimation ...\n",
      "LOG : Simulation Phase : Ancestral Sampling ...\n"
     ]
    },
    {
     "name": "stderr",
     "output_type": "stream",
     "text": [
      "100%|██████████| 1020/1020 [00:08<00:00, 119.78it/s]\n"
     ]
    },
    {
     "name": "stdout",
     "output_type": "stream",
     "text": [
      "LOG: Optimal Detection Config: Searching for the optimal SVC discriminator ...\n"
     ]
    },
    {
     "name": "stderr",
     "output_type": "stream",
     "text": [
      "100%|██████████| 12/12 [00:05<00:00,  2.24it/s]\n"
     ]
    },
    {
     "name": "stdout",
     "output_type": "stream",
     "text": [
      "LOG: Optimal Detection Config: svm_detection_XY: 0.5777649769585254 (auc) || configs: 12 || elapsed_time: 5.36 (s)\n",
      "LOG: Optimal Detection Config: Searching for the optimal LSTM discriminator ...\n"
     ]
    },
    {
     "name": "stderr",
     "output_type": "stream",
     "text": [
      "100%|██████████| 8/8 [00:09<00:00,  1.20s/it]\n"
     ]
    },
    {
     "name": "stdout",
     "output_type": "stream",
     "text": [
      "LOG: Optimal Detection Config: lstm_detection_XY: 0.5990396158463386 (auc) || configs: 8 || elapsed_time: 9.59 (s)\n",
      "LOG: Optimal Simulation: Max C2ST AUC achieved: 0.5661719233147806\n",
      "_____________________________________________________________________________________________________________\n",
      "_____________________________________________________________________________________________________________\n",
      "_______________________ {'cd': {'cd_method': 'PCMCI', 'cd_kwargs': None}, 'fc': {'pred_method': 'TCDF', 'pred_kwargs': {}}, 'z': {'noise_approximation': 'spline'}, 'o': {'noise_approximation': 'spline'}} _______________________\n",
      "LOG : Phase (1) : Causal structure ...\n",
      "LOG : Phase (2) : Functional Dependencies ...\n"
     ]
    },
    {
     "name": "stderr",
     "output_type": "stream",
     "text": [
      "100%|██████████| 1000/1000 [00:01<00:00, 805.33it/s]\n",
      "100%|██████████| 1000/1000 [00:01<00:00, 786.60it/s]\n",
      "100%|██████████| 1000/1000 [00:01<00:00, 860.45it/s]\n",
      "100%|██████████| 1000/1000 [00:00<00:00, 1163.78it/s]\n",
      "100%|██████████| 1000/1000 [00:00<00:00, 1214.16it/s]\n",
      "100%|██████████| 1000/1000 [00:01<00:00, 806.18it/s]\n",
      "100%|██████████| 1000/1000 [00:01<00:00, 841.22it/s]\n"
     ]
    },
    {
     "name": "stdout",
     "output_type": "stream",
     "text": [
      "LOG : Phase (3) : Noise Estimation ...\n",
      "LOG : Simulation Phase : Ancestral Sampling ...\n"
     ]
    },
    {
     "name": "stderr",
     "output_type": "stream",
     "text": [
      "100%|██████████| 1020/1020 [00:08<00:00, 120.33it/s]\n"
     ]
    },
    {
     "name": "stdout",
     "output_type": "stream",
     "text": [
      "LOG: Optimal Detection Config: Searching for the optimal SVC discriminator ...\n"
     ]
    },
    {
     "name": "stderr",
     "output_type": "stream",
     "text": [
      "100%|██████████| 12/12 [00:05<00:00,  2.18it/s]\n"
     ]
    },
    {
     "name": "stdout",
     "output_type": "stream",
     "text": [
      "LOG: Optimal Detection Config: svm_detection_XY: 0.5546915002560163 (auc) || configs: 12 || elapsed_time: 5.51 (s)\n",
      "LOG: Optimal Detection Config: Searching for the optimal LSTM discriminator ...\n"
     ]
    },
    {
     "name": "stderr",
     "output_type": "stream",
     "text": [
      "100%|██████████| 8/8 [00:09<00:00,  1.22s/it]\n"
     ]
    },
    {
     "name": "stdout",
     "output_type": "stream",
     "text": [
      "LOG: Optimal Detection Config: lstm_detection_XY: 0.5785844250363901 (auc) || configs: 8 || elapsed_time: 9.79 (s)\n",
      "LOG: Optimal Simulation: Max C2ST AUC achieved: 0.5740720524017467\n",
      "_____________________________________________________________________________________________________________\n",
      "_____________________________________________________________________________________________________________\n",
      "_______________________ {'cd': {'cd_method': 'PCMCI', 'cd_kwargs': {'n_lags': 3, 'n_reps': 10}}, 'fc': {'pred_method': 'TCDF', 'pred_kwargs': {}}, 'z': {'noise_approximation': 'est'}, 'o': {'noise_approximation': 'est'}} _______________________\n",
      "LOG : Phase (1) : Causal structure ...\n",
      "LOG : Phase (2) : Functional Dependencies ...\n"
     ]
    },
    {
     "name": "stderr",
     "output_type": "stream",
     "text": [
      "100%|██████████| 1000/1000 [00:01<00:00, 825.73it/s]\n",
      "100%|██████████| 1000/1000 [00:01<00:00, 823.15it/s]\n",
      "100%|██████████| 1000/1000 [00:01<00:00, 888.25it/s]\n",
      "100%|██████████| 1000/1000 [00:00<00:00, 1138.23it/s]\n",
      "100%|██████████| 1000/1000 [00:00<00:00, 1302.42it/s]\n",
      "100%|██████████| 1000/1000 [00:01<00:00, 861.65it/s]\n",
      "100%|██████████| 1000/1000 [00:01<00:00, 814.19it/s]\n"
     ]
    },
    {
     "name": "stdout",
     "output_type": "stream",
     "text": [
      "LOG : Phase (3) : Noise Estimation ...\n",
      "LOG : Simulation Phase : Ancestral Sampling ...\n"
     ]
    },
    {
     "name": "stderr",
     "output_type": "stream",
     "text": [
      "100%|██████████| 1020/1020 [00:08<00:00, 118.05it/s]\n"
     ]
    },
    {
     "name": "stdout",
     "output_type": "stream",
     "text": [
      "LOG: Optimal Detection Config: Searching for the optimal SVC discriminator ...\n"
     ]
    },
    {
     "name": "stderr",
     "output_type": "stream",
     "text": [
      "100%|██████████| 12/12 [00:05<00:00,  2.23it/s]\n"
     ]
    },
    {
     "name": "stdout",
     "output_type": "stream",
     "text": [
      "LOG: Optimal Detection Config: svm_detection_XY: 0.6353306446450291 (auc) || configs: 12 || elapsed_time: 5.39 (s)\n",
      "LOG: Optimal Detection Config: Searching for the optimal LSTM discriminator ...\n"
     ]
    },
    {
     "name": "stderr",
     "output_type": "stream",
     "text": [
      "100%|██████████| 8/8 [00:09<00:00,  1.19s/it]\n"
     ]
    },
    {
     "name": "stdout",
     "output_type": "stream",
     "text": [
      "LOG: Optimal Detection Config: lstm_detection_XY: 0.5511390944919734 (auc) || configs: 8 || elapsed_time: 9.48 (s)\n",
      "LOG: Optimal Simulation: Max C2ST AUC achieved: 0.6355066897125664\n",
      "_____________________________________________________________________________________________________________\n",
      "_____________________________________________________________________________________________________________\n",
      "_______________________ {'cd': {'cd_method': 'PCMCI', 'cd_kwargs': {'n_lags': 3, 'n_reps': 10}}, 'fc': {'pred_method': 'TCDF', 'pred_kwargs': {}}, 'z': {'noise_approximation': 'spline'}, 'o': {'noise_approximation': 'spline'}} _______________________\n",
      "LOG : Phase (1) : Causal structure ...\n",
      "LOG : Phase (2) : Functional Dependencies ...\n"
     ]
    },
    {
     "name": "stderr",
     "output_type": "stream",
     "text": [
      "100%|██████████| 1000/1000 [00:01<00:00, 830.79it/s]\n",
      "100%|██████████| 1000/1000 [00:01<00:00, 829.76it/s]\n",
      "100%|██████████| 1000/1000 [00:01<00:00, 885.53it/s]\n",
      "100%|██████████| 1000/1000 [00:00<00:00, 1173.67it/s]\n",
      "100%|██████████| 1000/1000 [00:00<00:00, 1200.49it/s]\n",
      "100%|██████████| 1000/1000 [00:01<00:00, 841.37it/s]\n",
      "100%|██████████| 1000/1000 [00:01<00:00, 869.09it/s]\n"
     ]
    },
    {
     "name": "stdout",
     "output_type": "stream",
     "text": [
      "LOG : Phase (3) : Noise Estimation ...\n",
      "LOG : Simulation Phase : Ancestral Sampling ...\n"
     ]
    },
    {
     "name": "stderr",
     "output_type": "stream",
     "text": [
      "100%|██████████| 1020/1020 [00:08<00:00, 117.75it/s]\n"
     ]
    },
    {
     "name": "stdout",
     "output_type": "stream",
     "text": [
      "LOG: Optimal Detection Config: Searching for the optimal SVC discriminator ...\n"
     ]
    },
    {
     "name": "stderr",
     "output_type": "stream",
     "text": [
      "100%|██████████| 12/12 [00:05<00:00,  2.11it/s]\n"
     ]
    },
    {
     "name": "stdout",
     "output_type": "stream",
     "text": [
      "LOG: Optimal Detection Config: svm_detection_XY: 0.6197296298082333 (auc) || configs: 12 || elapsed_time: 5.69 (s)\n",
      "LOG: Optimal Detection Config: Searching for the optimal LSTM discriminator ...\n"
     ]
    },
    {
     "name": "stderr",
     "output_type": "stream",
     "text": [
      "100%|██████████| 8/8 [00:09<00:00,  1.18s/it]\n"
     ]
    },
    {
     "name": "stdout",
     "output_type": "stream",
     "text": [
      "LOG: Optimal Detection Config: lstm_detection_XY: 0.5593568665377177 (auc) || configs: 8 || elapsed_time: 9.43 (s)\n",
      "LOG: Optimal Simulation: Max C2ST AUC achieved: 0.6197778527913069\n",
      "_____________________________________________________________________________________________________________\n",
      "LOG: Optimal Simulation: Sparsity Penalty: optimal case: idx=0 | auc=0.5661719233147806 | edges=13.0\n"
     ]
    },
    {
     "name": "stderr",
     "output_type": "stream",
     "text": [
      "100%|██████████| 100/100 [00:00<00:00, 471.70it/s]\n"
     ]
    },
    {
     "name": "stdout",
     "output_type": "stream",
     "text": [
      "LOG: Optimal Simulation: Sparsity Penalty: eq. found: idx=1 | auc=0.5740720524017467 | edges=13.0\n"
     ]
    },
    {
     "name": "stderr",
     "output_type": "stream",
     "text": [
      "100%|██████████| 100/100 [00:00<00:00, 471.47it/s]\n"
     ]
    },
    {
     "name": "stdout",
     "output_type": "stream",
     "text": [
      "LOG: Optimal Simulation: Sparsity Penalty: eq. found: idx=2 | auc=0.6355066897125664 | edges=13.0\n"
     ]
    },
    {
     "name": "stderr",
     "output_type": "stream",
     "text": [
      "100%|██████████| 100/100 [00:00<00:00, 394.42it/s]\n"
     ]
    },
    {
     "name": "stdout",
     "output_type": "stream",
     "text": [
      "LOG: Optimal Simulation: Sparsity Penalty: eq. found: idx=3 | auc=0.6197778527913069 | edges=13.0\n",
      "LOG: Optimal Simulation: Sparsity Penalty: opti case: idx=0 | auc=0.5661719233147806 | edges=13.0\n",
      "LOG: Optimal Simulation (0.5661719233147806 auc): chosen configuration: {\n",
      "    \"cd\": {\n",
      "        \"cd_kwargs\": null,\n",
      "        \"cd_method\": \"PCMCI\"\n",
      "    },\n",
      "    \"fc\": {\n",
      "        \"pred_kwargs\": {},\n",
      "        \"pred_method\": \"TCDF\"\n",
      "    },\n",
      "    \"o\": {\n",
      "        \"noise_approximation\": \"est\"\n",
      "    },\n",
      "    \"z\": {\n",
      "        \"noise_approximation\": \"est\"\n",
      "    }\n",
      "}\n",
      "Total number of edges in the ground truth: 13\n",
      "Total number of edges that were predicted: 13\n",
      "AUC: 1.0\n",
      "TPR: 1.0, FPR: 0.0, TNR: 1.0, FNR: 0.0\n",
      "__________________________________ ... ________________________________\n",
      "\n",
      "Total number of edges in the ground truth: 13\n",
      "Total number of edges that were predicted: 13\n",
      "AUC: 1.0\n",
      "TPR: 1.0, FPR: 0.0, TNR: 1.0, FNR: 0.0\n",
      "__________________________________ ... ________________________________\n",
      "\n",
      "\n",
      "\n",
      "------------------------------------- (004)_cp_v10_l1_p83_ts.csv -------------------------------------\n",
      "LOG: Optimal Simulation: 4 TCS configurations are to be tested ...\n",
      "_____________________________________________________________________________________________________________\n",
      "_______________________ {'cd': {'cd_method': 'PCMCI', 'cd_kwargs': None}, 'fc': {'pred_method': 'TCDF', 'pred_kwargs': {}}, 'z': {'noise_approximation': 'est'}, 'o': {'noise_approximation': 'est'}} _______________________\n",
      "LOG : Phase (1) : Causal structure ...\n",
      "LOG : Phase (2) : Functional Dependencies ...\n"
     ]
    },
    {
     "name": "stderr",
     "output_type": "stream",
     "text": [
      "100%|██████████| 1000/1000 [00:00<00:00, 1255.40it/s]\n",
      "100%|██████████| 1000/1000 [00:00<00:00, 1159.64it/s]\n",
      "100%|██████████| 1000/1000 [00:00<00:00, 1199.04it/s]\n",
      "100%|██████████| 1000/1000 [00:00<00:00, 1150.11it/s]\n",
      "100%|██████████| 1000/1000 [00:01<00:00, 842.65it/s]\n",
      "100%|██████████| 1000/1000 [00:01<00:00, 853.46it/s]\n",
      "100%|██████████| 1000/1000 [00:00<00:00, 1090.30it/s]\n",
      "100%|██████████| 1000/1000 [00:01<00:00, 846.37it/s]\n",
      "100%|██████████| 1000/1000 [00:01<00:00, 892.32it/s]\n"
     ]
    },
    {
     "name": "stdout",
     "output_type": "stream",
     "text": [
      "LOG : Phase (3) : Noise Estimation ...\n",
      "LOG : Simulation Phase : Ancestral Sampling ...\n"
     ]
    },
    {
     "name": "stderr",
     "output_type": "stream",
     "text": [
      "100%|██████████| 1020/1020 [00:09<00:00, 111.65it/s]\n"
     ]
    },
    {
     "name": "stdout",
     "output_type": "stream",
     "text": [
      "LOG: Optimal Detection Config: Searching for the optimal SVC discriminator ...\n"
     ]
    },
    {
     "name": "stderr",
     "output_type": "stream",
     "text": [
      "100%|██████████| 12/12 [00:05<00:00,  2.18it/s]\n"
     ]
    },
    {
     "name": "stdout",
     "output_type": "stream",
     "text": [
      "LOG: Optimal Detection Config: svm_detection_XY: 0.5362785114045617 (auc) || configs: 12 || elapsed_time: 5.49 (s)\n",
      "LOG: Optimal Detection Config: Searching for the optimal LSTM discriminator ...\n"
     ]
    },
    {
     "name": "stderr",
     "output_type": "stream",
     "text": [
      "100%|██████████| 8/8 [00:09<00:00,  1.16s/it]\n"
     ]
    },
    {
     "name": "stdout",
     "output_type": "stream",
     "text": [
      "LOG: Optimal Detection Config: lstm_detection_XY: 0.5182372203019829 (auc) || configs: 8 || elapsed_time: 9.29 (s)\n",
      "LOG: Optimal Simulation: Max C2ST AUC achieved: 0.5266586634653861\n",
      "_____________________________________________________________________________________________________________\n",
      "_____________________________________________________________________________________________________________\n",
      "_______________________ {'cd': {'cd_method': 'PCMCI', 'cd_kwargs': None}, 'fc': {'pred_method': 'TCDF', 'pred_kwargs': {}}, 'z': {'noise_approximation': 'spline'}, 'o': {'noise_approximation': 'spline'}} _______________________\n",
      "LOG : Phase (1) : Causal structure ...\n",
      "LOG : Phase (2) : Functional Dependencies ...\n"
     ]
    },
    {
     "name": "stderr",
     "output_type": "stream",
     "text": [
      "100%|██████████| 1000/1000 [00:00<00:00, 1180.97it/s]\n",
      "100%|██████████| 1000/1000 [00:00<00:00, 1192.45it/s]\n",
      "100%|██████████| 1000/1000 [00:00<00:00, 1260.28it/s]\n",
      "100%|██████████| 1000/1000 [00:00<00:00, 1306.12it/s]\n",
      "100%|██████████| 1000/1000 [00:01<00:00, 863.44it/s]\n",
      "100%|██████████| 1000/1000 [00:01<00:00, 826.59it/s]\n",
      "100%|██████████| 1000/1000 [00:00<00:00, 1225.05it/s]\n",
      "100%|██████████| 1000/1000 [00:01<00:00, 849.83it/s]\n",
      "100%|██████████| 1000/1000 [00:01<00:00, 879.88it/s]\n"
     ]
    },
    {
     "name": "stdout",
     "output_type": "stream",
     "text": [
      "LOG : Phase (3) : Noise Estimation ...\n",
      "LOG : Simulation Phase : Ancestral Sampling ...\n"
     ]
    },
    {
     "name": "stderr",
     "output_type": "stream",
     "text": [
      "100%|██████████| 1020/1020 [00:09<00:00, 110.91it/s]\n"
     ]
    },
    {
     "name": "stdout",
     "output_type": "stream",
     "text": [
      "LOG: Optimal Detection Config: Searching for the optimal SVC discriminator ...\n"
     ]
    },
    {
     "name": "stderr",
     "output_type": "stream",
     "text": [
      "100%|██████████| 12/12 [00:05<00:00,  2.22it/s]\n"
     ]
    },
    {
     "name": "stdout",
     "output_type": "stream",
     "text": [
      "LOG: Optimal Detection Config: svm_detection_XY: 0.5562168570467325 (auc) || configs: 12 || elapsed_time: 5.4 (s)\n",
      "LOG: Optimal Detection Config: Searching for the optimal LSTM discriminator ...\n"
     ]
    },
    {
     "name": "stderr",
     "output_type": "stream",
     "text": [
      "100%|██████████| 8/8 [00:09<00:00,  1.18s/it]\n"
     ]
    },
    {
     "name": "stdout",
     "output_type": "stream",
     "text": [
      "LOG: Optimal Detection Config: lstm_detection_XY: 0.5404382325107375 (auc) || configs: 8 || elapsed_time: 9.47 (s)\n",
      "LOG: Optimal Simulation: Max C2ST AUC achieved: 0.5562168570467325\n",
      "_____________________________________________________________________________________________________________\n",
      "_____________________________________________________________________________________________________________\n",
      "_______________________ {'cd': {'cd_method': 'PCMCI', 'cd_kwargs': {'n_lags': 3, 'n_reps': 10}}, 'fc': {'pred_method': 'TCDF', 'pred_kwargs': {}}, 'z': {'noise_approximation': 'est'}, 'o': {'noise_approximation': 'est'}} _______________________\n",
      "LOG : Phase (1) : Causal structure ...\n",
      "LOG : Phase (2) : Functional Dependencies ...\n"
     ]
    },
    {
     "name": "stderr",
     "output_type": "stream",
     "text": [
      "100%|██████████| 1000/1000 [00:00<00:00, 1195.30it/s]\n",
      "100%|██████████| 1000/1000 [00:00<00:00, 1143.16it/s]\n",
      "100%|██████████| 1000/1000 [00:00<00:00, 1094.08it/s]\n",
      "100%|██████████| 1000/1000 [00:00<00:00, 1142.54it/s]\n",
      "100%|██████████| 1000/1000 [00:01<00:00, 785.55it/s]\n",
      "100%|██████████| 1000/1000 [00:01<00:00, 745.16it/s]\n",
      "100%|██████████| 1000/1000 [00:00<00:00, 1047.12it/s]\n",
      "100%|██████████| 1000/1000 [00:01<00:00, 784.93it/s]\n",
      "100%|██████████| 1000/1000 [00:01<00:00, 745.16it/s]\n"
     ]
    },
    {
     "name": "stdout",
     "output_type": "stream",
     "text": [
      "LOG : Phase (3) : Noise Estimation ...\n",
      "LOG : Simulation Phase : Ancestral Sampling ...\n"
     ]
    },
    {
     "name": "stderr",
     "output_type": "stream",
     "text": [
      "100%|██████████| 1020/1020 [00:09<00:00, 110.95it/s]\n"
     ]
    },
    {
     "name": "stdout",
     "output_type": "stream",
     "text": [
      "LOG: Optimal Detection Config: Searching for the optimal SVC discriminator ...\n"
     ]
    },
    {
     "name": "stderr",
     "output_type": "stream",
     "text": [
      "100%|██████████| 12/12 [00:05<00:00,  2.22it/s]\n"
     ]
    },
    {
     "name": "stdout",
     "output_type": "stream",
     "text": [
      "LOG: Optimal Detection Config: svm_detection_XY: 0.5962345441732335 (auc) || configs: 12 || elapsed_time: 5.41 (s)\n",
      "LOG: Optimal Detection Config: Searching for the optimal LSTM discriminator ...\n"
     ]
    },
    {
     "name": "stderr",
     "output_type": "stream",
     "text": [
      "100%|██████████| 8/8 [00:09<00:00,  1.18s/it]\n"
     ]
    },
    {
     "name": "stdout",
     "output_type": "stream",
     "text": [
      "LOG: Optimal Detection Config: lstm_detection_XY: 0.5740089167369563 (auc) || configs: 8 || elapsed_time: 9.4 (s)\n",
      "LOG: Optimal Simulation: Max C2ST AUC achieved: 0.59544173233391\n",
      "_____________________________________________________________________________________________________________\n",
      "_____________________________________________________________________________________________________________\n",
      "_______________________ {'cd': {'cd_method': 'PCMCI', 'cd_kwargs': {'n_lags': 3, 'n_reps': 10}}, 'fc': {'pred_method': 'TCDF', 'pred_kwargs': {}}, 'z': {'noise_approximation': 'spline'}, 'o': {'noise_approximation': 'spline'}} _______________________\n",
      "LOG : Phase (1) : Causal structure ...\n",
      "LOG : Phase (2) : Functional Dependencies ...\n"
     ]
    },
    {
     "name": "stderr",
     "output_type": "stream",
     "text": [
      "100%|██████████| 1000/1000 [00:00<00:00, 1225.84it/s]\n",
      "100%|██████████| 1000/1000 [00:00<00:00, 1291.43it/s]\n",
      "100%|██████████| 1000/1000 [00:00<00:00, 1224.33it/s]\n",
      "100%|██████████| 1000/1000 [00:00<00:00, 1287.47it/s]\n",
      "100%|██████████| 1000/1000 [00:01<00:00, 799.48it/s]\n",
      "100%|██████████| 1000/1000 [00:01<00:00, 828.19it/s]\n",
      "100%|██████████| 1000/1000 [00:00<00:00, 1163.39it/s]\n",
      "100%|██████████| 1000/1000 [00:01<00:00, 817.85it/s]\n",
      "100%|██████████| 1000/1000 [00:01<00:00, 867.53it/s]\n"
     ]
    },
    {
     "name": "stdout",
     "output_type": "stream",
     "text": [
      "LOG : Phase (3) : Noise Estimation ...\n",
      "LOG : Simulation Phase : Ancestral Sampling ...\n"
     ]
    },
    {
     "name": "stderr",
     "output_type": "stream",
     "text": [
      "100%|██████████| 1020/1020 [00:08<00:00, 114.04it/s]\n"
     ]
    },
    {
     "name": "stdout",
     "output_type": "stream",
     "text": [
      "LOG: Optimal Detection Config: Searching for the optimal SVC discriminator ...\n"
     ]
    },
    {
     "name": "stderr",
     "output_type": "stream",
     "text": [
      "100%|██████████| 12/12 [00:05<00:00,  2.19it/s]\n"
     ]
    },
    {
     "name": "stdout",
     "output_type": "stream",
     "text": [
      "LOG: Optimal Detection Config: svm_detection_XY: 0.5438707070707071 (auc) || configs: 12 || elapsed_time: 5.48 (s)\n",
      "LOG: Optimal Detection Config: Searching for the optimal LSTM discriminator ...\n"
     ]
    },
    {
     "name": "stderr",
     "output_type": "stream",
     "text": [
      "100%|██████████| 8/8 [00:09<00:00,  1.17s/it]\n"
     ]
    },
    {
     "name": "stdout",
     "output_type": "stream",
     "text": [
      "LOG: Optimal Detection Config: lstm_detection_XY: 0.5246879166161678 (auc) || configs: 8 || elapsed_time: 9.36 (s)\n",
      "LOG: Optimal Simulation: Max C2ST AUC achieved: 0.5447515151515151\n",
      "_____________________________________________________________________________________________________________\n",
      "LOG: Optimal Simulation: Sparsity Penalty: optimal case: idx=0 | auc=0.5266586634653861 | edges=14.0\n"
     ]
    },
    {
     "name": "stderr",
     "output_type": "stream",
     "text": [
      "100%|██████████| 100/100 [00:00<00:00, 387.55it/s]\n"
     ]
    },
    {
     "name": "stdout",
     "output_type": "stream",
     "text": [
      "LOG: Optimal Simulation: Sparsity Penalty: eq. found: idx=1 | auc=0.5562168570467325 | edges=14.0\n"
     ]
    },
    {
     "name": "stderr",
     "output_type": "stream",
     "text": [
      "100%|██████████| 100/100 [00:00<00:00, 453.06it/s]\n"
     ]
    },
    {
     "name": "stdout",
     "output_type": "stream",
     "text": [
      "LOG: Optimal Simulation: Sparsity Penalty: eq. found: idx=2 | auc=0.59544173233391 | edges=14.0\n"
     ]
    },
    {
     "name": "stderr",
     "output_type": "stream",
     "text": [
      "100%|██████████| 100/100 [00:00<00:00, 459.76it/s]\n"
     ]
    },
    {
     "name": "stdout",
     "output_type": "stream",
     "text": [
      "LOG: Optimal Simulation: Sparsity Penalty: eq. found: idx=3 | auc=0.5447515151515151 | edges=14.0\n",
      "LOG: Optimal Simulation: Sparsity Penalty: opti case: idx=0 | auc=0.5266586634653861 | edges=14.0\n",
      "LOG: Optimal Simulation (0.5266586634653861 auc): chosen configuration: {\n",
      "    \"cd\": {\n",
      "        \"cd_kwargs\": null,\n",
      "        \"cd_method\": \"PCMCI\"\n",
      "    },\n",
      "    \"fc\": {\n",
      "        \"pred_kwargs\": {},\n",
      "        \"pred_method\": \"TCDF\"\n",
      "    },\n",
      "    \"o\": {\n",
      "        \"noise_approximation\": \"est\"\n",
      "    },\n",
      "    \"z\": {\n",
      "        \"noise_approximation\": \"est\"\n",
      "    }\n",
      "}\n",
      "Total number of edges in the ground truth: 13\n",
      "Total number of edges that were predicted: 14\n",
      "AUC: 0.9942528605461121\n",
      "TPR: 1.0, FPR: 0.01149425283074379, TNR: 0.9885057210922241, FNR: 0.0\n",
      "__________________________________ ... ________________________________\n",
      "\n",
      "Total number of edges in the ground truth: 13\n",
      "Total number of edges that were predicted: 14\n",
      "AUC: 0.9942528605461121\n",
      "TPR: 1.0, FPR: 0.01149425283074379, TNR: 0.9885057210922241, FNR: 0.0\n",
      "__________________________________ ... ________________________________\n",
      "\n",
      "\n",
      "\n",
      "------------------------------------- (005)_cp_v10_l1_p80_ts.csv -------------------------------------\n",
      "LOG: Optimal Simulation: 4 TCS configurations are to be tested ...\n",
      "_____________________________________________________________________________________________________________\n",
      "_______________________ {'cd': {'cd_method': 'PCMCI', 'cd_kwargs': None}, 'fc': {'pred_method': 'TCDF', 'pred_kwargs': {}}, 'z': {'noise_approximation': 'est'}, 'o': {'noise_approximation': 'est'}} _______________________\n",
      "LOG : Phase (1) : Causal structure ...\n",
      "LOG : Phase (2) : Functional Dependencies ...\n"
     ]
    },
    {
     "name": "stderr",
     "output_type": "stream",
     "text": [
      "100%|██████████| 1000/1000 [00:01<00:00, 878.71it/s]\n",
      "100%|██████████| 1000/1000 [00:00<00:00, 1141.39it/s]\n",
      "100%|██████████| 1000/1000 [00:01<00:00, 837.89it/s]\n",
      "100%|██████████| 1000/1000 [00:01<00:00, 866.66it/s]\n",
      "100%|██████████| 1000/1000 [00:01<00:00, 814.01it/s]\n",
      "100%|██████████| 1000/1000 [00:01<00:00, 817.80it/s]\n",
      "100%|██████████| 1000/1000 [00:00<00:00, 1254.71it/s]\n",
      "100%|██████████| 1000/1000 [00:01<00:00, 820.04it/s]\n",
      "100%|██████████| 1000/1000 [00:01<00:00, 885.66it/s]\n"
     ]
    },
    {
     "name": "stdout",
     "output_type": "stream",
     "text": [
      "LOG : Phase (3) : Noise Estimation ...\n",
      "LOG : Simulation Phase : Ancestral Sampling ...\n"
     ]
    },
    {
     "name": "stderr",
     "output_type": "stream",
     "text": [
      "100%|██████████| 1020/1020 [00:09<00:00, 107.86it/s]\n"
     ]
    },
    {
     "name": "stdout",
     "output_type": "stream",
     "text": [
      "LOG: Optimal Detection Config: Searching for the optimal SVC discriminator ...\n"
     ]
    },
    {
     "name": "stderr",
     "output_type": "stream",
     "text": [
      "100%|██████████| 12/12 [00:05<00:00,  2.27it/s]\n"
     ]
    },
    {
     "name": "stdout",
     "output_type": "stream",
     "text": [
      "LOG: Optimal Detection Config: svm_detection_XY: 0.5838950950179764 (auc) || configs: 12 || elapsed_time: 5.29 (s)\n",
      "LOG: Optimal Detection Config: Searching for the optimal LSTM discriminator ...\n"
     ]
    },
    {
     "name": "stderr",
     "output_type": "stream",
     "text": [
      "100%|██████████| 8/8 [00:09<00:00,  1.16s/it]\n"
     ]
    },
    {
     "name": "stdout",
     "output_type": "stream",
     "text": [
      "LOG: Optimal Detection Config: lstm_detection_XY: 0.5596164383561644 (auc) || configs: 8 || elapsed_time: 9.27 (s)\n",
      "LOG: Optimal Simulation: Max C2ST AUC achieved: 0.5828197226502312\n",
      "_____________________________________________________________________________________________________________\n",
      "_____________________________________________________________________________________________________________\n",
      "_______________________ {'cd': {'cd_method': 'PCMCI', 'cd_kwargs': None}, 'fc': {'pred_method': 'TCDF', 'pred_kwargs': {}}, 'z': {'noise_approximation': 'spline'}, 'o': {'noise_approximation': 'spline'}} _______________________\n",
      "LOG : Phase (1) : Causal structure ...\n",
      "LOG : Phase (2) : Functional Dependencies ...\n"
     ]
    },
    {
     "name": "stderr",
     "output_type": "stream",
     "text": [
      "100%|██████████| 1000/1000 [00:01<00:00, 835.79it/s]\n",
      "100%|██████████| 1000/1000 [00:00<00:00, 1167.84it/s]\n",
      "100%|██████████| 1000/1000 [00:01<00:00, 887.06it/s]\n",
      "100%|██████████| 1000/1000 [00:01<00:00, 841.13it/s]\n",
      "100%|██████████| 1000/1000 [00:01<00:00, 811.91it/s]\n",
      "100%|██████████| 1000/1000 [00:01<00:00, 872.89it/s]\n",
      "100%|██████████| 1000/1000 [00:00<00:00, 1119.54it/s]\n",
      "100%|██████████| 1000/1000 [00:01<00:00, 877.44it/s]\n",
      "100%|██████████| 1000/1000 [00:01<00:00, 842.59it/s]\n"
     ]
    },
    {
     "name": "stdout",
     "output_type": "stream",
     "text": [
      "LOG : Phase (3) : Noise Estimation ...\n",
      "LOG : Simulation Phase : Ancestral Sampling ...\n"
     ]
    },
    {
     "name": "stderr",
     "output_type": "stream",
     "text": [
      "100%|██████████| 1020/1020 [00:09<00:00, 109.34it/s]\n"
     ]
    },
    {
     "name": "stdout",
     "output_type": "stream",
     "text": [
      "LOG: Optimal Detection Config: Searching for the optimal SVC discriminator ...\n"
     ]
    },
    {
     "name": "stderr",
     "output_type": "stream",
     "text": [
      "100%|██████████| 12/12 [00:05<00:00,  2.12it/s]\n"
     ]
    },
    {
     "name": "stdout",
     "output_type": "stream",
     "text": [
      "LOG: Optimal Detection Config: svm_detection_XY: 0.5142596065983744 (auc) || configs: 12 || elapsed_time: 5.65 (s)\n",
      "LOG: Optimal Detection Config: Searching for the optimal LSTM discriminator ...\n"
     ]
    },
    {
     "name": "stderr",
     "output_type": "stream",
     "text": [
      "100%|██████████| 8/8 [00:09<00:00,  1.17s/it]\n"
     ]
    },
    {
     "name": "stdout",
     "output_type": "stream",
     "text": [
      "LOG: Optimal Detection Config: lstm_detection_XY: 0.55953985367732 (auc) || configs: 8 || elapsed_time: 9.33 (s)\n",
      "LOG: Optimal Simulation: Max C2ST AUC achieved: 0.5582643434732384\n",
      "_____________________________________________________________________________________________________________\n",
      "_____________________________________________________________________________________________________________\n",
      "_______________________ {'cd': {'cd_method': 'PCMCI', 'cd_kwargs': {'n_lags': 3, 'n_reps': 10}}, 'fc': {'pred_method': 'TCDF', 'pred_kwargs': {}}, 'z': {'noise_approximation': 'est'}, 'o': {'noise_approximation': 'est'}} _______________________\n",
      "LOG : Phase (1) : Causal structure ...\n",
      "LOG : Phase (2) : Functional Dependencies ...\n"
     ]
    },
    {
     "name": "stderr",
     "output_type": "stream",
     "text": [
      "100%|██████████| 1000/1000 [00:01<00:00, 865.36it/s]\n",
      "100%|██████████| 1000/1000 [00:00<00:00, 1085.13it/s]\n",
      "100%|██████████| 1000/1000 [00:01<00:00, 831.01it/s]\n",
      "100%|██████████| 1000/1000 [00:01<00:00, 863.57it/s]\n",
      "100%|██████████| 1000/1000 [00:01<00:00, 823.40it/s]\n",
      "100%|██████████| 1000/1000 [00:01<00:00, 839.93it/s]\n",
      "100%|██████████| 1000/1000 [00:00<00:00, 1249.96it/s]\n",
      "100%|██████████| 1000/1000 [00:01<00:00, 839.99it/s]\n",
      "100%|██████████| 1000/1000 [00:00<00:00, 1234.77it/s]\n",
      "100%|██████████| 1000/1000 [00:01<00:00, 842.93it/s]\n"
     ]
    },
    {
     "name": "stdout",
     "output_type": "stream",
     "text": [
      "LOG : Phase (3) : Noise Estimation ...\n",
      "LOG : Simulation Phase : Ancestral Sampling ...\n"
     ]
    },
    {
     "name": "stderr",
     "output_type": "stream",
     "text": [
      "100%|██████████| 1020/1020 [00:09<00:00, 104.73it/s]\n"
     ]
    },
    {
     "name": "stdout",
     "output_type": "stream",
     "text": [
      "LOG: Optimal Detection Config: Searching for the optimal SVC discriminator ...\n"
     ]
    },
    {
     "name": "stderr",
     "output_type": "stream",
     "text": [
      "100%|██████████| 12/12 [00:05<00:00,  2.21it/s]\n"
     ]
    },
    {
     "name": "stdout",
     "output_type": "stream",
     "text": [
      "LOG: Optimal Detection Config: svm_detection_XY: 0.6111751152073732 (auc) || configs: 12 || elapsed_time: 5.44 (s)\n",
      "LOG: Optimal Detection Config: Searching for the optimal LSTM discriminator ...\n"
     ]
    },
    {
     "name": "stderr",
     "output_type": "stream",
     "text": [
      "100%|██████████| 8/8 [00:09<00:00,  1.16s/it]\n"
     ]
    },
    {
     "name": "stdout",
     "output_type": "stream",
     "text": [
      "LOG: Optimal Detection Config: lstm_detection_XY: 0.5400678422787307 (auc) || configs: 8 || elapsed_time: 9.29 (s)\n",
      "LOG: Optimal Simulation: Max C2ST AUC achieved: 0.6114951356886841\n",
      "_____________________________________________________________________________________________________________\n",
      "_____________________________________________________________________________________________________________\n",
      "_______________________ {'cd': {'cd_method': 'PCMCI', 'cd_kwargs': {'n_lags': 3, 'n_reps': 10}}, 'fc': {'pred_method': 'TCDF', 'pred_kwargs': {}}, 'z': {'noise_approximation': 'spline'}, 'o': {'noise_approximation': 'spline'}} _______________________\n",
      "LOG : Phase (1) : Causal structure ...\n",
      "LOG : Phase (2) : Functional Dependencies ...\n"
     ]
    },
    {
     "name": "stderr",
     "output_type": "stream",
     "text": [
      "100%|██████████| 1000/1000 [00:01<00:00, 884.99it/s]\n",
      "100%|██████████| 1000/1000 [00:00<00:00, 1127.36it/s]\n",
      "100%|██████████| 1000/1000 [00:01<00:00, 854.91it/s]\n",
      "100%|██████████| 1000/1000 [00:01<00:00, 897.00it/s]\n",
      "100%|██████████| 1000/1000 [00:01<00:00, 824.88it/s]\n",
      "100%|██████████| 1000/1000 [00:01<00:00, 895.64it/s]\n",
      "100%|██████████| 1000/1000 [00:00<00:00, 1162.02it/s]\n",
      "100%|██████████| 1000/1000 [00:01<00:00, 855.78it/s]\n",
      "100%|██████████| 1000/1000 [00:00<00:00, 1241.64it/s]\n",
      "100%|██████████| 1000/1000 [00:01<00:00, 859.49it/s]\n"
     ]
    },
    {
     "name": "stdout",
     "output_type": "stream",
     "text": [
      "LOG : Phase (3) : Noise Estimation ...\n",
      "LOG : Simulation Phase : Ancestral Sampling ...\n"
     ]
    },
    {
     "name": "stderr",
     "output_type": "stream",
     "text": [
      "100%|██████████| 1020/1020 [00:09<00:00, 103.95it/s]\n"
     ]
    },
    {
     "name": "stdout",
     "output_type": "stream",
     "text": [
      "LOG: Optimal Detection Config: Searching for the optimal SVC discriminator ...\n"
     ]
    },
    {
     "name": "stderr",
     "output_type": "stream",
     "text": [
      "100%|██████████| 12/12 [00:05<00:00,  2.32it/s]\n"
     ]
    },
    {
     "name": "stdout",
     "output_type": "stream",
     "text": [
      "LOG: Optimal Detection Config: svm_detection_XY: 0.6457049306625577 (auc) || configs: 12 || elapsed_time: 5.17 (s)\n",
      "LOG: Optimal Detection Config: Searching for the optimal LSTM discriminator ...\n"
     ]
    },
    {
     "name": "stderr",
     "output_type": "stream",
     "text": [
      "100%|██████████| 8/8 [00:10<00:00,  1.28s/it]\n"
     ]
    },
    {
     "name": "stdout",
     "output_type": "stream",
     "text": [
      "LOG: Optimal Detection Config: lstm_detection_XY: 0.5345753424657534 (auc) || configs: 8 || elapsed_time: 10.21 (s)\n",
      "LOG: Optimal Simulation: Max C2ST AUC achieved: 0.6458413585002567\n",
      "_____________________________________________________________________________________________________________\n",
      "LOG: Optimal Simulation: Sparsity Penalty: optimal case: idx=1 | auc=0.5582643434732384 | edges=19.0\n"
     ]
    },
    {
     "name": "stderr",
     "output_type": "stream",
     "text": [
      "100%|██████████| 100/100 [00:00<00:00, 434.78it/s]\n"
     ]
    },
    {
     "name": "stdout",
     "output_type": "stream",
     "text": [
      "LOG: Optimal Simulation: Sparsity Penalty: eq. found: idx=0 | auc=0.5828197226502312 | edges=19.0\n"
     ]
    },
    {
     "name": "stderr",
     "output_type": "stream",
     "text": [
      "100%|██████████| 100/100 [00:00<00:00, 427.36it/s]\n"
     ]
    },
    {
     "name": "stdout",
     "output_type": "stream",
     "text": [
      "LOG: Optimal Simulation: Sparsity Penalty: eq. found: idx=2 | auc=0.6114951356886841 | edges=20.0\n"
     ]
    },
    {
     "name": "stderr",
     "output_type": "stream",
     "text": [
      "100%|██████████| 100/100 [00:00<00:00, 340.53it/s]\n"
     ]
    },
    {
     "name": "stdout",
     "output_type": "stream",
     "text": [
      "LOG: Optimal Simulation: Sparsity Penalty: opti case: idx=1 | auc=0.5582643434732384 | edges=19.0\n",
      "LOG: Optimal Simulation (0.5582643434732384 auc): chosen configuration: {\n",
      "    \"cd\": {\n",
      "        \"cd_kwargs\": null,\n",
      "        \"cd_method\": \"PCMCI\"\n",
      "    },\n",
      "    \"fc\": {\n",
      "        \"pred_kwargs\": {},\n",
      "        \"pred_method\": \"TCDF\"\n",
      "    },\n",
      "    \"o\": {\n",
      "        \"noise_approximation\": \"spline\"\n",
      "    },\n",
      "    \"z\": {\n",
      "        \"noise_approximation\": \"spline\"\n",
      "    }\n",
      "}\n",
      "Total number of edges in the ground truth: 18\n",
      "Total number of edges that were predicted: 19\n",
      "AUC: 0.9939024448394775\n",
      "TPR: 1.0, FPR: 0.012195121496915817, TNR: 0.9878048896789551, FNR: 0.0\n",
      "__________________________________ ... ________________________________\n",
      "\n",
      "Total number of edges in the ground truth: 18\n",
      "Total number of edges that were predicted: 19\n",
      "AUC: 0.9939024448394775\n",
      "TPR: 1.0, FPR: 0.012195121496915817, TNR: 0.9878048896789551, FNR: 0.0\n",
      "__________________________________ ... ________________________________\n",
      "\n",
      "\n",
      "\n",
      "------------------------------------- (006)_cp_v10_l1_p77_ts.csv -------------------------------------\n",
      "LOG: Optimal Simulation: 4 TCS configurations are to be tested ...\n",
      "_____________________________________________________________________________________________________________\n",
      "_______________________ {'cd': {'cd_method': 'PCMCI', 'cd_kwargs': None}, 'fc': {'pred_method': 'TCDF', 'pred_kwargs': {}}, 'z': {'noise_approximation': 'est'}, 'o': {'noise_approximation': 'est'}} _______________________\n",
      "LOG : Phase (1) : Causal structure ...\n",
      "LOG : Phase (2) : Functional Dependencies ...\n"
     ]
    },
    {
     "name": "stderr",
     "output_type": "stream",
     "text": [
      "100%|██████████| 1000/1000 [00:01<00:00, 874.91it/s]\n",
      "100%|██████████| 1000/1000 [00:01<00:00, 836.55it/s]\n",
      "100%|██████████| 1000/1000 [00:01<00:00, 855.26it/s]\n",
      "100%|██████████| 1000/1000 [00:00<00:00, 1171.54it/s]\n",
      "100%|██████████| 1000/1000 [00:01<00:00, 844.46it/s]\n",
      "100%|██████████| 1000/1000 [00:00<00:00, 1156.57it/s]\n",
      "100%|██████████| 1000/1000 [00:01<00:00, 850.59it/s]\n",
      "100%|██████████| 1000/1000 [00:01<00:00, 851.06it/s]\n",
      "100%|██████████| 1000/1000 [00:01<00:00, 907.70it/s]\n"
     ]
    },
    {
     "name": "stdout",
     "output_type": "stream",
     "text": [
      "LOG : Phase (3) : Noise Estimation ...\n",
      "LOG : Simulation Phase : Ancestral Sampling ...\n"
     ]
    },
    {
     "name": "stderr",
     "output_type": "stream",
     "text": [
      "100%|██████████| 1020/1020 [00:09<00:00, 110.25it/s]\n"
     ]
    },
    {
     "name": "stdout",
     "output_type": "stream",
     "text": [
      "LOG: Optimal Detection Config: Searching for the optimal SVC discriminator ...\n"
     ]
    },
    {
     "name": "stderr",
     "output_type": "stream",
     "text": [
      "100%|██████████| 12/12 [00:05<00:00,  2.03it/s]\n"
     ]
    },
    {
     "name": "stdout",
     "output_type": "stream",
     "text": [
      "LOG: Optimal Detection Config: svm_detection_XY: 0.5204791840400282 (auc) || configs: 12 || elapsed_time: 5.92 (s)\n",
      "LOG: Optimal Detection Config: Searching for the optimal LSTM discriminator ...\n"
     ]
    },
    {
     "name": "stderr",
     "output_type": "stream",
     "text": [
      "100%|██████████| 8/8 [00:08<00:00,  1.11s/it]\n"
     ]
    },
    {
     "name": "stdout",
     "output_type": "stream",
     "text": [
      "LOG: Optimal Detection Config: lstm_detection_XY: 0.522971099109619 (auc) || configs: 8 || elapsed_time: 8.87 (s)\n",
      "LOG: Optimal Simulation: Max C2ST AUC achieved: 0.5193584878119982\n",
      "_____________________________________________________________________________________________________________\n",
      "_____________________________________________________________________________________________________________\n",
      "_______________________ {'cd': {'cd_method': 'PCMCI', 'cd_kwargs': None}, 'fc': {'pred_method': 'TCDF', 'pred_kwargs': {}}, 'z': {'noise_approximation': 'spline'}, 'o': {'noise_approximation': 'spline'}} _______________________\n",
      "LOG : Phase (1) : Causal structure ...\n",
      "LOG : Phase (2) : Functional Dependencies ...\n"
     ]
    },
    {
     "name": "stderr",
     "output_type": "stream",
     "text": [
      "100%|██████████| 1000/1000 [00:01<00:00, 865.37it/s]\n",
      "100%|██████████| 1000/1000 [00:01<00:00, 905.77it/s]\n",
      "100%|██████████| 1000/1000 [00:01<00:00, 852.34it/s]\n",
      "100%|██████████| 1000/1000 [00:00<00:00, 1156.31it/s]\n",
      "100%|██████████| 1000/1000 [00:01<00:00, 867.15it/s]\n",
      "100%|██████████| 1000/1000 [00:01<00:00, 944.99it/s]\n",
      "100%|██████████| 1000/1000 [00:01<00:00, 620.35it/s]\n",
      "100%|██████████| 1000/1000 [00:01<00:00, 854.80it/s]\n",
      "100%|██████████| 1000/1000 [00:01<00:00, 870.95it/s]\n"
     ]
    },
    {
     "name": "stdout",
     "output_type": "stream",
     "text": [
      "LOG : Phase (3) : Noise Estimation ...\n",
      "LOG : Simulation Phase : Ancestral Sampling ...\n"
     ]
    },
    {
     "name": "stderr",
     "output_type": "stream",
     "text": [
      "100%|██████████| 1020/1020 [00:09<00:00, 105.11it/s]\n"
     ]
    },
    {
     "name": "stdout",
     "output_type": "stream",
     "text": [
      "LOG: Optimal Detection Config: Searching for the optimal SVC discriminator ...\n"
     ]
    },
    {
     "name": "stderr",
     "output_type": "stream",
     "text": [
      "100%|██████████| 12/12 [00:05<00:00,  2.26it/s]\n"
     ]
    },
    {
     "name": "stdout",
     "output_type": "stream",
     "text": [
      "LOG: Optimal Detection Config: svm_detection_XY: 0.5835681352459017 (auc) || configs: 12 || elapsed_time: 5.31 (s)\n",
      "LOG: Optimal Detection Config: Searching for the optimal LSTM discriminator ...\n"
     ]
    },
    {
     "name": "stderr",
     "output_type": "stream",
     "text": [
      "100%|██████████| 8/8 [00:08<00:00,  1.11s/it]\n"
     ]
    },
    {
     "name": "stdout",
     "output_type": "stream",
     "text": [
      "LOG: Optimal Detection Config: lstm_detection_XY: 0.5284961628214689 (auc) || configs: 8 || elapsed_time: 8.87 (s)\n",
      "LOG: Optimal Simulation: Max C2ST AUC achieved: 0.5834480660860656\n",
      "_____________________________________________________________________________________________________________\n",
      "_____________________________________________________________________________________________________________\n",
      "_______________________ {'cd': {'cd_method': 'PCMCI', 'cd_kwargs': {'n_lags': 3, 'n_reps': 10}}, 'fc': {'pred_method': 'TCDF', 'pred_kwargs': {}}, 'z': {'noise_approximation': 'est'}, 'o': {'noise_approximation': 'est'}} _______________________\n",
      "LOG : Phase (1) : Causal structure ...\n",
      "LOG : Phase (2) : Functional Dependencies ...\n"
     ]
    },
    {
     "name": "stderr",
     "output_type": "stream",
     "text": [
      "100%|██████████| 1000/1000 [00:01<00:00, 854.92it/s]\n",
      "100%|██████████| 1000/1000 [00:01<00:00, 889.14it/s]\n",
      "100%|██████████| 1000/1000 [00:01<00:00, 857.51it/s]\n",
      "100%|██████████| 1000/1000 [00:00<00:00, 1174.54it/s]\n",
      "100%|██████████| 1000/1000 [00:01<00:00, 868.32it/s]\n",
      "100%|██████████| 1000/1000 [00:00<00:00, 1158.09it/s]\n",
      "100%|██████████| 1000/1000 [00:01<00:00, 901.96it/s]\n",
      "100%|██████████| 1000/1000 [00:01<00:00, 841.26it/s]\n",
      "100%|██████████| 1000/1000 [00:01<00:00, 880.91it/s]\n"
     ]
    },
    {
     "name": "stdout",
     "output_type": "stream",
     "text": [
      "LOG : Phase (3) : Noise Estimation ...\n",
      "LOG : Simulation Phase : Ancestral Sampling ...\n"
     ]
    },
    {
     "name": "stderr",
     "output_type": "stream",
     "text": [
      "100%|██████████| 1020/1020 [00:09<00:00, 109.27it/s]\n"
     ]
    },
    {
     "name": "stdout",
     "output_type": "stream",
     "text": [
      "LOG: Optimal Detection Config: Searching for the optimal SVC discriminator ...\n"
     ]
    },
    {
     "name": "stderr",
     "output_type": "stream",
     "text": [
      "100%|██████████| 12/12 [00:05<00:00,  2.34it/s]\n"
     ]
    },
    {
     "name": "stdout",
     "output_type": "stream",
     "text": [
      "LOG: Optimal Detection Config: svm_detection_XY: 0.7010211769986694 (auc) || configs: 12 || elapsed_time: 5.12 (s)\n",
      "LOG: Optimal Detection Config: Searching for the optimal LSTM discriminator ...\n"
     ]
    },
    {
     "name": "stderr",
     "output_type": "stream",
     "text": [
      "100%|██████████| 8/8 [00:08<00:00,  1.10s/it]\n"
     ]
    },
    {
     "name": "stdout",
     "output_type": "stream",
     "text": [
      "LOG: Optimal Detection Config: lstm_detection_XY: 0.5352112676056338 (auc) || configs: 8 || elapsed_time: 8.83 (s)\n",
      "LOG: Optimal Simulation: Max C2ST AUC achieved: 0.7010211769986694\n",
      "_____________________________________________________________________________________________________________\n",
      "_____________________________________________________________________________________________________________\n",
      "_______________________ {'cd': {'cd_method': 'PCMCI', 'cd_kwargs': {'n_lags': 3, 'n_reps': 10}}, 'fc': {'pred_method': 'TCDF', 'pred_kwargs': {}}, 'z': {'noise_approximation': 'spline'}, 'o': {'noise_approximation': 'spline'}} _______________________\n",
      "LOG : Phase (1) : Causal structure ...\n",
      "LOG : Phase (2) : Functional Dependencies ...\n"
     ]
    },
    {
     "name": "stderr",
     "output_type": "stream",
     "text": [
      "100%|██████████| 1000/1000 [00:01<00:00, 904.37it/s]\n",
      "100%|██████████| 1000/1000 [00:01<00:00, 879.41it/s]\n",
      "100%|██████████| 1000/1000 [00:01<00:00, 869.61it/s]\n",
      "100%|██████████| 1000/1000 [00:00<00:00, 1242.91it/s]\n",
      "100%|██████████| 1000/1000 [00:01<00:00, 921.43it/s]\n",
      "100%|██████████| 1000/1000 [00:00<00:00, 1256.83it/s]\n",
      "100%|██████████| 1000/1000 [00:01<00:00, 861.59it/s]\n",
      "100%|██████████| 1000/1000 [00:01<00:00, 916.08it/s]\n",
      "100%|██████████| 1000/1000 [00:01<00:00, 872.55it/s]\n"
     ]
    },
    {
     "name": "stdout",
     "output_type": "stream",
     "text": [
      "LOG : Phase (3) : Noise Estimation ...\n",
      "LOG : Simulation Phase : Ancestral Sampling ...\n"
     ]
    },
    {
     "name": "stderr",
     "output_type": "stream",
     "text": [
      "100%|██████████| 1020/1020 [00:09<00:00, 108.32it/s]\n"
     ]
    },
    {
     "name": "stdout",
     "output_type": "stream",
     "text": [
      "LOG: Optimal Detection Config: Searching for the optimal SVC discriminator ...\n"
     ]
    },
    {
     "name": "stderr",
     "output_type": "stream",
     "text": [
      "100%|██████████| 12/12 [00:05<00:00,  2.29it/s]\n"
     ]
    },
    {
     "name": "stdout",
     "output_type": "stream",
     "text": [
      "LOG: Optimal Detection Config: svm_detection_XY: 0.6749951996927803 (auc) || configs: 12 || elapsed_time: 5.25 (s)\n",
      "LOG: Optimal Detection Config: Searching for the optimal LSTM discriminator ...\n"
     ]
    },
    {
     "name": "stderr",
     "output_type": "stream",
     "text": [
      "100%|██████████| 8/8 [00:08<00:00,  1.10s/it]\n"
     ]
    },
    {
     "name": "stdout",
     "output_type": "stream",
     "text": [
      "LOG: Optimal Detection Config: lstm_detection_XY: 0.48818348093954567 (auc) || configs: 8 || elapsed_time: 8.83 (s)\n",
      "LOG: Optimal Simulation: Max C2ST AUC achieved: 0.6751472094214029\n",
      "_____________________________________________________________________________________________________________\n",
      "LOG: Optimal Simulation: Sparsity Penalty: optimal case: idx=0 | auc=0.5193584878119982 | edges=23.0\n"
     ]
    },
    {
     "name": "stderr",
     "output_type": "stream",
     "text": [
      "100%|██████████| 100/100 [00:00<00:00, 490.18it/s]\n"
     ]
    },
    {
     "name": "stdout",
     "output_type": "stream",
     "text": [
      "LOG: Optimal Simulation: Sparsity Penalty: eq. found: idx=1 | auc=0.5834480660860656 | edges=23.0\n"
     ]
    },
    {
     "name": "stderr",
     "output_type": "stream",
     "text": [
      "100%|██████████| 100/100 [00:00<00:00, 490.03it/s]\n",
      "100%|██████████| 100/100 [00:00<00:00, 397.70it/s]\n"
     ]
    },
    {
     "name": "stdout",
     "output_type": "stream",
     "text": [
      "LOG: Optimal Simulation: Sparsity Penalty: opti case: idx=0 | auc=0.5193584878119982 | edges=23.0\n",
      "LOG: Optimal Simulation (0.5193584878119982 auc): chosen configuration: {\n",
      "    \"cd\": {\n",
      "        \"cd_kwargs\": null,\n",
      "        \"cd_method\": \"PCMCI\"\n",
      "    },\n",
      "    \"fc\": {\n",
      "        \"pred_kwargs\": {},\n",
      "        \"pred_method\": \"TCDF\"\n",
      "    },\n",
      "    \"o\": {\n",
      "        \"noise_approximation\": \"est\"\n",
      "    },\n",
      "    \"z\": {\n",
      "        \"noise_approximation\": \"est\"\n",
      "    }\n",
      "}\n",
      "Total number of edges in the ground truth: 22\n",
      "Total number of edges that were predicted: 23\n",
      "AUC: 0.9935896992683411\n",
      "TPR: 1.0, FPR: 0.012820512987673283, TNR: 0.9871794581413269, FNR: 0.0\n",
      "__________________________________ ... ________________________________\n",
      "\n",
      "Total number of edges in the ground truth: 22\n",
      "Total number of edges that were predicted: 23\n",
      "AUC: 0.9935896992683411\n",
      "TPR: 1.0, FPR: 0.012820512987673283, TNR: 0.9871794581413269, FNR: 0.0\n",
      "__________________________________ ... ________________________________\n",
      "\n",
      "\n",
      "\n",
      "------------------------------------- (007)_cp_v10_l1_p74_ts.csv -------------------------------------\n",
      "LOG: Optimal Simulation: 4 TCS configurations are to be tested ...\n",
      "_____________________________________________________________________________________________________________\n",
      "_______________________ {'cd': {'cd_method': 'PCMCI', 'cd_kwargs': None}, 'fc': {'pred_method': 'TCDF', 'pred_kwargs': {}}, 'z': {'noise_approximation': 'est'}, 'o': {'noise_approximation': 'est'}} _______________________\n",
      "LOG : Phase (1) : Causal structure ...\n",
      "LOG : Phase (2) : Functional Dependencies ...\n"
     ]
    },
    {
     "name": "stderr",
     "output_type": "stream",
     "text": [
      "100%|██████████| 1000/1000 [00:01<00:00, 925.60it/s]\n",
      "100%|██████████| 1000/1000 [00:01<00:00, 875.35it/s]\n",
      "100%|██████████| 1000/1000 [00:01<00:00, 821.42it/s]\n",
      "100%|██████████| 1000/1000 [00:01<00:00, 912.58it/s]\n",
      "100%|██████████| 1000/1000 [00:01<00:00, 874.19it/s]\n",
      "100%|██████████| 1000/1000 [00:01<00:00, 927.08it/s]\n",
      "100%|██████████| 1000/1000 [00:01<00:00, 873.58it/s]\n",
      "100%|██████████| 1000/1000 [00:00<00:00, 1249.11it/s]\n",
      "100%|██████████| 1000/1000 [00:01<00:00, 879.69it/s]\n"
     ]
    },
    {
     "name": "stdout",
     "output_type": "stream",
     "text": [
      "LOG : Phase (3) : Noise Estimation ...\n",
      "LOG : Simulation Phase : Ancestral Sampling ...\n"
     ]
    },
    {
     "name": "stderr",
     "output_type": "stream",
     "text": [
      "100%|██████████| 1020/1020 [00:09<00:00, 108.73it/s]\n"
     ]
    },
    {
     "name": "stdout",
     "output_type": "stream",
     "text": [
      "LOG: Optimal Detection Config: Searching for the optimal SVC discriminator ...\n"
     ]
    },
    {
     "name": "stderr",
     "output_type": "stream",
     "text": [
      "100%|██████████| 12/12 [00:05<00:00,  2.27it/s]\n"
     ]
    },
    {
     "name": "stdout",
     "output_type": "stream",
     "text": [
      "LOG: Optimal Detection Config: svm_detection_XY: 0.5747115384615384 (auc) || configs: 12 || elapsed_time: 5.29 (s)\n",
      "LOG: Optimal Detection Config: Searching for the optimal LSTM discriminator ...\n"
     ]
    },
    {
     "name": "stderr",
     "output_type": "stream",
     "text": [
      "100%|██████████| 8/8 [00:08<00:00,  1.09s/it]\n"
     ]
    },
    {
     "name": "stdout",
     "output_type": "stream",
     "text": [
      "LOG: Optimal Detection Config: lstm_detection_XY: 0.5268876007145722 (auc) || configs: 8 || elapsed_time: 8.7 (s)\n",
      "LOG: Optimal Simulation: Max C2ST AUC achieved: 0.5742307692307692\n",
      "_____________________________________________________________________________________________________________\n",
      "_____________________________________________________________________________________________________________\n",
      "_______________________ {'cd': {'cd_method': 'PCMCI', 'cd_kwargs': None}, 'fc': {'pred_method': 'TCDF', 'pred_kwargs': {}}, 'z': {'noise_approximation': 'spline'}, 'o': {'noise_approximation': 'spline'}} _______________________\n",
      "LOG : Phase (1) : Causal structure ...\n",
      "LOG : Phase (2) : Functional Dependencies ...\n"
     ]
    },
    {
     "name": "stderr",
     "output_type": "stream",
     "text": [
      "100%|██████████| 1000/1000 [00:01<00:00, 859.09it/s]\n",
      "100%|██████████| 1000/1000 [00:01<00:00, 879.89it/s]\n",
      "100%|██████████| 1000/1000 [00:01<00:00, 908.07it/s]\n",
      "100%|██████████| 1000/1000 [00:01<00:00, 863.25it/s]\n",
      "100%|██████████| 1000/1000 [00:01<00:00, 861.52it/s]\n",
      "100%|██████████| 1000/1000 [00:01<00:00, 885.66it/s]\n",
      "100%|██████████| 1000/1000 [00:01<00:00, 845.18it/s]\n",
      "100%|██████████| 1000/1000 [00:00<00:00, 1201.18it/s]\n",
      "100%|██████████| 1000/1000 [00:01<00:00, 895.48it/s]\n"
     ]
    },
    {
     "name": "stdout",
     "output_type": "stream",
     "text": [
      "LOG : Phase (3) : Noise Estimation ...\n",
      "LOG : Simulation Phase : Ancestral Sampling ...\n"
     ]
    },
    {
     "name": "stderr",
     "output_type": "stream",
     "text": [
      "100%|██████████| 1020/1020 [00:09<00:00, 111.50it/s]\n"
     ]
    },
    {
     "name": "stdout",
     "output_type": "stream",
     "text": [
      "LOG: Optimal Detection Config: Searching for the optimal SVC discriminator ...\n"
     ]
    },
    {
     "name": "stderr",
     "output_type": "stream",
     "text": [
      "100%|██████████| 12/12 [00:05<00:00,  2.20it/s]\n"
     ]
    },
    {
     "name": "stdout",
     "output_type": "stream",
     "text": [
      "LOG: Optimal Detection Config: svm_detection_XY: 0.5489161757172132 (auc) || configs: 12 || elapsed_time: 5.46 (s)\n",
      "LOG: Optimal Detection Config: Searching for the optimal LSTM discriminator ...\n"
     ]
    },
    {
     "name": "stderr",
     "output_type": "stream",
     "text": [
      "100%|██████████| 8/8 [00:08<00:00,  1.09s/it]\n"
     ]
    },
    {
     "name": "stdout",
     "output_type": "stream",
     "text": [
      "LOG: Optimal Detection Config: lstm_detection_XY: 0.5088942307692308 (auc) || configs: 8 || elapsed_time: 8.7 (s)\n",
      "LOG: Optimal Simulation: Max C2ST AUC achieved: 0.4488185194672132\n",
      "_____________________________________________________________________________________________________________\n",
      "_____________________________________________________________________________________________________________\n",
      "_______________________ {'cd': {'cd_method': 'PCMCI', 'cd_kwargs': {'n_lags': 3, 'n_reps': 10}}, 'fc': {'pred_method': 'TCDF', 'pred_kwargs': {}}, 'z': {'noise_approximation': 'est'}, 'o': {'noise_approximation': 'est'}} _______________________\n",
      "LOG : Phase (1) : Causal structure ...\n",
      "LOG : Phase (2) : Functional Dependencies ...\n"
     ]
    },
    {
     "name": "stderr",
     "output_type": "stream",
     "text": [
      "100%|██████████| 1000/1000 [00:01<00:00, 893.02it/s]\n",
      "100%|██████████| 1000/1000 [00:01<00:00, 844.26it/s]\n",
      "100%|██████████| 1000/1000 [00:01<00:00, 880.26it/s]\n",
      "100%|██████████| 1000/1000 [00:01<00:00, 943.00it/s]\n",
      "100%|██████████| 1000/1000 [00:01<00:00, 882.59it/s]\n",
      "100%|██████████| 1000/1000 [00:01<00:00, 921.93it/s]\n",
      "100%|██████████| 1000/1000 [00:01<00:00, 870.92it/s]\n",
      "100%|██████████| 1000/1000 [00:00<00:00, 1241.49it/s]\n",
      "100%|██████████| 1000/1000 [00:01<00:00, 903.87it/s]\n"
     ]
    },
    {
     "name": "stdout",
     "output_type": "stream",
     "text": [
      "LOG : Phase (3) : Noise Estimation ...\n",
      "LOG : Simulation Phase : Ancestral Sampling ...\n"
     ]
    },
    {
     "name": "stderr",
     "output_type": "stream",
     "text": [
      "100%|██████████| 1020/1020 [00:09<00:00, 110.66it/s]\n"
     ]
    },
    {
     "name": "stdout",
     "output_type": "stream",
     "text": [
      "LOG: Optimal Detection Config: Searching for the optimal SVC discriminator ...\n"
     ]
    },
    {
     "name": "stderr",
     "output_type": "stream",
     "text": [
      "100%|██████████| 12/12 [00:04<00:00,  2.41it/s]\n"
     ]
    },
    {
     "name": "stdout",
     "output_type": "stream",
     "text": [
      "LOG: Optimal Detection Config: svm_detection_XY: 0.7278493177013261 (auc) || configs: 12 || elapsed_time: 4.98 (s)\n",
      "LOG: Optimal Detection Config: Searching for the optimal LSTM discriminator ...\n"
     ]
    },
    {
     "name": "stderr",
     "output_type": "stream",
     "text": [
      "100%|██████████| 8/8 [00:09<00:00,  1.14s/it]\n"
     ]
    },
    {
     "name": "stdout",
     "output_type": "stream",
     "text": [
      "LOG: Optimal Detection Config: lstm_detection_XY: 0.5012259615384616 (auc) || configs: 8 || elapsed_time: 9.13 (s)\n",
      "LOG: Optimal Simulation: Max C2ST AUC achieved: 0.7277852520981485\n",
      "_____________________________________________________________________________________________________________\n",
      "_____________________________________________________________________________________________________________\n",
      "_______________________ {'cd': {'cd_method': 'PCMCI', 'cd_kwargs': {'n_lags': 3, 'n_reps': 10}}, 'fc': {'pred_method': 'TCDF', 'pred_kwargs': {}}, 'z': {'noise_approximation': 'spline'}, 'o': {'noise_approximation': 'spline'}} _______________________\n",
      "LOG : Phase (1) : Causal structure ...\n",
      "LOG : Phase (2) : Functional Dependencies ...\n"
     ]
    },
    {
     "name": "stderr",
     "output_type": "stream",
     "text": [
      "100%|██████████| 1000/1000 [00:01<00:00, 914.91it/s]\n",
      "100%|██████████| 1000/1000 [00:01<00:00, 864.36it/s]\n",
      "100%|██████████| 1000/1000 [00:01<00:00, 861.18it/s]\n",
      "100%|██████████| 1000/1000 [00:01<00:00, 843.18it/s]\n",
      "100%|██████████| 1000/1000 [00:01<00:00, 711.49it/s]\n",
      "100%|██████████| 1000/1000 [00:01<00:00, 840.61it/s]\n",
      "100%|██████████| 1000/1000 [00:01<00:00, 911.56it/s]\n",
      "100%|██████████| 1000/1000 [00:00<00:00, 1191.49it/s]\n",
      "100%|██████████| 1000/1000 [00:01<00:00, 916.35it/s]\n"
     ]
    },
    {
     "name": "stdout",
     "output_type": "stream",
     "text": [
      "LOG : Phase (3) : Noise Estimation ...\n",
      "LOG : Simulation Phase : Ancestral Sampling ...\n"
     ]
    },
    {
     "name": "stderr",
     "output_type": "stream",
     "text": [
      "100%|██████████| 1020/1020 [00:09<00:00, 110.77it/s]\n"
     ]
    },
    {
     "name": "stdout",
     "output_type": "stream",
     "text": [
      "LOG: Optimal Detection Config: Searching for the optimal SVC discriminator ...\n"
     ]
    },
    {
     "name": "stderr",
     "output_type": "stream",
     "text": [
      "100%|██████████| 12/12 [00:05<00:00,  2.26it/s]\n"
     ]
    },
    {
     "name": "stdout",
     "output_type": "stream",
     "text": [
      "LOG: Optimal Detection Config: svm_detection_XY: 0.7263918252290346 (auc) || configs: 12 || elapsed_time: 5.3 (s)\n",
      "LOG: Optimal Detection Config: Searching for the optimal LSTM discriminator ...\n"
     ]
    },
    {
     "name": "stderr",
     "output_type": "stream",
     "text": [
      "100%|██████████| 8/8 [00:09<00:00,  1.13s/it]\n"
     ]
    },
    {
     "name": "stdout",
     "output_type": "stream",
     "text": [
      "LOG: Optimal Detection Config: lstm_detection_XY: 0.5419137711478988 (auc) || configs: 8 || elapsed_time: 9.03 (s)\n",
      "LOG: Optimal Simulation: Max C2ST AUC achieved: 0.726367800627843\n",
      "_____________________________________________________________________________________________________________\n",
      "LOG: Optimal Simulation: Sparsity Penalty: optimal case: idx=1 | auc=0.4488185194672132 | edges=20.0\n"
     ]
    },
    {
     "name": "stderr",
     "output_type": "stream",
     "text": [
      "100%|██████████| 100/100 [00:00<00:00, 473.92it/s]\n",
      "100%|██████████| 100/100 [00:00<00:00, 457.40it/s]\n",
      "100%|██████████| 100/100 [00:00<00:00, 378.51it/s]\n"
     ]
    },
    {
     "name": "stdout",
     "output_type": "stream",
     "text": [
      "LOG: Optimal Simulation: Sparsity Penalty: opti case: idx=1 | auc=0.4488185194672132 | edges=20.0\n",
      "LOG: Optimal Simulation (0.4488185194672132 auc): chosen configuration: {\n",
      "    \"cd\": {\n",
      "        \"cd_kwargs\": null,\n",
      "        \"cd_method\": \"PCMCI\"\n",
      "    },\n",
      "    \"fc\": {\n",
      "        \"pred_kwargs\": {},\n",
      "        \"pred_method\": \"TCDF\"\n",
      "    },\n",
      "    \"o\": {\n",
      "        \"noise_approximation\": \"spline\"\n",
      "    },\n",
      "    \"z\": {\n",
      "        \"noise_approximation\": \"spline\"\n",
      "    }\n",
      "}\n",
      "Total number of edges in the ground truth: 20\n",
      "Total number of edges that were predicted: 20\n",
      "AUC: 1.0\n",
      "TPR: 1.0, FPR: 0.0, TNR: 1.0, FNR: 0.0\n",
      "__________________________________ ... ________________________________\n",
      "\n",
      "Total number of edges in the ground truth: 20\n",
      "Total number of edges that were predicted: 20\n",
      "AUC: 1.0\n",
      "TPR: 1.0, FPR: 0.0, TNR: 1.0, FNR: 0.0\n",
      "__________________________________ ... ________________________________\n",
      "\n",
      "\n",
      "\n",
      "------------------------------------- (008)_cp_v10_l1_p71_ts.csv -------------------------------------\n",
      "LOG: Optimal Simulation: 4 TCS configurations are to be tested ...\n",
      "_____________________________________________________________________________________________________________\n",
      "_______________________ {'cd': {'cd_method': 'PCMCI', 'cd_kwargs': None}, 'fc': {'pred_method': 'TCDF', 'pred_kwargs': {}}, 'z': {'noise_approximation': 'est'}, 'o': {'noise_approximation': 'est'}} _______________________\n",
      "LOG : Phase (1) : Causal structure ...\n",
      "LOG : Phase (2) : Functional Dependencies ...\n"
     ]
    },
    {
     "name": "stderr",
     "output_type": "stream",
     "text": [
      "100%|██████████| 1000/1000 [00:01<00:00, 668.90it/s]\n",
      " 99%|█████████▉| 988/1000 [00:01<00:00, 810.93it/s]\n"
     ]
    },
    {
     "name": "stdout",
     "output_type": "stream",
     "text": [
      "LOG: Optimal Simulation: A configuration failed to run, thus is removed : 4 -> 3\n",
      "_____________________________________________________________________________________________________________\n",
      "_______________________ {'cd': {'cd_method': 'PCMCI', 'cd_kwargs': {'n_lags': 3, 'n_reps': 10}}, 'fc': {'pred_method': 'TCDF', 'pred_kwargs': {}}, 'z': {'noise_approximation': 'est'}, 'o': {'noise_approximation': 'est'}} _______________________\n",
      "LOG : Phase (1) : Causal structure ...\n",
      "LOG : Phase (2) : Functional Dependencies ...\n"
     ]
    },
    {
     "name": "stderr",
     "output_type": "stream",
     "text": [
      "100%|██████████| 1000/1000 [00:01<00:00, 769.64it/s]\n",
      "100%|██████████| 1000/1000 [00:01<00:00, 756.53it/s]\n",
      "100%|██████████| 1000/1000 [00:00<00:00, 1097.63it/s]\n",
      "100%|██████████| 1000/1000 [00:00<00:00, 1074.80it/s]\n",
      "100%|██████████| 1000/1000 [00:01<00:00, 850.96it/s]\n",
      " 44%|████▍     | 444/1000 [00:00<00:00, 849.96it/s]"
     ]
    }
   ],
   "source": [
    "# data_path\n",
    "ie_custom_path = list(Path(\".\").resolve().parents)[1] / \"data\" / \"cp_style\" / \"increasing_edges_cp_1\"\n",
    "\n",
    "\n",
    "# placeholders\n",
    "errors = []\n",
    "scm_list = {}\n",
    "shd_list = {}\n",
    "scores_list = {}\n",
    "det_auc_list = {}\n",
    "struct_auc_list = {}\n",
    "\n",
    "errors_w = []\n",
    "scm_list_w = {}\n",
    "shd_list_w = {}\n",
    "scores_list_w = {}\n",
    "det_auc_list_w = {}\n",
    "struct_auc_list_w = {}\n",
    "\n",
    "\n",
    "# run loop\n",
    "for fn in os.listdir(ie_custom_path / \"data\"):\n",
    "        print(f\"\\n\\n------------------------------------- {fn} -------------------------------------\")\n",
    "\n",
    "        # read the time-series\n",
    "        X_data = pd.read_csv(ie_custom_path / \"data\" / fn)\n",
    "        X_data.rename(columns=dict(zip(X_data.columns, COL_NAMES[:X_data.shape[1]])), inplace=True)\n",
    "\n",
    "        # read the ground truth\n",
    "        gn = fn.split(\"_ts\")[0] + \"_struct.pt\"\n",
    "        Y_data = torch.load(ie_custom_path / \"structure\" / gn)\n",
    "        # print(f\"- edges : {Y_data.sum().int()}\")\n",
    "\n",
    "        # optimal simulation\n",
    "        res, res_s = get_optimal_sim_XY_dual(\n",
    "                true_data = X_data, \n",
    "                CONFIGS = None, \n",
    "                done_eval = False,\n",
    "                optimal_det_config = None,\n",
    "                optimal_det_func = None, \n",
    "                sparsity_penalty=True,\n",
    "                verbose = True\n",
    "        )\n",
    "\n",
    "        # compare\n",
    "        if isinstance(res[\"optimal_scm\"], pd.DataFrame):\n",
    "                pred_cp = _from_full_to_cp(res[\"optimal_scm\"])\n",
    "        else:\n",
    "                pred_cp = res[\"optimal_scm\"].causal_structure.causal_structure_cp\n",
    "        true_cp = Y_data\n",
    "        if  true_cp.shape[2]>pred_cp.shape[2]:\n",
    "                pred_cp = torch.nn.functional.pad(input=pred_cp, pad=(0, true_cp.shape[2] - pred_cp.shape[2], 0, 0, 0, 0), value=0)\n",
    "        if  pred_cp.shape[2]>true_cp.shape[2]:\n",
    "                true_cp = torch.nn.functional.pad(input=true_cp, pad=(0, pred_cp.shape[2] - true_cp.shape[2], 0, 0, 0, 0), value=0)\n",
    "        tpr, fpr, tnr, fnr, auc = custom_binary_metrics(binary=pred_cp, A=true_cp, verbose=True)\n",
    "        shd_d = SHD(target=true_cp.numpy(), pred=pred_cp.numpy(), double_for_anticausal=True)\n",
    "\n",
    "        # store\n",
    "        scm_list[fn] =  pred_cp\n",
    "        scores_list[fn] =  res[\"scores\"]\n",
    "        det_auc_list[fn] =  res[\"auc\"]\n",
    "        struct_auc_list[fn] =  {\"tpr\": tpr, \"fpr\": fpr, \"tnr\": tnr, \"fnr\": fnr, \"auc\": auc, \"shd\": shd_d,\n",
    "                                \"pred#\": pred_cp.sum().numpy(), \"true#\": true_cp.sum().numpy()}\n",
    "        shd_list[fn] = shd_d\n",
    "\n",
    "        # ___________________________________________________________________________________________\n",
    "\n",
    "\n",
    "        # compare\n",
    "        if isinstance(res_s[\"optimal_scm\"], pd.DataFrame):\n",
    "                pred_cp = _from_full_to_cp(res_s[\"optimal_scm\"])\n",
    "        else:\n",
    "                pred_cp = res_s[\"optimal_scm\"].causal_structure.causal_structure_cp\n",
    "        true_cp = Y_data\n",
    "        if  true_cp.shape[2]>pred_cp.shape[2]:\n",
    "                pred_cp = torch.nn.functional.pad(input=pred_cp, pad=(0, true_cp.shape[2] - pred_cp.shape[2], 0, 0, 0, 0), value=0)\n",
    "        if  pred_cp.shape[2]>true_cp.shape[2]:\n",
    "                true_cp = torch.nn.functional.pad(input=true_cp, pad=(0, pred_cp.shape[2] - true_cp.shape[2], 0, 0, 0, 0), value=0)\n",
    "        tpr, fpr, tnr, fnr, auc = custom_binary_metrics(binary=pred_cp, A=true_cp, verbose=True)\n",
    "        shd_d = SHD(target=true_cp.numpy(), pred=pred_cp.numpy(), double_for_anticausal=True)\n",
    "\n",
    "        # store\n",
    "        scm_list_w[fn] =  pred_cp\n",
    "        scores_list_w[fn] =  res_s[\"scores\"]\n",
    "        det_auc_list_w[fn] =  res_s[\"auc\"]\n",
    "        struct_auc_list_w[fn] =  {\"tpr\": tpr, \"fpr\": fpr, \"tnr\": tnr, \"fnr\": fnr, \"auc\": auc, \"shd\": shd_d,\n",
    "                                \"pred#\": pred_cp.sum().numpy(), \"true#\": true_cp.sum().numpy()}\n",
    "        shd_list_w[fn] = shd_d"
   ]
  },
  {
   "cell_type": "markdown",
   "metadata": {},
   "source": [
    "### Store Results"
   ]
  },
  {
   "cell_type": "code",
   "execution_count": null,
   "metadata": {},
   "outputs": [],
   "source": [
    "# merge\n",
    "res_both = {\n",
    "    \"res\" : struct_auc_list,\n",
    "    \"res_w\" : struct_auc_list_w, \n",
    "}\n",
    "\n",
    "# # store results\n",
    "# pickle.dump(res_both, open(list(Path(\".\").resolve().parents)[1] / \"data\" / \"results\" / \"dense_graph\" / \"res_cp_vs_1.p\", \"wb\"))"
   ]
  },
  {
   "cell_type": "markdown",
   "metadata": {},
   "source": [
    "### Plot"
   ]
  },
  {
   "cell_type": "markdown",
   "metadata": {},
   "source": [
    "#### Oracle Plot"
   ]
  },
  {
   "cell_type": "code",
   "execution_count": 2,
   "metadata": {},
   "outputs": [
    {
     "data": {
      "image/png": "[encoded data removed]",
      "text/plain": [
       "<Figure size 720x360 with 1 Axes>"
      ]
     },
     "metadata": {
      "needs_background": "light"
     },
     "output_type": "display_data"
    }
   ],
   "source": [
    "# load data\n",
    "res_both = pickle.load(open(list(Path(\".\").resolve().parents)[1] / \"data\" / \"results\" / \"dense_graph\" / \"res_cp_vs_1.p\", \"rb\"))\n",
    "\n",
    "# sort results according to ground truth edge density\n",
    "sorted_true, sorted_shd = list(zip(*sorted(list(zip(\n",
    "    [v[\"true#\"] for v in list(res_both['res'].values())], \n",
    "    [v[\"shd\"] for v in list(res_both['res'].values())])), key=lambda x: x[0])[:])) \n",
    "\n",
    "sorted_true_w, sorted_shd_w = list(zip(*sorted(list(zip(\n",
    "    [v[\"true#\"] for v in list(res_both['res_w'].values())], \n",
    "    [v[\"shd\"] for v in list(res_both['res_w'].values())])), key=lambda x: x[0])[:])) \n",
    "\n",
    "# plot\n",
    "f, ax = plt.subplots(figsize=(10, 5))\n",
    "ax.scatter(x=sorted_true, y=sorted_shd, label=\"w/o sparsity penalty\", color=\"darkolivegreen\")\n",
    "ax.plot(sorted_true, sorted_shd, \"--\", color=\"darkolivegreen\", alpha=0.3)\n",
    "ax.scatter(x=sorted_true_w, y=sorted_shd_w, label=\"w/ sparsity penalty\", color='indianred')\n",
    "ax.plot(sorted_true_w, sorted_shd_w, \"--\", color='indianred', alpha=0.3)\n",
    "ax.set_xticks(list(set([int(x) for x in sorted_true])))\n",
    "ax.set_xticklabels(list(set([int(x) for x in sorted_true])))\n",
    "ax.set_xlabel(\"#edges\", fontsize=14)\n",
    "ax.set_ylabel(\"SHD\", fontsize=14)\n",
    "# ax.set_title(\"SHD on synthetic data w/ increasing # of edges.\")\n",
    "ax.legend()\n",
    "plt.show()"
   ]
  },
  {
   "cell_type": "markdown",
   "metadata": {},
   "source": [
    "#### Submission Plots"
   ]
  },
  {
   "cell_type": "code",
   "execution_count": 3,
   "metadata": {},
   "outputs": [
    {
     "data": {
      "image/png": "[encoded data removed]",
      "text/plain": [
       "<Figure size 1080x216 with 2 Axes>"
      ]
     },
     "metadata": {
      "needs_background": "light"
     },
     "output_type": "display_data"
    }
   ],
   "source": [
    "# double figure for the submission\n",
    "\n",
    "# load data\n",
    "res_dense = pickle.load(open(list(Path(\".\").resolve().parents)[1] / \"data\" / \"results\" / \"dense_graph\" / \"res_cp_vs_1.p\", \"rb\"))\n",
    "res_oracle = pickle.load(open(list(Path(\".\").resolve().parents)[1] / \"data\" / \"results\" / \"oracle_graph\" / \"res_cp_vs_1.p\", \"rb\"))\n",
    "\n",
    "# sort results according to ground truth edge density - dense\n",
    "sorted_true_dense, sorted_shd_dense = list(zip(*sorted(list(zip(\n",
    "    [v[\"true#\"] for v in list(res_dense['res'].values())], \n",
    "    [v[\"shd\"] for v in list(res_dense['res'].values())])), key=lambda x: x[0])[:])) \n",
    "\n",
    "sorted_true_w_dense, sorted_shd_w_dense = list(zip(*sorted(list(zip(\n",
    "    [v[\"true#\"] for v in list(res_dense['res_w'].values())], \n",
    "    [v[\"shd\"] for v in list(res_dense['res_w'].values())])), key=lambda x: x[0])[:])) \n",
    "\n",
    "# sort results according to ground truth edge density - oracle\n",
    "sorted_true_oracle, sorted_shd_oracle = list(zip(*sorted(list(zip(\n",
    "    [v[\"true#\"] for v in list(res_oracle['res'].values())], \n",
    "    [v[\"shd\"] for v in list(res_oracle['res'].values())])), key=lambda x: x[0])[:])) \n",
    "\n",
    "sorted_true_w_oracle, sorted_shd_w_oracle = list(zip(*sorted(list(zip(\n",
    "    [v[\"true#\"] for v in list(res_oracle['res_w'].values())], \n",
    "    [v[\"shd\"] for v in list(res_oracle['res_w'].values())])), key=lambda x: x[0])[:]))\n",
    "\n",
    "# plot\n",
    "f, axs = plt.subplots(ncols=2, figsize=(15, 3), sharey=True)\n",
    "\n",
    "axs[0].scatter(x=sorted_true_dense, y=sorted_shd_dense, label=\"w/o sparsity penalty\", color=\"darkolivegreen\")\n",
    "axs[0].plot(sorted_true_dense, sorted_shd_dense, \"--\", color=\"darkolivegreen\", alpha=0.3)\n",
    "axs[0].scatter(x=sorted_true_w_dense, y=sorted_shd_w_dense, label=\"w/ sparsity penalty\", color='indianred')\n",
    "axs[0].plot(sorted_true_w_dense, sorted_shd_w_dense, \"--\", color='indianred', alpha=0.3)\n",
    "axs[0].set_xticks(list(set([int(x) for x in sorted_true_dense])))\n",
    "axs[0].set_xticklabels(list(set([int(x) for x in sorted_true_dense])))\n",
    "axs[0].set_xlabel(\"#edges\", fontsize=14)\n",
    "axs[0].set_ylabel(\"SHD\", fontsize=14)\n",
    "axs[0].set_title(\"Dense Graph\", fontdict={\"size\": 14, \"color\": \"darkred\"})\n",
    "\n",
    "f.legend(loc=(0.35, 0.88), ncol=4, fontsize=12)\n",
    "\n",
    "axs[1].scatter(x=sorted_true_oracle, y=sorted_shd_oracle, label=\"w/o sparsity penalty\", color=\"darkolivegreen\")\n",
    "axs[1].plot(sorted_true_oracle, sorted_shd_oracle, \"--\", color=\"darkolivegreen\", alpha=0.3)\n",
    "axs[1].scatter(x=sorted_true_w_oracle, y=sorted_shd_w_oracle, label=\"w/ sparsity penalty\", color='indianred')\n",
    "axs[1].plot(sorted_true_w_oracle, sorted_shd_w_oracle, \"--\", color='indianred', alpha=0.3)\n",
    "axs[1].set_xticks(list(set([int(x) for x in sorted_true_oracle])))\n",
    "axs[1].set_xticklabels(list(set([int(x) for x in sorted_true_oracle])))\n",
    "axs[1].set_xlabel(\"#edges\", fontsize=14)\n",
    "axs[1].set_ylabel(\"SHD\", fontsize=14)\n",
    "axs[1].set_title(\"Oracle Graph\", fontdict={\"size\": 14, \"color\": \"darkred\", 'family': 'serif'})\n",
    "\n",
    "plt.tight_layout()\n",
    "plt.show()"
   ]
  },
  {
   "cell_type": "markdown",
   "metadata": {},
   "source": [
    "#### Submission Tables"
   ]
  },
  {
   "cell_type": "code",
   "execution_count": 4,
   "metadata": {},
   "outputs": [
    {
     "name": "stdout",
     "output_type": "stream",
     "text": [
      "TCS\n",
      "- mmd : 0.09 +- 0.11\n",
      "- auc : 0.57 +- 0.0\n",
      "CT\n",
      "- mmd : 0.9 +- 0.02\n",
      "- auc : 0.77 +- 0.0\n",
      "CPAR\n",
      "- mmd : 0.04 +- 0.01\n",
      "- auc : 0.63 +- 0.01\n",
      "TVAE\n",
      "- mmd : 0.11 +- 0.0\n",
      "- auc : 0.81 +- 0.0\n"
     ]
    }
   ],
   "source": [
    "import json\n",
    "\n",
    "# load data\n",
    "res_auc = json.load(open(list(Path(\".\").resolve().parents)[1] / \"data\" / \"results\" / \"vs\" / \"cp_1_auc.json\", \"r\"))\n",
    "res_mmd = json.load(open(list(Path(\".\").resolve().parents)[1] / \"data\" / \"results\" / \"vs\" / \"cp_1_mmd.json\", \"r\"))\n",
    "\n",
    "auc_mean_tcs = np.array([x[\"tcs\"] for x in res_auc.values()]).mean().round(2)\n",
    "mmd_mean_tcs = np.array([x[\"tcs\"] for x in res_mmd.values()]).mean().round(2)\n",
    "auc_var_tcs = np.array([x[\"tcs\"] for x in res_auc.values()]).var().round(2)\n",
    "mmd_var_tcs = np.array([x[\"tcs\"] for x in res_mmd.values()]).var().round(2)\n",
    "\n",
    "auc_mean_ct = np.array([x[\"ct\"] for x in res_auc.values()]).mean().round(2)\n",
    "mmd_mean_ct = np.array([x[\"ct\"] for x in res_mmd.values()]).mean().round(2)\n",
    "auc_var_ct = np.array([x[\"ct\"] for x in res_auc.values()]).var().round(2)\n",
    "mmd_var_ct = np.array([x[\"ct\"] for x in res_mmd.values()]).var().round(2)\n",
    "\n",
    "auc_mean_cpar = np.array([x[\"cpar\"] for x in res_auc.values()]).mean().round(2)\n",
    "mmd_mean_cpar = np.array([x[\"cpar\"] for x in res_mmd.values()]).mean().round(2)\n",
    "auc_var_cpar = np.array([x[\"cpar\"] for x in res_auc.values()]).var().round(2)\n",
    "mmd_var_cpar = np.array([x[\"cpar\"] for x in res_mmd.values()]).var().round(2)\n",
    "\n",
    "auc_mean_tvae = np.array([x[\"tvae\"] for x in res_auc.values()]).mean().round(2)\n",
    "mmd_mean_tvae = np.array([x[\"tvae\"] for x in res_mmd.values()]).mean().round(2)\n",
    "auc_var_tvae = np.array([x[\"tvae\"] for x in res_auc.values()]).var().round(2)\n",
    "mmd_var_tvae = np.array([x[\"tvae\"] for x in res_mmd.values()]).var().round(2)\n",
    "\n",
    "print(\"TCS\")\n",
    "print(f\"- mmd : {mmd_mean_tcs} +- {mmd_var_tcs}\")\n",
    "print(f\"- auc : {auc_mean_tcs} +- {auc_var_tcs}\")\n",
    "print(\"CT\")\n",
    "print(f\"- mmd : {mmd_mean_ct} +- {mmd_var_ct}\")\n",
    "print(f\"- auc : {auc_mean_ct} +- {auc_var_ct}\")\n",
    "print(\"CPAR\")\n",
    "print(f\"- mmd : {mmd_mean_cpar} +- {mmd_var_cpar}\")\n",
    "print(f\"- auc : {auc_mean_cpar} +- {auc_var_cpar}\")\n",
    "print(\"TVAE\")\n",
    "print(f\"- mmd : {mmd_mean_tvae} +- {mmd_var_tvae}\")\n",
    "print(f\"- auc : {auc_mean_tvae} +- {auc_var_tvae}\")"
   ]
  }
 ],
 "metadata": {
  "kernelspec": {
   "display_name": "Python 3",
   "language": "python",
   "name": "python3"
  },
  "language_info": {
   "codemirror_mode": {
    "name": "ipython",
    "version": 3
   },
   "file_extension": ".py",
   "mimetype": "text/x-python",
   "name": "python",
   "nbconvert_exporter": "python",
   "pygments_lexer": "ipython3",
   "version": "3.10.2"
  }
 },
 "nbformat": 4,
 "nbformat_minor": 2
}
