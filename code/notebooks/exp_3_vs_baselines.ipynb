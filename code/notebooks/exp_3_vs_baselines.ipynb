{
 "cells": [
  {
   "cell_type": "markdown",
   "metadata": {},
   "source": [
    "### Imports"
   ]
  },
  {
   "cell_type": "code",
   "execution_count": 7,
   "metadata": {},
   "outputs": [],
   "source": [
    "import os\n",
    "import json\n",
    "import numpy as np\n",
    "import pandas as pd\n",
    "from pathlib import Path\n",
    "\n",
    "import sys\n",
    "sys.path.append(\"..\")\n",
    "\n",
    "from sdv.metadata import Metadata\n",
    "from sdv.sequential import PARSynthesizer\n",
    "\n",
    "from simulation.simulation_tools import get_optimal_sim_XY, run_detection_metrics, run_detection_metrics_XY, prepare_det_data\n",
    "from simulation.simulation_metrics import mmd_torch\n",
    "\n",
    "import sys\n",
    "import warnings\n",
    "import numpy as np\n",
    "import pandas as pd\n",
    "\n",
    "from CausalTime.tools import generate_CT\n",
    "\n",
    "from synthcity.plugins import Plugins\n",
    "from synthcity.plugins.core.dataloader import TimeSeriesDataLoader\n",
    "warnings.filterwarnings(\"ignore\")"
   ]
  },
  {
   "cell_type": "markdown",
   "metadata": {},
   "source": [
    "### Data & Comparison"
   ]
  },
  {
   "cell_type": "code",
   "execution_count": 16,
   "metadata": {},
   "outputs": [
    {
     "name": "stdout",
     "output_type": "stream",
     "text": [
      " \n",
      "------------- timeseries19.csv ---------------\n",
      " \n",
      "true data length: 2400\n",
      "true data length (adjusted): 1000\n",
      "LOG: Optimal simulation: 6 are to be tested ...\n",
      "_____________________________________________________________________________________________________________\n",
      "_______________________ {'cd': {'cd_method': 'CP', 'cd_kwargs': {'model': '../cd_methods/CausalPretraining/res/deep_CI_RH_12_3_merged_290k.ckpt', 'model_name': 'deep_CI_RH_12_3_merged_290k', 'MAX_VAR': 12, 'thresholded': True, 'threshold': 0.05, 'enforce_density': False, 'density': [2, 10]}}, 'fc': {'pred_method': 'TCDF', 'pred_kwargs': {}}, 'z': {'noise_approximation': 'est'}, 'o': {'noise_approximation': 'est'}} _______________________\n"
     ]
    },
    {
     "name": "stderr",
     "output_type": "stream",
     "text": [
      "100%|██████████| 1000/1000 [00:01<00:00, 845.99it/s]\n",
      "100%|██████████| 1000/1000 [00:01<00:00, 903.72it/s]\n",
      "100%|██████████| 1000/1000 [00:01<00:00, 999.47it/s]\n",
      "100%|██████████| 1000/1000 [00:00<00:00, 1008.26it/s]\n",
      "100%|██████████| 1000/1000 [00:01<00:00, 964.42it/s]\n",
      "100%|██████████| 1020/1020 [00:06<00:00, 166.50it/s]\n",
      "100%|██████████| 24/24 [00:01<00:00, 12.59it/s]\n"
     ]
    },
    {
     "name": "stdout",
     "output_type": "stream",
     "text": [
      "LOG: Optimal Detection Config: svm_detection_XY: 0.98510101010101 (auc) || configs: 24 || elapsed_time: 1.91 (s)\n"
     ]
    },
    {
     "name": "stderr",
     "output_type": "stream",
     "text": [
      "100%|██████████| 8/8 [00:07<00:00,  1.14it/s]\n"
     ]
    },
    {
     "name": "stdout",
     "output_type": "stream",
     "text": [
      "LOG: Optimal Detection Config: lstm_detection_XY: 0.536232725583556 (auc) || configs: 8 || elapsed_time: 7.03 (s)\n",
      "LOG: Optimal Simulation: Max C2ST AUC achieved: 0.98510101010101\n",
      "_____________________________________________________________________________________________________________\n",
      "_____________________________________________________________________________________________________________\n",
      "_______________________ {'cd': {'cd_method': 'CP', 'cd_kwargs': {'model': '../cd_methods/CausalPretraining/res/deep_CI_RH_12_3_merged_290k.ckpt', 'model_name': 'deep_CI_RH_12_3_merged_290k', 'MAX_VAR': 12, 'thresholded': True, 'threshold': 0.05, 'enforce_density': False, 'density': [2, 10]}}, 'fc': {'pred_method': 'TCDF', 'pred_kwargs': {}}, 'z': {'noise_approximation': 'spline'}, 'o': {'noise_approximation': 'spline'}} _______________________\n"
     ]
    },
    {
     "name": "stderr",
     "output_type": "stream",
     "text": [
      "100%|██████████| 1000/1000 [00:00<00:00, 1002.48it/s]\n",
      "100%|██████████| 1000/1000 [00:00<00:00, 1013.17it/s]\n",
      "100%|██████████| 1000/1000 [00:01<00:00, 998.01it/s]\n",
      "100%|██████████| 1000/1000 [00:00<00:00, 1006.04it/s]\n",
      "100%|██████████| 1000/1000 [00:00<00:00, 1000.00it/s]\n",
      "100%|██████████| 1020/1020 [00:06<00:00, 167.80it/s]\n",
      "100%|██████████| 24/24 [00:02<00:00, 11.71it/s]\n"
     ]
    },
    {
     "name": "stdout",
     "output_type": "stream",
     "text": [
      "LOG: Optimal Detection Config: svm_detection_XY: 0.9808376251093189 (auc) || configs: 24 || elapsed_time: 2.05 (s)\n"
     ]
    },
    {
     "name": "stderr",
     "output_type": "stream",
     "text": [
      "100%|██████████| 8/8 [00:06<00:00,  1.15it/s]\n"
     ]
    },
    {
     "name": "stdout",
     "output_type": "stream",
     "text": [
      "LOG: Optimal Detection Config: lstm_detection_XY: 0.5418978270920018 (auc) || configs: 8 || elapsed_time: 6.99 (s)\n",
      "LOG: Optimal Simulation: Max C2ST AUC achieved: 0.9808181906520261\n",
      "_____________________________________________________________________________________________________________\n",
      "_____________________________________________________________________________________________________________\n",
      "_______________________ {'cd': {'cd_method': 'PCMCI', 'cd_kwargs': None}, 'fc': {'pred_method': 'TCDF', 'pred_kwargs': {}}, 'z': {'noise_approximation': 'est'}, 'o': {'noise_approximation': 'est'}} _______________________\n"
     ]
    },
    {
     "name": "stderr",
     "output_type": "stream",
     "text": [
      "100%|██████████| 1000/1000 [00:00<00:00, 1030.92it/s]\n",
      "100%|██████████| 1000/1000 [00:00<00:00, 1017.18it/s]\n",
      "100%|██████████| 1000/1000 [00:01<00:00, 979.36it/s]\n",
      "100%|██████████| 1000/1000 [00:00<00:00, 1031.99it/s]\n",
      "100%|██████████| 1000/1000 [00:00<00:00, 1003.32it/s]\n",
      "100%|██████████| 1020/1020 [00:04<00:00, 210.30it/s]\n",
      "100%|██████████| 24/24 [00:02<00:00, 10.49it/s]\n"
     ]
    },
    {
     "name": "stdout",
     "output_type": "stream",
     "text": [
      "LOG: Optimal Detection Config: svm_detection_XY: 0.9681259600614439 (auc) || configs: 24 || elapsed_time: 2.29 (s)\n"
     ]
    },
    {
     "name": "stderr",
     "output_type": "stream",
     "text": [
      "100%|██████████| 8/8 [00:08<00:00,  1.00s/it]\n"
     ]
    },
    {
     "name": "stdout",
     "output_type": "stream",
     "text": [
      "LOG: Optimal Detection Config: lstm_detection_XY: 0.5222906403940887 (auc) || configs: 8 || elapsed_time: 8.02 (s)\n",
      "LOG: Optimal Simulation: Max C2ST AUC achieved: 0.9681259600614439\n",
      "_____________________________________________________________________________________________________________\n",
      "_____________________________________________________________________________________________________________\n",
      "_______________________ {'cd': {'cd_method': 'PCMCI', 'cd_kwargs': None}, 'fc': {'pred_method': 'TCDF', 'pred_kwargs': {}}, 'z': {'noise_approximation': 'spline'}, 'o': {'noise_approximation': 'spline'}} _______________________\n"
     ]
    },
    {
     "name": "stderr",
     "output_type": "stream",
     "text": [
      "100%|██████████| 1000/1000 [00:00<00:00, 1031.99it/s]\n",
      "100%|██████████| 1000/1000 [00:00<00:00, 1068.88it/s]\n",
      "100%|██████████| 1000/1000 [00:00<00:00, 1032.00it/s]\n",
      "100%|██████████| 1000/1000 [00:00<00:00, 1046.37it/s]\n",
      "100%|██████████| 1000/1000 [00:00<00:00, 1052.63it/s]\n",
      "100%|██████████| 1020/1020 [00:04<00:00, 227.48it/s]\n",
      "100%|██████████| 24/24 [00:03<00:00,  7.95it/s]\n"
     ]
    },
    {
     "name": "stdout",
     "output_type": "stream",
     "text": [
      "LOG: Optimal Detection Config: svm_detection_XY: 0.9681430479909567 (auc) || configs: 24 || elapsed_time: 3.02 (s)\n"
     ]
    },
    {
     "name": "stderr",
     "output_type": "stream",
     "text": [
      "  0%|          | 0/8 [00:01<?, ?it/s]\n"
     ]
    },
    {
     "name": "stdout",
     "output_type": "stream",
     "text": [
      "LOG: Optimal Simulation: A configuration failed to run, thus is removed : 6 -> 5\n",
      "_____________________________________________________________________________________________________________\n",
      "_______________________ {'cd': {'cd_method': 'PCMCI', 'cd_kwargs': {'n_lags': 3, 'n_reps': 10}}, 'fc': {'pred_method': 'TCDF', 'pred_kwargs': {}}, 'z': {'noise_approximation': 'spline'}, 'o': {'noise_approximation': 'spline'}} _______________________\n"
     ]
    },
    {
     "name": "stderr",
     "output_type": "stream",
     "text": [
      "100%|██████████| 1000/1000 [00:00<00:00, 1040.73it/s]\n",
      "100%|██████████| 1000/1000 [00:00<00:00, 1072.97it/s]\n",
      "100%|██████████| 1000/1000 [00:00<00:00, 1003.40it/s]\n",
      "100%|██████████| 1000/1000 [00:00<00:00, 1064.27it/s]\n",
      "100%|██████████| 1000/1000 [00:00<00:00, 1036.24it/s]\n",
      "100%|██████████| 1020/1020 [00:04<00:00, 220.88it/s]\n",
      "100%|██████████| 24/24 [12:28<00:00, 31.18s/it]\n"
     ]
    },
    {
     "name": "stdout",
     "output_type": "stream",
     "text": [
      "LOG: Optimal Detection Config: svm_detection_XY: 0.5614754098360656 (auc) || configs: 24 || elapsed_time: 748.28 (s)\n"
     ]
    },
    {
     "name": "stderr",
     "output_type": "stream",
     "text": [
      "100%|██████████| 8/8 [00:07<00:00,  1.13it/s]\n"
     ]
    },
    {
     "name": "stdout",
     "output_type": "stream",
     "text": [
      "LOG: Optimal Detection Config: lstm_detection_XY: 0.5278622087132726 (auc) || configs: 8 || elapsed_time: 7.06 (s)\n",
      "LOG: Optimal Simulation: Max C2ST AUC achieved: 0.4385245901639344\n",
      "_____________________________________________________________________________________________________________\n",
      "LOG: Optimal simulation (0.4385245901639344 auc): chosen configuration: {\n",
      "    \"cd\": {\n",
      "        \"cd_kwargs\": {\n",
      "            \"n_lags\": 3,\n",
      "            \"n_reps\": 10\n",
      "        },\n",
      "        \"cd_method\": \"PCMCI\"\n",
      "    },\n",
      "    \"fc\": {\n",
      "        \"pred_kwargs\": {},\n",
      "        \"pred_method\": \"TCDF\"\n",
      "    },\n",
      "    \"o\": {\n",
      "        \"noise_approximation\": \"est\"\n",
      "    },\n",
      "    \"z\": {\n",
      "        \"noise_approximation\": \"est\"\n",
      "    }\n",
      "}\n"
     ]
    },
    {
     "name": "stderr",
     "output_type": "stream",
     "text": [
      "100%|██████████| 24/24 [00:03<00:00,  7.77it/s]\n"
     ]
    },
    {
     "name": "stdout",
     "output_type": "stream",
     "text": [
      "LOG: Optimal Detection Config: svm_detection_XY: 0.950897208684094 (auc) || configs: 24 || elapsed_time: 3.09 (s)\n"
     ]
    },
    {
     "name": "stderr",
     "output_type": "stream",
     "text": [
      "100%|██████████| 8/8 [00:07<00:00,  1.13it/s]\n"
     ]
    },
    {
     "name": "stdout",
     "output_type": "stream",
     "text": [
      "LOG: Optimal Detection Config: lstm_detection_XY: 0.5100329285861288 (auc) || configs: 8 || elapsed_time: 7.08 (s)\n",
      "\n",
      " ____________________________________ Simulate w/ CausalTime ____________________________________ \n",
      "\n",
      "Loading Data...\n",
      "In loader:X_shape:torch.Size([32, 20, 5]),y_shape:torch.Size([32, 5])\n",
      "Training Full Model...\n",
      "Epoch 1/1, Train Loss: 0.17975234842548768\n",
      "Epoch 1/1, Val Loss: 0.03710232600569725\n",
      "Training Masked Model...\n",
      "Epoch 1/1, Train Loss: 0.1677463627109925\n",
      "Epoch 1/1, Val Loss: 0.0294642124325037\n",
      "Training NF Residual Model...\n",
      "Epoch 1/5, Loss: 0.0510\n",
      "Epoch 2/5, Loss: 0.0135\n",
      "Epoch 3/5, Loss: 0.0054\n",
      "Epoch 4/5, Loss: 0.0031\n",
      "Epoch 5/5, Loss: 0.0018\n",
      "Generating data...\n"
     ]
    },
    {
     "name": "stderr",
     "output_type": "stream",
     "text": [
      "100%|██████████| 24/24 [00:05<00:00,  4.31it/s]\n"
     ]
    },
    {
     "name": "stdout",
     "output_type": "stream",
     "text": [
      "LOG: Optimal Detection Config: svm_detection_XY: 0.8965635738831615 (auc) || configs: 24 || elapsed_time: 5.57 (s)\n"
     ]
    },
    {
     "name": "stderr",
     "output_type": "stream",
     "text": [
      "100%|██████████| 8/8 [00:07<00:00,  1.05it/s]\n"
     ]
    },
    {
     "name": "stdout",
     "output_type": "stream",
     "text": [
      "LOG: Optimal Detection Config: lstm_detection_XY: 0.5468666434135565 (auc) || configs: 8 || elapsed_time: 7.6 (s)\n",
      "\n",
      " ____________ Simulate w/ SDV ____________ \n",
      "\n"
     ]
    },
    {
     "name": "stderr",
     "output_type": "stream",
     "text": [
      "100%|██████████| 24/24 [00:05<00:00,  4.68it/s]\n"
     ]
    },
    {
     "name": "stdout",
     "output_type": "stream",
     "text": [
      "LOG: Optimal Detection Config: svm_detection_XY: 0.9518293842869523 (auc) || configs: 24 || elapsed_time: 5.13 (s)\n"
     ]
    },
    {
     "name": "stderr",
     "output_type": "stream",
     "text": [
      "100%|██████████| 8/8 [00:08<00:00,  1.02s/it]\n"
     ]
    },
    {
     "name": "stdout",
     "output_type": "stream",
     "text": [
      "LOG: Optimal Detection Config: lstm_detection_XY: 0.5744754041967665 (auc) || configs: 8 || elapsed_time: 8.15 (s)\n",
      "\n",
      " _____________ Simulate w/ TimeVAE _____________ \n",
      "\n"
     ]
    },
    {
     "name": "stderr",
     "output_type": "stream",
     "text": [
      "[2025-04-10T18:29:53.935639+0300][25524][CRITICAL] module disabled: c:\\Users\\skypl\\AppData\\Local\\Programs\\Python\\Python310\\lib\\site-packages\\synthcity\\plugins\\generic\\plugin_goggle.py\n",
      "100%|██████████| 30/30 [00:08<00:00,  3.66it/s]\n",
      "100%|██████████| 24/24 [00:06<00:00,  4.00it/s]\n"
     ]
    },
    {
     "name": "stdout",
     "output_type": "stream",
     "text": [
      "LOG: Optimal Detection Config: svm_detection_XY: 0.8436790077976299 (auc) || configs: 24 || elapsed_time: 6.01 (s)\n"
     ]
    },
    {
     "name": "stderr",
     "output_type": "stream",
     "text": [
      "100%|██████████| 8/8 [00:07<00:00,  1.06it/s]\n"
     ]
    },
    {
     "name": "stdout",
     "output_type": "stream",
     "text": [
      "LOG: Optimal Detection Config: lstm_detection_XY: 0.5176978946400662 (auc) || configs: 8 || elapsed_time: 7.53 (s)\n",
      " \n",
      "------------- timeseries20.csv ---------------\n",
      " \n",
      "true data length: 2400\n",
      "true data length (adjusted): 1000\n",
      "LOG: Optimal simulation: 6 are to be tested ...\n",
      "_____________________________________________________________________________________________________________\n",
      "_______________________ {'cd': {'cd_method': 'CP', 'cd_kwargs': {'model': '../cd_methods/CausalPretraining/res/deep_CI_RH_12_3_merged_290k.ckpt', 'model_name': 'deep_CI_RH_12_3_merged_290k', 'MAX_VAR': 12, 'thresholded': True, 'threshold': 0.05, 'enforce_density': False, 'density': [2, 10]}}, 'fc': {'pred_method': 'TCDF', 'pred_kwargs': {}}, 'z': {'noise_approximation': 'est'}, 'o': {'noise_approximation': 'est'}} _______________________\n"
     ]
    },
    {
     "name": "stderr",
     "output_type": "stream",
     "text": [
      "100%|██████████| 1000/1000 [00:01<00:00, 846.37it/s]\n",
      "100%|██████████| 1000/1000 [00:01<00:00, 880.62it/s]\n",
      "100%|██████████| 1000/1000 [00:01<00:00, 858.78it/s]\n",
      "100%|██████████| 1000/1000 [00:01<00:00, 925.93it/s]\n",
      "100%|██████████| 1000/1000 [00:01<00:00, 947.83it/s]\n",
      "100%|██████████| 1020/1020 [00:06<00:00, 167.92it/s]\n",
      "100%|██████████| 24/24 [00:02<00:00, 11.06it/s]\n"
     ]
    },
    {
     "name": "stdout",
     "output_type": "stream",
     "text": [
      "LOG: Optimal Detection Config: svm_detection_XY: 0.9979919678714859 (auc) || configs: 24 || elapsed_time: 2.17 (s)\n"
     ]
    },
    {
     "name": "stderr",
     "output_type": "stream",
     "text": [
      "100%|██████████| 8/8 [00:09<00:00,  1.16s/it]\n"
     ]
    },
    {
     "name": "stdout",
     "output_type": "stream",
     "text": [
      "LOG: Optimal Detection Config: lstm_detection_XY: 0.9027181688125895 (auc) || configs: 8 || elapsed_time: 9.29 (s)\n",
      "LOG: Optimal Simulation: Max C2ST AUC achieved: 0.9979919678714859\n",
      "_____________________________________________________________________________________________________________\n",
      "_____________________________________________________________________________________________________________\n",
      "_______________________ {'cd': {'cd_method': 'CP', 'cd_kwargs': {'model': '../cd_methods/CausalPretraining/res/deep_CI_RH_12_3_merged_290k.ckpt', 'model_name': 'deep_CI_RH_12_3_merged_290k', 'MAX_VAR': 12, 'thresholded': True, 'threshold': 0.05, 'enforce_density': False, 'density': [2, 10]}}, 'fc': {'pred_method': 'TCDF', 'pred_kwargs': {}}, 'z': {'noise_approximation': 'spline'}, 'o': {'noise_approximation': 'spline'}} _______________________\n"
     ]
    },
    {
     "name": "stderr",
     "output_type": "stream",
     "text": [
      "100%|██████████| 1000/1000 [00:01<00:00, 802.14it/s]\n",
      "100%|██████████| 1000/1000 [00:01<00:00, 920.81it/s]\n",
      "100%|██████████| 1000/1000 [00:01<00:00, 774.17it/s]\n",
      "100%|██████████| 1000/1000 [00:01<00:00, 803.57it/s]\n",
      "100%|██████████| 1000/1000 [00:01<00:00, 824.32it/s]\n",
      "100%|██████████| 1020/1020 [00:06<00:00, 154.99it/s]\n",
      "100%|██████████| 24/24 [00:04<00:00,  5.84it/s]\n"
     ]
    },
    {
     "name": "stdout",
     "output_type": "stream",
     "text": [
      "LOG: Optimal Detection Config: svm_detection_XY: 0.983488 (auc) || configs: 24 || elapsed_time: 4.11 (s)\n"
     ]
    },
    {
     "name": "stderr",
     "output_type": "stream",
     "text": [
      "100%|██████████| 8/8 [00:09<00:00,  1.18s/it]\n"
     ]
    },
    {
     "name": "stdout",
     "output_type": "stream",
     "text": [
      "LOG: Optimal Detection Config: lstm_detection_XY: 0.49867839292579774 (auc) || configs: 8 || elapsed_time: 9.44 (s)\n",
      "LOG: Optimal Simulation: Max C2ST AUC achieved: 0.983488\n",
      "_____________________________________________________________________________________________________________\n",
      "_____________________________________________________________________________________________________________\n",
      "_______________________ {'cd': {'cd_method': 'PCMCI', 'cd_kwargs': None}, 'fc': {'pred_method': 'TCDF', 'pred_kwargs': {}}, 'z': {'noise_approximation': 'est'}, 'o': {'noise_approximation': 'est'}} _______________________\n"
     ]
    },
    {
     "name": "stderr",
     "output_type": "stream",
     "text": [
      "100%|██████████| 1000/1000 [00:01<00:00, 849.61it/s]\n",
      "100%|██████████| 1000/1000 [00:01<00:00, 859.34it/s]\n",
      "100%|██████████| 1000/1000 [00:01<00:00, 893.61it/s]\n",
      "100%|██████████| 1000/1000 [00:01<00:00, 954.20it/s]\n",
      "100%|██████████| 1000/1000 [00:01<00:00, 860.29it/s]\n",
      "100%|██████████| 1020/1020 [00:06<00:00, 167.01it/s]\n",
      "100%|██████████| 24/24 [00:06<00:00,  3.80it/s]\n"
     ]
    },
    {
     "name": "stdout",
     "output_type": "stream",
     "text": [
      "LOG: Optimal Detection Config: svm_detection_XY: 0.9442389006342494 (auc) || configs: 24 || elapsed_time: 6.32 (s)\n"
     ]
    },
    {
     "name": "stderr",
     "output_type": "stream",
     "text": [
      "100%|██████████| 8/8 [00:09<00:00,  1.16s/it]\n"
     ]
    },
    {
     "name": "stdout",
     "output_type": "stream",
     "text": [
      "LOG: Optimal Detection Config: lstm_detection_XY: 0.5024984498668709 (auc) || configs: 8 || elapsed_time: 9.25 (s)\n",
      "LOG: Optimal Simulation: Max C2ST AUC achieved: 0.9442308924338522\n",
      "_____________________________________________________________________________________________________________\n",
      "_____________________________________________________________________________________________________________\n",
      "_______________________ {'cd': {'cd_method': 'PCMCI', 'cd_kwargs': None}, 'fc': {'pred_method': 'TCDF', 'pred_kwargs': {}}, 'z': {'noise_approximation': 'spline'}, 'o': {'noise_approximation': 'spline'}} _______________________\n"
     ]
    },
    {
     "name": "stderr",
     "output_type": "stream",
     "text": [
      "100%|██████████| 1000/1000 [00:01<00:00, 698.43it/s]\n",
      "100%|██████████| 1000/1000 [00:01<00:00, 614.75it/s]\n",
      "100%|██████████| 1000/1000 [00:01<00:00, 890.72it/s]\n",
      "100%|██████████| 1000/1000 [00:01<00:00, 801.72it/s]\n",
      "100%|██████████| 1000/1000 [00:01<00:00, 748.08it/s]\n",
      "100%|██████████| 1020/1020 [00:05<00:00, 183.29it/s]\n",
      "100%|██████████| 24/24 [00:04<00:00,  4.85it/s]\n"
     ]
    },
    {
     "name": "stdout",
     "output_type": "stream",
     "text": [
      "LOG: Optimal Detection Config: svm_detection_XY: 0.9869211735595617 (auc) || configs: 24 || elapsed_time: 4.95 (s)\n"
     ]
    },
    {
     "name": "stderr",
     "output_type": "stream",
     "text": [
      "100%|██████████| 8/8 [00:09<00:00,  1.18s/it]\n"
     ]
    },
    {
     "name": "stdout",
     "output_type": "stream",
     "text": [
      "LOG: Optimal Detection Config: lstm_detection_XY: 0.526078216374269 (auc) || configs: 8 || elapsed_time: 9.46 (s)\n",
      "LOG: Optimal Simulation: Max C2ST AUC achieved: 0.9869211735595617\n",
      "_____________________________________________________________________________________________________________\n",
      "_____________________________________________________________________________________________________________\n",
      "_______________________ {'cd': {'cd_method': 'PCMCI', 'cd_kwargs': {'n_lags': 3, 'n_reps': 10}}, 'fc': {'pred_method': 'TCDF', 'pred_kwargs': {}}, 'z': {'noise_approximation': 'est'}, 'o': {'noise_approximation': 'est'}} _______________________\n"
     ]
    },
    {
     "name": "stderr",
     "output_type": "stream",
     "text": [
      "100%|██████████| 1000/1000 [00:01<00:00, 978.51it/s]\n",
      "100%|██████████| 1000/1000 [00:01<00:00, 941.00it/s]\n",
      "100%|██████████| 1000/1000 [00:01<00:00, 867.30it/s]\n",
      "100%|██████████| 1000/1000 [00:01<00:00, 876.73it/s]\n",
      "100%|██████████| 1000/1000 [00:01<00:00, 723.06it/s]\n",
      "100%|██████████| 1020/1020 [00:05<00:00, 188.71it/s]\n",
      "100%|██████████| 24/24 [00:04<00:00,  5.74it/s]\n"
     ]
    },
    {
     "name": "stdout",
     "output_type": "stream",
     "text": [
      "LOG: Optimal Detection Config: svm_detection_XY: 0.9846930572080909 (auc) || configs: 24 || elapsed_time: 4.18 (s)\n"
     ]
    },
    {
     "name": "stderr",
     "output_type": "stream",
     "text": [
      "100%|██████████| 8/8 [00:08<00:00,  1.04s/it]\n"
     ]
    },
    {
     "name": "stdout",
     "output_type": "stream",
     "text": [
      "LOG: Optimal Detection Config: lstm_detection_XY: 0.53637194008038 (auc) || configs: 8 || elapsed_time: 8.32 (s)\n",
      "LOG: Optimal Simulation: Max C2ST AUC achieved: 0.9846769784866708\n",
      "_____________________________________________________________________________________________________________\n",
      "_____________________________________________________________________________________________________________\n",
      "_______________________ {'cd': {'cd_method': 'PCMCI', 'cd_kwargs': {'n_lags': 3, 'n_reps': 10}}, 'fc': {'pred_method': 'TCDF', 'pred_kwargs': {}}, 'z': {'noise_approximation': 'spline'}, 'o': {'noise_approximation': 'spline'}} _______________________\n"
     ]
    },
    {
     "name": "stderr",
     "output_type": "stream",
     "text": [
      "100%|██████████| 1000/1000 [00:01<00:00, 811.00it/s]\n",
      "100%|██████████| 1000/1000 [00:01<00:00, 945.89it/s]\n",
      "100%|██████████| 1000/1000 [00:01<00:00, 904.40it/s]\n",
      "100%|██████████| 1000/1000 [00:01<00:00, 740.85it/s]\n",
      "100%|██████████| 1000/1000 [00:01<00:00, 730.53it/s]\n",
      "100%|██████████| 1020/1020 [00:05<00:00, 190.59it/s]\n",
      "100%|██████████| 24/24 [00:07<00:00,  3.41it/s]\n"
     ]
    },
    {
     "name": "stdout",
     "output_type": "stream",
     "text": [
      "LOG: Optimal Detection Config: svm_detection_XY: 0.9677631052420969 (auc) || configs: 24 || elapsed_time: 7.04 (s)\n"
     ]
    },
    {
     "name": "stderr",
     "output_type": "stream",
     "text": [
      "100%|██████████| 8/8 [00:08<00:00,  1.04s/it]\n"
     ]
    },
    {
     "name": "stdout",
     "output_type": "stream",
     "text": [
      "LOG: Optimal Detection Config: lstm_detection_XY: 0.5104762078130121 (auc) || configs: 8 || elapsed_time: 8.31 (s)\n",
      "LOG: Optimal Simulation: Max C2ST AUC achieved: 0.9677470988395358\n",
      "_____________________________________________________________________________________________________________\n",
      "LOG: Optimal simulation (0.9442308924338522 auc): chosen configuration: {\n",
      "    \"cd\": {\n",
      "        \"cd_kwargs\": null,\n",
      "        \"cd_method\": \"PCMCI\"\n",
      "    },\n",
      "    \"fc\": {\n",
      "        \"pred_kwargs\": {},\n",
      "        \"pred_method\": \"TCDF\"\n",
      "    },\n",
      "    \"o\": {\n",
      "        \"noise_approximation\": \"est\"\n",
      "    },\n",
      "    \"z\": {\n",
      "        \"noise_approximation\": \"est\"\n",
      "    }\n",
      "}\n"
     ]
    },
    {
     "name": "stderr",
     "output_type": "stream",
     "text": [
      "100%|██████████| 24/24 [00:06<00:00,  3.91it/s]\n"
     ]
    },
    {
     "name": "stdout",
     "output_type": "stream",
     "text": [
      "LOG: Optimal Detection Config: svm_detection_XY: 0.9658791385406622 (auc) || configs: 24 || elapsed_time: 6.15 (s)\n"
     ]
    },
    {
     "name": "stderr",
     "output_type": "stream",
     "text": [
      "100%|██████████| 8/8 [00:08<00:00,  1.11s/it]\n"
     ]
    },
    {
     "name": "stdout",
     "output_type": "stream",
     "text": [
      "LOG: Optimal Detection Config: lstm_detection_XY: 0.5571739130434783 (auc) || configs: 8 || elapsed_time: 8.88 (s)\n",
      "\n",
      " ____________________________________ Simulate w/ CausalTime ____________________________________ \n",
      "\n",
      "Loading Data...\n",
      "In loader:X_shape:torch.Size([32, 20, 5]),y_shape:torch.Size([32, 5])\n",
      "Training Full Model...\n",
      "Epoch 1/1, Train Loss: 0.09323605488364896\n",
      "Epoch 1/1, Val Loss: 0.019079972803592683\n",
      "Training Masked Model...\n",
      "Epoch 1/1, Train Loss: 0.15105717253560821\n",
      "Epoch 1/1, Val Loss: 0.022534190490841866\n",
      "Training NF Residual Model...\n",
      "Epoch 1/5, Loss: 0.0442\n",
      "Epoch 2/5, Loss: 0.0144\n",
      "Epoch 3/5, Loss: 0.0066\n",
      "Epoch 4/5, Loss: 0.0031\n",
      "Epoch 5/5, Loss: 0.0018\n",
      "Generating data...\n"
     ]
    },
    {
     "name": "stderr",
     "output_type": "stream",
     "text": [
      "100%|██████████| 24/24 [00:06<00:00,  3.52it/s]\n"
     ]
    },
    {
     "name": "stdout",
     "output_type": "stream",
     "text": [
      "LOG: Optimal Detection Config: svm_detection_XY: 0.9148160051422144 (auc) || configs: 24 || elapsed_time: 6.83 (s)\n"
     ]
    },
    {
     "name": "stderr",
     "output_type": "stream",
     "text": [
      "100%|██████████| 8/8 [00:09<00:00,  1.14s/it]\n"
     ]
    },
    {
     "name": "stdout",
     "output_type": "stream",
     "text": [
      "LOG: Optimal Detection Config: lstm_detection_XY: 0.5351845085860432 (auc) || configs: 8 || elapsed_time: 9.13 (s)\n",
      "\n",
      " ____________ Simulate w/ SDV ____________ \n",
      "\n"
     ]
    },
    {
     "name": "stderr",
     "output_type": "stream",
     "text": [
      "100%|██████████| 24/24 [00:06<00:00,  3.80it/s]\n"
     ]
    },
    {
     "name": "stdout",
     "output_type": "stream",
     "text": [
      "LOG: Optimal Detection Config: svm_detection_XY: 0.9337652057317329 (auc) || configs: 24 || elapsed_time: 6.32 (s)\n"
     ]
    },
    {
     "name": "stderr",
     "output_type": "stream",
     "text": [
      "100%|██████████| 8/8 [00:08<00:00,  1.07s/it]\n"
     ]
    },
    {
     "name": "stdout",
     "output_type": "stream",
     "text": [
      "LOG: Optimal Detection Config: lstm_detection_XY: 0.522667638483965 (auc) || configs: 8 || elapsed_time: 8.56 (s)\n",
      "\n",
      " _____________ Simulate w/ TimeVAE _____________ \n",
      "\n"
     ]
    },
    {
     "name": "stderr",
     "output_type": "stream",
     "text": [
      "[2025-04-10T18:35:35.941209+0300][25524][CRITICAL] module disabled: c:\\Users\\skypl\\AppData\\Local\\Programs\\Python\\Python310\\lib\\site-packages\\synthcity\\plugins\\generic\\plugin_goggle.py\n",
      "100%|██████████| 30/30 [00:08<00:00,  3.69it/s]\n",
      "100%|██████████| 24/24 [00:07<00:00,  3.19it/s]\n"
     ]
    },
    {
     "name": "stdout",
     "output_type": "stream",
     "text": [
      "LOG: Optimal Detection Config: svm_detection_XY: 0.8176982435748419 (auc) || configs: 24 || elapsed_time: 7.52 (s)\n"
     ]
    },
    {
     "name": "stderr",
     "output_type": "stream",
     "text": [
      "100%|██████████| 8/8 [00:08<00:00,  1.12s/it]\n"
     ]
    },
    {
     "name": "stdout",
     "output_type": "stream",
     "text": [
      "LOG: Optimal Detection Config: lstm_detection_XY: 0.5458921222810112 (auc) || configs: 8 || elapsed_time: 8.92 (s)\n",
      " \n",
      "------------- timeseries5.csv ---------------\n",
      " \n",
      "true data length: 1200\n",
      "true data length (adjusted): 1000\n",
      "LOG: Optimal simulation: 6 are to be tested ...\n",
      "_____________________________________________________________________________________________________________\n",
      "_______________________ {'cd': {'cd_method': 'CP', 'cd_kwargs': {'model': '../cd_methods/CausalPretraining/res/deep_CI_RH_12_3_merged_290k.ckpt', 'model_name': 'deep_CI_RH_12_3_merged_290k', 'MAX_VAR': 12, 'thresholded': True, 'threshold': 0.05, 'enforce_density': False, 'density': [2, 10]}}, 'fc': {'pred_method': 'TCDF', 'pred_kwargs': {}}, 'z': {'noise_approximation': 'est'}, 'o': {'noise_approximation': 'est'}} _______________________\n"
     ]
    },
    {
     "name": "stderr",
     "output_type": "stream",
     "text": [
      "100%|██████████| 1000/1000 [00:01<00:00, 711.65it/s]\n",
      "100%|██████████| 1000/1000 [00:01<00:00, 715.23it/s]\n",
      "100%|██████████| 1000/1000 [00:01<00:00, 818.77it/s]\n",
      "100%|██████████| 1000/1000 [00:01<00:00, 842.51it/s]\n",
      "100%|██████████| 1000/1000 [00:01<00:00, 814.35it/s]\n",
      "100%|██████████| 1020/1020 [00:06<00:00, 160.95it/s]\n",
      "100%|██████████| 24/24 [00:07<00:00,  3.21it/s]\n"
     ]
    },
    {
     "name": "stdout",
     "output_type": "stream",
     "text": [
      "LOG: Optimal Detection Config: svm_detection_XY: 0.677713590757069 (auc) || configs: 24 || elapsed_time: 7.48 (s)\n"
     ]
    },
    {
     "name": "stderr",
     "output_type": "stream",
     "text": [
      "100%|██████████| 8/8 [00:08<00:00,  1.03s/it]\n"
     ]
    },
    {
     "name": "stdout",
     "output_type": "stream",
     "text": [
      "LOG: Optimal Detection Config: lstm_detection_XY: 0.4982247920470684 (auc) || configs: 8 || elapsed_time: 8.21 (s)\n",
      "LOG: Optimal Simulation: Max C2ST AUC achieved: 0.6774095469747644\n",
      "_____________________________________________________________________________________________________________\n",
      "_____________________________________________________________________________________________________________\n",
      "_______________________ {'cd': {'cd_method': 'CP', 'cd_kwargs': {'model': '../cd_methods/CausalPretraining/res/deep_CI_RH_12_3_merged_290k.ckpt', 'model_name': 'deep_CI_RH_12_3_merged_290k', 'MAX_VAR': 12, 'thresholded': True, 'threshold': 0.05, 'enforce_density': False, 'density': [2, 10]}}, 'fc': {'pred_method': 'TCDF', 'pred_kwargs': {}}, 'z': {'noise_approximation': 'spline'}, 'o': {'noise_approximation': 'spline'}} _______________________\n"
     ]
    },
    {
     "name": "stderr",
     "output_type": "stream",
     "text": [
      "100%|██████████| 1000/1000 [00:01<00:00, 873.22it/s]\n",
      "100%|██████████| 1000/1000 [00:01<00:00, 803.97it/s]\n",
      "100%|██████████| 1000/1000 [00:01<00:00, 833.08it/s]\n",
      "100%|██████████| 1000/1000 [00:01<00:00, 644.85it/s]\n",
      "100%|██████████| 1000/1000 [00:01<00:00, 639.72it/s]\n",
      "100%|██████████| 1020/1020 [00:05<00:00, 173.35it/s]\n",
      "100%|██████████| 24/24 [00:06<00:00,  3.63it/s]\n"
     ]
    },
    {
     "name": "stdout",
     "output_type": "stream",
     "text": [
      "LOG: Optimal Detection Config: svm_detection_XY: 0.6669902581919749 (auc) || configs: 24 || elapsed_time: 6.62 (s)\n"
     ]
    },
    {
     "name": "stderr",
     "output_type": "stream",
     "text": [
      "100%|██████████| 8/8 [00:07<00:00,  1.04it/s]\n"
     ]
    },
    {
     "name": "stdout",
     "output_type": "stream",
     "text": [
      "LOG: Optimal Detection Config: lstm_detection_XY: 0.6019847357893306 (auc) || configs: 8 || elapsed_time: 7.66 (s)\n",
      "LOG: Optimal Simulation: Max C2ST AUC achieved: 0.6668369779957762\n",
      "_____________________________________________________________________________________________________________\n",
      "_____________________________________________________________________________________________________________\n",
      "_______________________ {'cd': {'cd_method': 'PCMCI', 'cd_kwargs': None}, 'fc': {'pred_method': 'TCDF', 'pred_kwargs': {}}, 'z': {'noise_approximation': 'est'}, 'o': {'noise_approximation': 'est'}} _______________________\n"
     ]
    },
    {
     "name": "stderr",
     "output_type": "stream",
     "text": [
      "100%|██████████| 1000/1000 [00:00<00:00, 1250.71it/s]\n",
      "100%|██████████| 1000/1000 [00:01<00:00, 981.35it/s]\n",
      "100%|██████████| 1000/1000 [00:01<00:00, 950.80it/s]\n",
      "100%|██████████| 1000/1000 [00:01<00:00, 966.18it/s]\n",
      "100%|██████████| 1000/1000 [00:01<00:00, 948.38it/s]\n",
      "100%|██████████| 1020/1020 [00:05<00:00, 201.47it/s]\n",
      "100%|██████████| 24/24 [00:07<00:00,  3.13it/s]\n"
     ]
    },
    {
     "name": "stdout",
     "output_type": "stream",
     "text": [
      "LOG: Optimal Detection Config: svm_detection_XY: 0.6613359726346131 (auc) || configs: 24 || elapsed_time: 7.67 (s)\n"
     ]
    },
    {
     "name": "stderr",
     "output_type": "stream",
     "text": [
      "  0%|          | 0/8 [00:01<?, ?it/s]\n"
     ]
    },
    {
     "name": "stdout",
     "output_type": "stream",
     "text": [
      "LOG: Optimal Simulation: A configuration failed to run, thus is removed : 6 -> 5\n",
      "_____________________________________________________________________________________________________________\n",
      "_______________________ {'cd': {'cd_method': 'PCMCI', 'cd_kwargs': {'n_lags': 3, 'n_reps': 10}}, 'fc': {'pred_method': 'TCDF', 'pred_kwargs': {}}, 'z': {'noise_approximation': 'est'}, 'o': {'noise_approximation': 'est'}} _______________________\n"
     ]
    },
    {
     "name": "stderr",
     "output_type": "stream",
     "text": [
      "100%|██████████| 1000/1000 [00:01<00:00, 793.92it/s]\n",
      "100%|██████████| 1000/1000 [00:01<00:00, 786.18it/s]\n",
      "100%|██████████| 1000/1000 [00:01<00:00, 779.36it/s]\n",
      "100%|██████████| 1000/1000 [00:01<00:00, 762.17it/s]\n",
      "100%|██████████| 1000/1000 [00:01<00:00, 796.36it/s]\n",
      "100%|██████████| 1020/1020 [00:05<00:00, 184.84it/s]\n",
      "100%|██████████| 24/24 [00:07<00:00,  3.21it/s]\n"
     ]
    },
    {
     "name": "stdout",
     "output_type": "stream",
     "text": [
      "LOG: Optimal Detection Config: svm_detection_XY: 0.638071556844868 (auc) || configs: 24 || elapsed_time: 7.49 (s)\n"
     ]
    },
    {
     "name": "stderr",
     "output_type": "stream",
     "text": [
      " 50%|█████     | 4/8 [00:05<00:05,  1.43s/it]\n"
     ]
    },
    {
     "name": "stdout",
     "output_type": "stream",
     "text": [
      "LOG: Optimal Simulation: A configuration failed to run, thus is removed : 5 -> 4\n",
      "LOG: Optimal simulation (0.6668369779957762 auc): chosen configuration: {\n",
      "    \"cd\": {\n",
      "        \"cd_kwargs\": {\n",
      "            \"MAX_VAR\": 12,\n",
      "            \"density\": [\n",
      "                2,\n",
      "                10\n",
      "            ],\n",
      "            \"enforce_density\": false,\n",
      "            \"model\": \"../cd_methods/CausalPretraining/res/deep_CI_RH_12_3_merged_290k.ckpt\",\n",
      "            \"model_name\": \"deep_CI_RH_12_3_merged_290k\",\n",
      "            \"threshold\": 0.05,\n",
      "            \"thresholded\": true\n",
      "        },\n",
      "        \"cd_method\": \"CP\"\n",
      "    },\n",
      "    \"fc\": {\n",
      "        \"pred_kwargs\": {},\n",
      "        \"pred_method\": \"TCDF\"\n",
      "    },\n",
      "    \"o\": {\n",
      "        \"noise_approximation\": \"spline\"\n",
      "    },\n",
      "    \"z\": {\n",
      "        \"noise_approximation\": \"spline\"\n",
      "    }\n",
      "}\n"
     ]
    },
    {
     "name": "stderr",
     "output_type": "stream",
     "text": [
      "100%|██████████| 24/24 [00:07<00:00,  3.33it/s]\n"
     ]
    },
    {
     "name": "stdout",
     "output_type": "stream",
     "text": [
      "LOG: Optimal Detection Config: svm_detection_XY: 0.6258817427385892 (auc) || configs: 24 || elapsed_time: 7.21 (s)\n"
     ]
    },
    {
     "name": "stderr",
     "output_type": "stream",
     "text": [
      "100%|██████████| 8/8 [00:08<00:00,  1.07s/it]\n"
     ]
    },
    {
     "name": "stdout",
     "output_type": "stream",
     "text": [
      "LOG: Optimal Detection Config: lstm_detection_XY: 0.5203305066318764 (auc) || configs: 8 || elapsed_time: 8.58 (s)\n",
      "\n",
      " ____________________________________ Simulate w/ CausalTime ____________________________________ \n",
      "\n",
      "Loading Data...\n",
      "In loader:X_shape:torch.Size([32, 20, 5]),y_shape:torch.Size([32, 5])\n",
      "Training Full Model...\n",
      "Epoch 1/1, Train Loss: 0.218727508187294\n",
      "Epoch 1/1, Val Loss: 0.15733985602855682\n",
      "Training Masked Model...\n",
      "Epoch 1/1, Train Loss: 0.21338889598846436\n",
      "Epoch 1/1, Val Loss: 0.14980284869670868\n",
      "Training NF Residual Model...\n",
      "Epoch 1/5, Loss: 0.1408\n",
      "Epoch 2/5, Loss: 0.0200\n",
      "Epoch 3/5, Loss: 0.0123\n",
      "Epoch 4/5, Loss: 0.0074\n",
      "Epoch 5/5, Loss: 0.0048\n",
      "Generating data...\n"
     ]
    },
    {
     "name": "stderr",
     "output_type": "stream",
     "text": [
      "100%|██████████| 24/24 [00:06<00:00,  3.76it/s]\n"
     ]
    },
    {
     "name": "stdout",
     "output_type": "stream",
     "text": [
      "LOG: Optimal Detection Config: svm_detection_XY: 0.7815547457921221 (auc) || configs: 24 || elapsed_time: 6.39 (s)\n"
     ]
    },
    {
     "name": "stderr",
     "output_type": "stream",
     "text": [
      "100%|██████████| 8/8 [00:09<00:00,  1.13s/it]\n"
     ]
    },
    {
     "name": "stdout",
     "output_type": "stream",
     "text": [
      "LOG: Optimal Detection Config: lstm_detection_XY: 0.58006799069601 (auc) || configs: 8 || elapsed_time: 9.04 (s)\n",
      "\n",
      " ____________ Simulate w/ SDV ____________ \n",
      "\n"
     ]
    },
    {
     "name": "stderr",
     "output_type": "stream",
     "text": [
      "100%|██████████| 24/24 [00:07<00:00,  3.09it/s]\n"
     ]
    },
    {
     "name": "stdout",
     "output_type": "stream",
     "text": [
      "LOG: Optimal Detection Config: svm_detection_XY: 0.6289777527457054 (auc) || configs: 24 || elapsed_time: 7.78 (s)\n"
     ]
    },
    {
     "name": "stderr",
     "output_type": "stream",
     "text": [
      "  0%|          | 0/8 [00:01<?, ?it/s]\n"
     ]
    },
    {
     "ename": "ValueError",
     "evalue": "all the input arrays must have same number of dimensions, but the array at index 0 has 1 dimension(s) and the array at index 14 has 0 dimension(s)",
     "output_type": "error",
     "traceback": [
      "\u001b[1;31m---------------------------------------------------------------------------\u001b[0m",
      "\u001b[1;31mValueError\u001b[0m                                Traceback (most recent call last)",
      "Cell \u001b[1;32mIn[16], line 173\u001b[0m\n\u001b[0;32m    171\u001b[0m \u001b[38;5;66;03m# Evaluate\u001b[39;00m\n\u001b[0;32m    172\u001b[0m train_X, train_Y, test_X, test_Y \u001b[38;5;241m=\u001b[39m prepare_det_data(real\u001b[38;5;241m=\u001b[39mtrue_data, synthetic\u001b[38;5;241m=\u001b[39msdv_data)\n\u001b[1;32m--> 173\u001b[0m sdv_auc \u001b[38;5;241m=\u001b[39m \u001b[43mrun_detection_metrics_XY\u001b[49m\u001b[43m(\u001b[49m\u001b[43mtrain_X\u001b[49m\u001b[38;5;241;43m=\u001b[39;49m\u001b[43mtrain_X\u001b[49m\u001b[43m,\u001b[49m\u001b[43m \u001b[49m\u001b[43mtrain_Y\u001b[49m\u001b[38;5;241;43m=\u001b[39;49m\u001b[43mtrain_Y\u001b[49m\u001b[43m,\u001b[49m\u001b[43m \u001b[49m\u001b[43mtest_X\u001b[49m\u001b[38;5;241;43m=\u001b[39;49m\u001b[43mtest_X\u001b[49m\u001b[43m,\u001b[49m\u001b[43m \u001b[49m\u001b[43mtest_Y\u001b[49m\u001b[38;5;241;43m=\u001b[39;49m\u001b[43mtest_Y\u001b[49m\u001b[43m)\u001b[49m[\u001b[38;5;124m'\u001b[39m\u001b[38;5;124mauc\u001b[39m\u001b[38;5;124m'\u001b[39m]\n\u001b[0;32m    175\u001b[0m \u001b[38;5;66;03m# Store\u001b[39;00m\n\u001b[0;32m    176\u001b[0m mmd_dict_sdv[filename] \u001b[38;5;241m=\u001b[39m mmd\n",
      "File \u001b[1;32mc:\\Users\\skypl\\Documents\\GitHub\\TCS\\code\\notebooks\\..\\simulation\\simulation_metrics.py:883\u001b[0m, in \u001b[0;36mrun_detection_metrics_XY\u001b[1;34m(train_X, train_Y, test_X, test_Y, svm_search_space, lstm_search_space, verbose)\u001b[0m\n\u001b[0;32m    863\u001b[0m     lstm_search_space \u001b[38;5;241m=\u001b[39m {\n\u001b[0;32m    864\u001b[0m         \u001b[38;5;124m\"\u001b[39m\u001b[38;5;124mbatch_size\u001b[39m\u001b[38;5;124m\"\u001b[39m : [\u001b[38;5;241m32\u001b[39m, \u001b[38;5;28;01mNone\u001b[39;00m], \n\u001b[0;32m    865\u001b[0m         \u001b[38;5;124m\"\u001b[39m\u001b[38;5;124mhidden_size\u001b[39m\u001b[38;5;124m\"\u001b[39m : [\u001b[38;5;241m128\u001b[39m],\n\u001b[1;32m   (...)\u001b[0m\n\u001b[0;32m    870\u001b[0m         \u001b[38;5;124m\"\u001b[39m\u001b[38;5;124mlearning_rate\u001b[39m\u001b[38;5;124m\"\u001b[39m : [\u001b[38;5;241m0.0001\u001b[39m, \u001b[38;5;241m0.001\u001b[39m],\n\u001b[0;32m    871\u001b[0m     }\n\u001b[0;32m    873\u001b[0m svm_auc, svm_probs, svm_labels, svm_config \u001b[38;5;241m=\u001b[39m get_optimal_config_XY(\n\u001b[0;32m    874\u001b[0m     train_X\u001b[38;5;241m=\u001b[39mtrain_X, \n\u001b[0;32m    875\u001b[0m     train_Y\u001b[38;5;241m=\u001b[39mtrain_Y,\n\u001b[1;32m   (...)\u001b[0m\n\u001b[0;32m    880\u001b[0m     verbose\u001b[38;5;241m=\u001b[39mverbose\n\u001b[0;32m    881\u001b[0m )\n\u001b[1;32m--> 883\u001b[0m lstm_auc, lstm_probs, lstm_labels, lstm_config \u001b[38;5;241m=\u001b[39m \u001b[43mget_optimal_config_XY\u001b[49m\u001b[43m(\u001b[49m\n\u001b[0;32m    884\u001b[0m \u001b[43m    \u001b[49m\u001b[43mtrain_X\u001b[49m\u001b[38;5;241;43m=\u001b[39;49m\u001b[43mtrain_X\u001b[49m\u001b[43m,\u001b[49m\u001b[43m \u001b[49m\n\u001b[0;32m    885\u001b[0m \u001b[43m    \u001b[49m\u001b[43mtrain_Y\u001b[49m\u001b[38;5;241;43m=\u001b[39;49m\u001b[43mtrain_Y\u001b[49m\u001b[43m,\u001b[49m\n\u001b[0;32m    886\u001b[0m \u001b[43m    \u001b[49m\u001b[43mtest_X\u001b[49m\u001b[38;5;241;43m=\u001b[39;49m\u001b[43mtest_X\u001b[49m\u001b[43m,\u001b[49m\u001b[43m \u001b[49m\n\u001b[0;32m    887\u001b[0m \u001b[43m    \u001b[49m\u001b[43mtest_Y\u001b[49m\u001b[38;5;241;43m=\u001b[39;49m\u001b[43mtest_Y\u001b[49m\u001b[43m,\u001b[49m\u001b[43m \u001b[49m\n\u001b[0;32m    888\u001b[0m \u001b[43m    \u001b[49m\u001b[43mdetection\u001b[49m\u001b[38;5;241;43m=\u001b[39;49m\u001b[43mlstm_detection_XY\u001b[49m\u001b[43m,\u001b[49m\u001b[43m \u001b[49m\n\u001b[0;32m    889\u001b[0m \u001b[43m    \u001b[49m\u001b[43msearch_space\u001b[49m\u001b[38;5;241;43m=\u001b[39;49m\u001b[43mlstm_search_space\u001b[49m\u001b[43m,\u001b[49m\n\u001b[0;32m    890\u001b[0m \u001b[43m    \u001b[49m\u001b[43mverbose\u001b[49m\u001b[38;5;241;43m=\u001b[39;49m\u001b[43mverbose\u001b[49m\n\u001b[0;32m    891\u001b[0m \u001b[43m\u001b[49m\u001b[43m)\u001b[49m\n\u001b[0;32m    893\u001b[0m \u001b[38;5;28;01mif\u001b[39;00m np\u001b[38;5;241m.\u001b[39mabs(lstm_auc \u001b[38;5;241m-\u001b[39m \u001b[38;5;241m0.5\u001b[39m) \u001b[38;5;241m>\u001b[39m np\u001b[38;5;241m.\u001b[39mabs(svm_auc \u001b[38;5;241m-\u001b[39m \u001b[38;5;241m0.5\u001b[39m): \n\u001b[0;32m    894\u001b[0m     \u001b[38;5;28;01mreturn\u001b[39;00m {\n\u001b[0;32m    895\u001b[0m         \u001b[38;5;124m\"\u001b[39m\u001b[38;5;124mauc\u001b[39m\u001b[38;5;124m\"\u001b[39m: lstm_auc,\n\u001b[0;32m    896\u001b[0m         \u001b[38;5;124m\"\u001b[39m\u001b[38;5;124mprobs\u001b[39m\u001b[38;5;124m\"\u001b[39m: lstm_probs,\n\u001b[0;32m    897\u001b[0m         \u001b[38;5;124m\"\u001b[39m\u001b[38;5;124mconfig\u001b[39m\u001b[38;5;124m\"\u001b[39m: lstm_config,\n\u001b[0;32m    898\u001b[0m         \u001b[38;5;124m\"\u001b[39m\u001b[38;5;124mdetector\u001b[39m\u001b[38;5;124m\"\u001b[39m: lstm_detection_XY \n\u001b[0;32m    899\u001b[0m     }\n",
      "File \u001b[1;32mc:\\Users\\skypl\\Documents\\GitHub\\TCS\\code\\notebooks\\..\\simulation\\simulation_metrics.py:798\u001b[0m, in \u001b[0;36mget_optimal_config_XY\u001b[1;34m(train_X, train_Y, test_X, test_Y, detection, search_space, verbose)\u001b[0m\n\u001b[0;32m    788\u001b[0m results \u001b[38;5;241m=\u001b[39m {\n\u001b[0;32m    789\u001b[0m     \u001b[38;5;124m\"\u001b[39m\u001b[38;5;124mconfig\u001b[39m\u001b[38;5;124m\"\u001b[39m: [], \n\u001b[0;32m    790\u001b[0m     \u001b[38;5;124m\"\u001b[39m\u001b[38;5;124mprobs\u001b[39m\u001b[38;5;124m\"\u001b[39m: [],\n\u001b[0;32m    791\u001b[0m     \u001b[38;5;124m\"\u001b[39m\u001b[38;5;124mlabels\u001b[39m\u001b[38;5;124m\"\u001b[39m: [],\n\u001b[0;32m    792\u001b[0m     \u001b[38;5;124m\"\u001b[39m\u001b[38;5;124mauc\u001b[39m\u001b[38;5;124m\"\u001b[39m: [] \n\u001b[0;32m    793\u001b[0m }\n\u001b[0;32m    795\u001b[0m \u001b[38;5;28;01mfor\u001b[39;00m config \u001b[38;5;129;01min\u001b[39;00m tqdm(configs):\n\u001b[0;32m    796\u001b[0m     \u001b[38;5;66;03m# partial(detection, **config)\u001b[39;00m\n\u001b[0;32m    797\u001b[0m     \u001b[38;5;66;03m# auc, probs, labels = detection(real=real, synthetic=synthetic, **config)\u001b[39;00m\n\u001b[1;32m--> 798\u001b[0m     auc, probs, labels \u001b[38;5;241m=\u001b[39m detection(train_X\u001b[38;5;241m=\u001b[39mtrain_X, train_Y\u001b[38;5;241m=\u001b[39mtrain_Y, test_X\u001b[38;5;241m=\u001b[39mtest_X, test_Y\u001b[38;5;241m=\u001b[39mtest_Y, \u001b[38;5;241m*\u001b[39m\u001b[38;5;241m*\u001b[39mconfig)\n\u001b[0;32m    799\u001b[0m     \u001b[38;5;28;01mif\u001b[39;00m verbose:\n\u001b[0;32m    800\u001b[0m         \u001b[38;5;28mprint\u001b[39m(\u001b[38;5;124mf\u001b[39m\u001b[38;5;124m\"\u001b[39m\u001b[38;5;124mLOG: Optimal Detection Config: Config: \u001b[39m\u001b[38;5;132;01m{\u001b[39;00mconfig\u001b[38;5;132;01m}\u001b[39;00m\u001b[38;5;130;01m\\n\u001b[39;00m\u001b[38;5;124m- Achieved AUC: \u001b[39m\u001b[38;5;132;01m{\u001b[39;00mauc\u001b[38;5;132;01m}\u001b[39;00m\u001b[38;5;124m\"\u001b[39m)\n",
      "File \u001b[1;32mc:\\Users\\skypl\\Documents\\GitHub\\TCS\\code\\notebooks\\..\\simulation\\simulation_metrics.py:301\u001b[0m, in \u001b[0;36mlstm_detection_XY\u001b[1;34m(train_X, train_Y, test_X, test_Y, batch_size, hidden_size, num_layers, dropout, seq_len, num_epochs, learning_rate, device)\u001b[0m\n\u001b[0;32m    295\u001b[0m classifier \u001b[38;5;241m=\u001b[39m ClassifierLSTM_V2(input_size\u001b[38;5;241m=\u001b[39minput_size, output_size\u001b[38;5;241m=\u001b[39m\u001b[38;5;241m1\u001b[39m,  \n\u001b[0;32m    296\u001b[0m                       hidden_size\u001b[38;5;241m=\u001b[39mhidden_size, num_layers\u001b[38;5;241m=\u001b[39mnum_layers, dropout\u001b[38;5;241m=\u001b[39mdropout)\n\u001b[0;32m    297\u001b[0m classifier\u001b[38;5;241m.\u001b[39mtrain_classifier(\n\u001b[0;32m    298\u001b[0m     train_X\u001b[38;5;241m=\u001b[39mtrain_X, train_Y\u001b[38;5;241m=\u001b[39mtrain_Y,  \n\u001b[0;32m    299\u001b[0m     batch_size\u001b[38;5;241m=\u001b[39mbatch_size, device\u001b[38;5;241m=\u001b[39mdevice, seq_len\u001b[38;5;241m=\u001b[39mseq_len, num_epochs\u001b[38;5;241m=\u001b[39mnum_epochs, learning_rate\u001b[38;5;241m=\u001b[39mlearning_rate \n\u001b[0;32m    300\u001b[0m )\n\u001b[1;32m--> 301\u001b[0m \u001b[38;5;28;01mreturn\u001b[39;00m \u001b[43mclassifier\u001b[49m\u001b[38;5;241;43m.\u001b[39;49m\u001b[43mtest_by_classify\u001b[49m\u001b[43m(\u001b[49m\u001b[43mtest_X\u001b[49m\u001b[38;5;241;43m=\u001b[39;49m\u001b[43mtest_X\u001b[49m\u001b[43m,\u001b[49m\u001b[43m \u001b[49m\u001b[43mtest_Y\u001b[49m\u001b[38;5;241;43m=\u001b[39;49m\u001b[43mtest_Y\u001b[49m\u001b[43m,\u001b[49m\u001b[43m \u001b[49m\u001b[43mbatch_size\u001b[49m\u001b[38;5;241;43m=\u001b[39;49m\u001b[43mbatch_size\u001b[49m\u001b[43m,\u001b[49m\u001b[43m \u001b[49m\u001b[43mdevice\u001b[49m\u001b[38;5;241;43m=\u001b[39;49m\u001b[43mdevice\u001b[49m\u001b[43m,\u001b[49m\u001b[43m \u001b[49m\u001b[43mverbose\u001b[49m\u001b[38;5;241;43m=\u001b[39;49m\u001b[38;5;28;43;01mFalse\u001b[39;49;00m\u001b[43m)\u001b[49m\n",
      "File \u001b[1;32mc:\\Users\\skypl\\Documents\\GitHub\\TCS\\code\\notebooks\\..\\simulation\\detection_lstm.py:454\u001b[0m, in \u001b[0;36mClassifierLSTM_V2.test_by_classify\u001b[1;34m(self, test_X, test_Y, device, batch_size, verbose)\u001b[0m\n\u001b[0;32m    452\u001b[0m         acc\u001b[38;5;241m.\u001b[39mappend(accuracy)\n\u001b[0;32m    453\u001b[0m accuracy \u001b[38;5;241m=\u001b[39m np\u001b[38;5;241m.\u001b[39mmean(acc)\n\u001b[1;32m--> 454\u001b[0m y_pred_list \u001b[38;5;241m=\u001b[39m \u001b[43mnp\u001b[49m\u001b[38;5;241;43m.\u001b[39;49m\u001b[43mconcatenate\u001b[49m\u001b[43m(\u001b[49m\u001b[43my_pred_list\u001b[49m\u001b[43m)\u001b[49m\n\u001b[0;32m    455\u001b[0m y_list \u001b[38;5;241m=\u001b[39m np\u001b[38;5;241m.\u001b[39mconcatenate(y_list)\n\u001b[0;32m    456\u001b[0m auc_score \u001b[38;5;241m=\u001b[39m roc_auc_score(y_list, y_pred_list)\n",
      "\u001b[1;31mValueError\u001b[0m: all the input arrays must have same number of dimensions, but the array at index 0 has 1 dimension(s) and the array at index 14 has 0 dimension(s)"
     ]
    }
   ],
   "source": [
    "par_dir = Path(os.getcwd()).parents[1].as_posix() \n",
    "\n",
    "# Data structure as such for convenient comparison with CausalTime\n",
    "DATA_DICT = {\n",
    "    filename.split(\".csv\")[0]: {\n",
    "        'data_path': f\"{par_dir}/data/fMRI/timeseries/\",\n",
    "        'data_type': 'fmri',\n",
    "        'task': filename, \n",
    "        'straight_path': f\"{par_dir}/data/fMRI/timeseries/\" + f\"{filename}\"\n",
    "    } for filename in os.listdir(f\"{par_dir}/data/fMRI/timeseries/\")\n",
    "\n",
    "    # filename.split(\".csv\")[0]: {\n",
    "    #     'data_path': f\"{par_dir}/data/cp_style/increasing_edges_cp_1/data/\",\n",
    "    #     'data_type': 'fmri',\n",
    "    #     'task': filename, \n",
    "    #     'straight_path': f\"{par_dir}/data/cp_style/increasing_edges_cp_1/data/\" + f\"{filename}\"\n",
    "    # } for filename in os.listdir(f\"{par_dir}/data/cp_style/increasing_edges_cp_1/data/\")\n",
    "}\n",
    "\n",
    "# CausalTime Parameters\n",
    "PARAMS = {\n",
    "    \"batch_size\" : 32, \n",
    "    \"hidden_size\" : 128, \n",
    "    \"num_layers\" : 2, \n",
    "    \"dropout\" : 0.1, \n",
    "    \"seq_length\" : 20, \n",
    "    \"test_size\" : 0.2, \n",
    "    \"learning_rate\" : 0.0001, \n",
    "    \"n_epochs\" : 1, \n",
    "    \"flow_length\" : 4, \n",
    "    \"gen_n\" : 20, \n",
    "    \"n\" : 2000,\n",
    "    \"arch_type\" : \"MLP\", \n",
    "    \"save_path\" : \"outputs/\", \n",
    "    \"log_dir\" : \"log/\", \n",
    "}\n",
    "\n",
    "# Placeholders\n",
    "det_dict = {}\n",
    "auc_dict_tcs = {}\n",
    "data_dict_tcs = {}\n",
    "auc_dict_ct = {}\n",
    "data_dict_ct = {}\n",
    "auc_dict_sdv = {}\n",
    "data_dict_sdv = {}\n",
    "auc_dict_tvae = {}\n",
    "data_dict_tvae = {}\n",
    "\n",
    "mmd_dict_tcs = {}\n",
    "mmd_dict_ct = {}\n",
    "mmd_dict_sdv = {}\n",
    "mmd_dict_tvae = {}\n",
    "\n",
    "for k, v in list(DATA_DICT.items())[:]:\n",
    "    \n",
    "    # info\n",
    "    filename = v['task']\n",
    "    print(f\" \\n------------- {filename} ---------------\\n \")\n",
    "\n",
    "    # data\n",
    "    true_data = pd.read_csv(v[\"straight_path\"])\n",
    "    \n",
    "    # adjust timesteps for computation time (1000 max)\n",
    "    print(f\"true data length: {true_data.shape[0]}\")\n",
    "    if true_data.shape[0]>1000:\n",
    "        anchor = np.random.uniform(low=0, high=true_data.shape[0]-1000)\n",
    "        true_data = true_data.loc[anchor : anchor + 1000, :]\n",
    "        print(f\"true data length (adjusted): {true_data.shape[0]}\")\n",
    "    \n",
    "\n",
    "    \"\"\" ____________________________________ Simulate w/ TCS ____________________________________ \"\"\"\n",
    "\n",
    "    results_tcs = get_optimal_sim_XY(true_data=true_data)\n",
    "    tcs_data = results_tcs[\"optimal_data\"]\n",
    "    tcs_auc = results_tcs[\"auc\"]\n",
    "\n",
    "    \"\"\" Get optimal det & config \"\"\"\n",
    "    optimal_det_config = results_tcs[\"optimal_detector_config\"]\n",
    "    optimal_det_func = results_tcs[\"optimal_detector\"]\n",
    "\n",
    "    # Fix potential length mismatches\n",
    "    if true_data.shape[0] > tcs_data.shape[0]:\n",
    "        true_data = true_data[:tcs_data.shape[0]]\n",
    "    elif true_data.shape[0] < tcs_data.shape[0]:\n",
    "        tcs_data = tcs_data[:true_data.shape[0]]\n",
    "\n",
    "    # Evaluate\n",
    "    train_X, train_Y, test_X, test_Y = prepare_det_data(real=true_data, synthetic=tcs_data)\n",
    "    tcs_auc = run_detection_metrics_XY(train_X=train_X, train_Y=train_Y, test_X=test_X, test_Y=test_Y)['auc']\n",
    "\n",
    "    mmd = mmd_torch(synthetic=tcs_data, real=true_data)\n",
    "\n",
    "    # Store\n",
    "    mmd_dict_tcs[filename] = mmd\n",
    "    auc_dict_tcs[filename] = tcs_auc\n",
    "    data_dict_tcs[filename] = tcs_data.copy()\n",
    "\n",
    "\n",
    "    print(\"\"\"\\n ____________________________________ Simulate w/ CausalTime ____________________________________ \\n\"\"\")\n",
    "\n",
    "    true_pd, pro_true_pd, skimmed_pd, pro_gen_pd = generate_CT(\n",
    "            batch_size=PARAMS[\"batch_size\"], \n",
    "            hidden_size=PARAMS[\"hidden_size\"], \n",
    "            num_layers=PARAMS[\"num_layers\"], \n",
    "            dropout=PARAMS[\"dropout\"], \n",
    "            seq_length=PARAMS[\"seq_length\"], \n",
    "            test_size=PARAMS[\"test_size\"], \n",
    "            learning_rate=PARAMS[\"learning_rate\"], \n",
    "            n_epochs=PARAMS[\"n_epochs\"], \n",
    "            flow_length=PARAMS[\"flow_length\"], \n",
    "            gen_n=PARAMS[\"gen_n\"], \n",
    "            n=PARAMS[\"n\"],\n",
    "            arch_type=PARAMS[\"arch_type\"], \n",
    "            save_path=PARAMS[\"save_path\"], \n",
    "            log_dir=PARAMS[\"log_dir\"], \n",
    "            data_path=v[\"data_path\"],\n",
    "            data_type= v[\"data_type\"], \n",
    "            task= v[\"task\"],\n",
    "        )\n",
    "    ct_data = pro_gen_pd.copy()\n",
    "\n",
    "    # Fix potential length mismatches\n",
    "    if true_data.shape[0] > ct_data.shape[0]:\n",
    "        true_data = true_data[:ct_data.shape[0]]\n",
    "    elif true_data.shape[0] < ct_data.shape[0]:\n",
    "        ct_data = ct_data[:true_data.shape[0]]\n",
    "\n",
    "    # Evaluate\n",
    "    train_X, train_Y, test_X, test_Y = prepare_det_data(real=true_data, synthetic=ct_data)\n",
    "    ct_auc = run_detection_metrics_XY(train_X=train_X, train_Y=train_Y, test_X=test_X, test_Y=test_Y)['auc']\n",
    "\n",
    "    mmd = mmd_torch(synthetic=ct_data, real=true_data)\n",
    "\n",
    "    # Store\n",
    "    mmd_dict_ct[filename] = mmd\n",
    "    auc_dict_ct[filename] = ct_auc\n",
    "    data_dict_ct[filename] = ct_data.copy()\n",
    "\n",
    "\n",
    "    print(\"\"\"\\n ____________ Simulate w/ SDV ____________ \\n\"\"\")\n",
    "\n",
    "    true_data_sdv = true_data.copy()\n",
    "\n",
    "    # Creating same conditions as CausalTime\n",
    "    els = true_data_sdv.shape[0] % (true_data_sdv.shape[0]//20)\n",
    "    if els!=0:\n",
    "        true_data_sdv = true_data_sdv.loc[:-els, :]\n",
    "\n",
    "    # Sequence key\n",
    "    true_data_sdv.loc[:, 'id'] = [i for i in range(true_data_sdv.shape[0]//20) for _ in range(20)]\n",
    "\n",
    "    # Metadata\n",
    "    metadata = Metadata.detect_from_dataframe(data=true_data_sdv)\n",
    "    metadata.tables[\"table\"].columns[\"id\"][\"sdtype\"] = \"id\"\n",
    "    metadata.set_sequence_key(column_name='id')\n",
    "\n",
    "    # Synthesizer\n",
    "    synthesizer = PARSynthesizer(metadata)\n",
    "    synthesizer.fit(data=true_data_sdv)\n",
    "    synthetic_data = synthesizer.sample(num_sequences=true_data_sdv.shape[0]//20 + 1)\n",
    "\n",
    "    # Fix potential length mismatches\n",
    "    sdv_data = synthetic_data.loc[:len(true_data), :].drop(columns=[\"id\"])\n",
    "    if true_data.shape[0] > sdv_data.shape[0]:\n",
    "        true_data = true_data[:sdv_data.shape[0]]\n",
    "    elif true_data.shape[0] < sdv_data.shape[0]:\n",
    "        sdv_data = sdv_data[:true_data.shape[0]]\n",
    "    \n",
    "    mmd = mmd_torch(synthetic=sdv_data, real=true_data)\n",
    "\n",
    "    # Evaluate\n",
    "    train_X, train_Y, test_X, test_Y = prepare_det_data(real=true_data, synthetic=sdv_data)\n",
    "    sdv_auc = run_detection_metrics_XY(train_X=train_X, train_Y=train_Y, test_X=test_X, test_Y=test_Y)['auc']\n",
    "\n",
    "    # Store\n",
    "    mmd_dict_sdv[filename] = mmd\n",
    "    auc_dict_sdv[filename] = sdv_auc\n",
    "    data_dict_sdv[filename] = sdv_data.copy()\n",
    "\n",
    "\n",
    "    print(\"\"\"\\n _____________ Simulate w/ TimeVAE _____________ \\n\"\"\")\n",
    "    \n",
    "    # Prepare TimeVAE Data\n",
    "    dat = true_data.copy()\n",
    "\n",
    "    n_samples = dat.shape[0]\n",
    "    if 'target' in dat.columns:\n",
    "        X = dat.drop(columns=['target']) \n",
    "        y = dat['target'] \n",
    "    else:\n",
    "        X = dat\n",
    "        y = None\n",
    "\n",
    "    temporal_data = [X]\n",
    "    observation_times = [X.index.to_numpy()]\n",
    "\n",
    "    # Initialize the TimeSeriesDataLoader\n",
    "    X_loader = TimeSeriesDataLoader(\n",
    "        temporal_data=temporal_data, \n",
    "        observation_times=observation_times, \n",
    "        outcome=y,\n",
    "        static_data=None,\n",
    "        train_size=1.0, \n",
    "        test_size=0.0\n",
    "    )\n",
    "\n",
    "    # Define plugin kwargs for TimeVAE\n",
    "    plugin_kwargs = dict(\n",
    "        n_iter=30,\n",
    "        batch_size=64,\n",
    "        lr=0.001,\n",
    "        encoder_n_layers_hidden=2,\n",
    "        decoder_n_layers_hidden=2,\n",
    "        encoder_dropout=0.05,\n",
    "        decoder_dropout=0.05\n",
    "    )\n",
    "\n",
    "    # Initialize the generative model for TimeVAE\n",
    "    test_plugin = Plugins().get(\"tvae\", **plugin_kwargs)\n",
    "    # test_plugin = Plugins().get(\"timegan\", ?)\n",
    "\n",
    "    # Fit the model\n",
    "    if y is not None:\n",
    "        test_plugin.fit(X_loader, cond=y)\n",
    "    else:\n",
    "        test_plugin.fit(X_loader)\n",
    "\n",
    "    # Generate synthetic data\n",
    "    generated_data = test_plugin.generate(count=n_samples) \n",
    "\n",
    "    # Extract the generated time-series data\n",
    "    generated_data = generated_data.data[\"seq_data\"]\n",
    "\n",
    "    # Drop unnecessary columns like \"seq_id\", \"seq_time_id\"\n",
    "    generated_data = generated_data.drop(columns=[\"seq_id\", \"seq_time_id\"])\n",
    "\n",
    "    # Fix potential length mismatches\n",
    "    if true_data.shape[0] > generated_data.shape[0]:\n",
    "        true_data = true_data[:generated_data.shape[0]]\n",
    "    elif true_data.shape[0] < generated_data.shape[0]:\n",
    "        generated_data = generated_data[:true_data.shape[0]]\n",
    "\n",
    "    # Evaluate TimeVAE generated data\n",
    "    train_X, train_Y, test_X, test_Y = prepare_det_data(real=true_data, synthetic=generated_data)\n",
    "    tvae_auc = run_detection_metrics_XY(train_X=train_X, train_Y=train_Y, test_X=test_X, test_Y=test_Y)['auc']\n",
    "\n",
    "    mmd = mmd_torch(synthetic=generated_data, real=dat)\n",
    "\n",
    "    # Store results for TimeVAE\n",
    "    mmd_dict_tvae[filename] = mmd\n",
    "    auc_dict_tvae[filename] = tvae_auc\n",
    "    data_dict_tvae[filename] = generated_data.copy()"
   ]
  },
  {
   "cell_type": "code",
   "execution_count": 17,
   "metadata": {},
   "outputs": [
    {
     "name": "stdout",
     "output_type": "stream",
     "text": [
      "TCS Mean AUC: 0.8475526966544485\n",
      "TCS Var AUC: 0.024606415608688023\n",
      "TCS Mean MMD: 0.36029217295480737\n",
      "TCS Var MMD: 0.10106659917054188\n",
      "CT Mean AUC: 0.8643114416058326\n",
      "CT Var AUC: 0.003479860558812584\n",
      "CT Mean MMD: 0.7261486337460726\n",
      "CT Var MMD: 0.051238998105620805\n",
      "CPAR Mean AUC: 0.9427972950093426\n",
      "CPAR Var AUC: 8.157863671871173e-05\n",
      "CPAR Mean MMD: 0.5319806322132664\n",
      "CPAR Var MMD: 0.0010053168238085325\n",
      "TimeVAE Mean AUC: 0.8306886256862359\n",
      "TimeVAE Var AUC: 0.00016875002740002597\n",
      "TimeVAE Mean MMD: 0.08680551121902977\n",
      "TimeVAE Var MMD: 0.00013306930706544768\n"
     ]
    }
   ],
   "source": [
    "print(f\"TCS Mean AUC: {np.array(list(auc_dict_tcs.values())).mean()}\")\n",
    "print(f\"TCS Var AUC: {np.array(list(auc_dict_tcs.values())).var()}\")\n",
    "\n",
    "print(f\"TCS Mean MMD: {np.array(list(mmd_dict_tcs.values())).mean()}\")\n",
    "print(f\"TCS Var MMD: {np.array(list(mmd_dict_tcs.values())).var()}\")\n",
    "\n",
    "print(f\"CT Mean AUC: {np.array(list(auc_dict_ct.values())).mean()}\")\n",
    "print(f\"CT Var AUC: {np.array(list(auc_dict_ct.values())).var()}\")\n",
    "\n",
    "print(f\"CT Mean MMD: {np.array(list(mmd_dict_ct.values())).mean()}\")\n",
    "print(f\"CT Var MMD: {np.array(list(mmd_dict_ct.values())).var()}\")\n",
    "\n",
    "print(f\"CPAR Mean AUC: {np.array(list(auc_dict_sdv.values())).mean()}\")\n",
    "print(f\"CPAR Var AUC: {np.array(list(auc_dict_sdv.values())).var()}\")\n",
    "\n",
    "print(f\"CPAR Mean MMD: {np.array(list(mmd_dict_sdv.values())).mean()}\")\n",
    "print(f\"CPAR Var MMD: {np.array(list(mmd_dict_sdv.values())).var()}\")\n",
    "\n",
    "print(f\"TimeVAE Mean AUC: {np.array(list(auc_dict_tvae.values())).mean()}\")\n",
    "print(f\"TimeVAE Var AUC: {np.array(list(auc_dict_tvae.values())).var()}\")\n",
    "\n",
    "print(f\"TimeVAE Mean MMD: {np.array(list(mmd_dict_tvae.values())).mean()}\")\n",
    "print(f\"TimeVAE Var MMD: {np.array(list(mmd_dict_tvae.values())).var()}\")"
   ]
  },
  {
   "cell_type": "code",
   "execution_count": 23,
   "metadata": {},
   "outputs": [],
   "source": [
    "# Reformat\n",
    "save_path = Path(os.getcwd()).parents[1] / \"data\" / \"results\" / \"vs\"\n",
    "\n",
    "auc_dict_tcs\n",
    "auc_dict = {}\n",
    "mmd_dict = {}\n",
    "\n",
    "for k in list(auc_dict_tcs.keys())[:2]:\n",
    "    auc_dict[k] = {\n",
    "        \"tcs\" : auc_dict_tcs[k], \n",
    "        \"ct\" : auc_dict_ct[k],\n",
    "        \"cpar\" : auc_dict_sdv[k],\n",
    "        \"tvae\" : auc_dict_tvae[k],\n",
    "    }\n",
    "\n",
    "for k in list(mmd_dict_tcs.keys())[:2]:\n",
    "    mmd_dict[k] = {\n",
    "        \"tcs\" : mmd_dict_tcs[k], \n",
    "        \"ct\" : mmd_dict_ct[k],\n",
    "        \"cpar\" : mmd_dict_sdv[k],\n",
    "        \"tvae\" : mmd_dict_tvae[k],\n",
    "    }\n",
    "\n",
    "auc_dict\n",
    "\n",
    "# Save in JSON \n",
    "json.dump(auc_dict, open(save_path / \"fmri_auc.json\", \"w\"))\n",
    "json.dump(mmd_dict, open(save_path / \"fmri_mmd.json\", \"w\"))"
   ]
  }
 ],
 "metadata": {
  "kernelspec": {
   "display_name": "Python 3",
   "language": "python",
   "name": "python3"
  },
  "language_info": {
   "codemirror_mode": {
    "name": "ipython",
    "version": 3
   },
   "file_extension": ".py",
   "mimetype": "text/x-python",
   "name": "python",
   "nbconvert_exporter": "python",
   "pygments_lexer": "ipython3",
   "version": "3.10.2"
  }
 },
 "nbformat": 4,
 "nbformat_minor": 2
}
