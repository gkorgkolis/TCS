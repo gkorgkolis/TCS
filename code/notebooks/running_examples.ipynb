{
 "cells": [
  {
   "cell_type": "markdown",
   "metadata": {},
   "source": [
    "### Imports"
   ]
  },
  {
   "cell_type": "code",
   "execution_count": null,
   "metadata": {},
   "outputs": [],
   "source": [
    "import os\n",
    "import time\n",
    "\n",
    "import numpy as np\n",
    "import pandas as pd\n",
    "from pathlib import Path\n",
    "\n",
    "import string\n",
    "import itertools\n",
    "\n",
    "import sys\n",
    "sys.path.append(\"..\")\n",
    "\n",
    "from simulation.simulation_utils import simulate\n",
    "from simulation.simulation_tools import get_optimal_sim_XY\n",
    "\n",
    "rng = np.random.default_rng()\n",
    "\n",
    "COL_NAMES = list(string.ascii_uppercase) + [\"\".join(a) for a in list(itertools.permutations(list(string.ascii_uppercase), r=2))]"
   ]
  },
  {
   "cell_type": "markdown",
   "metadata": {},
   "source": [
    "### Single Simulation"
   ]
  },
  {
   "cell_type": "code",
   "execution_count": null,
   "metadata": {},
   "outputs": [],
   "source": [
    "# data\n",
    "data_path = list(Path(\".\").resolve().parents)[1] / 'data' / 'cp_style' / 'increasing_edges_cp_1' / 'data'\n",
    "fn = os.listdir(data_path)[0]\n",
    "true_data = pd.read_csv(data_path / fn)\n",
    "\n",
    "# TCS configuration\n",
    "cfg = {\n",
    "    \"cd_method\" : \"PCMCI\", \n",
    "    \"cd_kwargs\" : None, \n",
    "    \"pred_method\" : \"TCDF\", \n",
    "    \"pred_kwargs\" : None, \n",
    "    \"o_approximation\" : \"spline\", \n",
    "    \"noise_approximation\" : \"spline\",\n",
    "}\n",
    "\n",
    "# simulate\n",
    "start_time = time.time()\n",
    "sim_data, sim_scm, funcs_and_noise, scores = simulate(\n",
    "    true_data=true_data, \n",
    "    true_label=None, \n",
    "    n_samples=500, \n",
    "    verbose=True, \n",
    "    **cfg\n",
    ")\n",
    "elapsed_time = time.time() - start_time\n",
    "print(f\"LOG : Single Simulation : Elapsed time for single simulation: {round(elapsed_time, 2)}\")"
   ]
  },
  {
   "cell_type": "markdown",
   "metadata": {},
   "source": [
    "### Optimized Simulation"
   ]
  },
  {
   "cell_type": "code",
   "execution_count": null,
   "metadata": {},
   "outputs": [],
   "source": [
    "# data\n",
    "data_path = list(Path(\".\").resolve().parents)[1] / 'data' / 'fMRI' / 'timeseries'\n",
    "fn = os.listdir(data_path)[0]\n",
    "true_data = pd.read_csv(data_path / fn)\n",
    "\n",
    "# simulate\n",
    "start_time = time.time()\n",
    "res = get_optimal_sim_XY(\n",
    "        true_data = true_data, \n",
    "        CONFIGS = None, \n",
    "        done_eval = False,\n",
    "        optimal_det_config = None,\n",
    "        optimal_det_func = None, \n",
    "        sparsity_penalty=True,\n",
    "        verbose = True\n",
    ")\n",
    "elapsed_time = time.time() - start_time\n",
    "print(f\"LOG : Optimized Simulation : Elapsed time for optimized simulation: {round(elapsed_time, 2)}\")"
   ]
  }
 ],
 "metadata": {
  "kernelspec": {
   "display_name": "Python 3",
   "language": "python",
   "name": "python3"
  },
  "language_info": {
   "codemirror_mode": {
    "name": "ipython",
    "version": 3
   },
   "file_extension": ".py",
   "mimetype": "text/x-python",
   "name": "python",
   "nbconvert_exporter": "python",
   "pygments_lexer": "ipython3",
   "version": "3.10.2"
  }
 },
 "nbformat": 4,
 "nbformat_minor": 2
}
