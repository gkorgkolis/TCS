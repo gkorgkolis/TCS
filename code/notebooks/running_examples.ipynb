{
 "cells": [
  {
   "cell_type": "markdown",
   "metadata": {},
   "source": [
    "### Imports"
   ]
  },
  {
   "cell_type": "code",
   "execution_count": 1,
   "metadata": {},
   "outputs": [
    {
     "name": "stdout",
     "output_type": "stream",
     "text": [
      "TimesFM v1.2.0. See https://github.com/google-research/timesfm/blob/master/README.md for updated APIs.\n",
      "Loaded Jax TimesFM.\n",
      "Loaded PyTorch TimesFM.\n"
     ]
    }
   ],
   "source": [
    "import os\n",
    "import time\n",
    "\n",
    "import numpy as np\n",
    "import pandas as pd\n",
    "from pathlib import Path\n",
    "\n",
    "import string\n",
    "import itertools\n",
    "\n",
    "import sys\n",
    "sys.path.append(\"..\")\n",
    "\n",
    "from simulation.simulation_utils import simulate\n",
    "from simulation.simulation_tools import get_optimal_sim_XY\n",
    "\n",
    "rng = np.random.default_rng()\n",
    "\n",
    "COL_NAMES = list(string.ascii_uppercase) + [\"\".join(a) for a in list(itertools.permutations(list(string.ascii_uppercase), r=2))]"
   ]
  },
  {
   "cell_type": "markdown",
   "metadata": {},
   "source": [
    "### Single Simulation"
   ]
  },
  {
   "cell_type": "code",
   "execution_count": 2,
   "metadata": {},
   "outputs": [
    {
     "name": "stdout",
     "output_type": "stream",
     "text": [
      "LOG : Phase (1) : Causal structure ...\n",
      "LOG : Causal structure : estimate_with_PCMCI w/ {'n_lags': 1, 'n_reps': 10} ...\n",
      "LOG : Causal structure : estimate_with_PCMCI was successfully used.\n",
      "LOG : Phase (2) : Functional Dependencies ...\n",
      "LOG : Phase (3) : Noise Estimation ...\n",
      "LOG : Forecasting : Node A_t (has parents) ...\n"
     ]
    },
    {
     "name": "stderr",
     "output_type": "stream",
     "text": [
      "100%|██████████| 1000/1000 [00:00<00:00, 1374.64it/s]\n"
     ]
    },
    {
     "name": "stdout",
     "output_type": "stream",
     "text": [
      "LOG : Forecasting : Node B_t (has parents) ...\n"
     ]
    },
    {
     "name": "stderr",
     "output_type": "stream",
     "text": [
      "100%|██████████| 1000/1000 [00:00<00:00, 1223.43it/s]\n"
     ]
    },
    {
     "name": "stdout",
     "output_type": "stream",
     "text": [
      "LOG : Forecasting : Node C_t (has parents) ...\n"
     ]
    },
    {
     "name": "stderr",
     "output_type": "stream",
     "text": [
      "100%|██████████| 1000/1000 [00:00<00:00, 1287.53it/s]\n"
     ]
    },
    {
     "name": "stdout",
     "output_type": "stream",
     "text": [
      "LOG : Forecasting : Node D_t (has parents) ...\n"
     ]
    },
    {
     "name": "stderr",
     "output_type": "stream",
     "text": [
      "100%|██████████| 1000/1000 [00:00<00:00, 1105.20it/s]\n"
     ]
    },
    {
     "name": "stdout",
     "output_type": "stream",
     "text": [
      "LOG : Forecasting : Node E_t (has parents) ...\n"
     ]
    },
    {
     "name": "stderr",
     "output_type": "stream",
     "text": [
      "100%|██████████| 1000/1000 [00:00<00:00, 1470.09it/s]\n"
     ]
    },
    {
     "name": "stdout",
     "output_type": "stream",
     "text": [
      "LOG : Forecasting : Node F_t (no parents) ...\n",
      "LOG : Forecasting : Node G_t (no parents) ...\n",
      "LOG : Forecasting : Node H_t (no parents) ...\n",
      "LOG : Forecasting : Node I_t (no parents) ...\n",
      "LOG : Forecasting : Node J_t (no parents) ...\n",
      "LOG : Simulation Phase : Ancestral Sampling ...\n"
     ]
    },
    {
     "name": "stderr",
     "output_type": "stream",
     "text": [
      "100%|██████████| 520/520 [00:10<00:00, 51.17it/s]"
     ]
    },
    {
     "name": "stdout",
     "output_type": "stream",
     "text": [
      "LOG : Single Simulation : Elapsed time for single simulation: 53.92\n"
     ]
    },
    {
     "name": "stderr",
     "output_type": "stream",
     "text": [
      "\n"
     ]
    }
   ],
   "source": [
    "# data\n",
    "data_path = list(Path(\".\").resolve().parents)[1] / 'data' / 'cp_style' / 'increasing_edges_cp_1' / 'data'\n",
    "fn = os.listdir(data_path)[0]\n",
    "true_data = pd.read_csv(data_path / fn)\n",
    "\n",
    "# TCS configuration\n",
    "cfg = {\n",
    "    \"cd_method\" : \"PCMCI\", \n",
    "    \"cd_kwargs\" : None, \n",
    "    \"pred_method\" : \"TCDF\", \n",
    "    \"pred_kwargs\" : None, \n",
    "    \"o_approximation\" : \"spline\", \n",
    "    \"noise_approximation\" : \"spline\",\n",
    "}\n",
    "\n",
    "# simulate\n",
    "start_time = time.time()\n",
    "sim_data, sim_scm, funcs_and_noise, scores = simulate(\n",
    "    true_data=true_data, \n",
    "    true_label=None, \n",
    "    n_samples=500, \n",
    "    verbose=True, \n",
    "    **cfg\n",
    ")\n",
    "elapsed_time = time.time() - start_time\n",
    "print(f\"LOG : Single Simulation : Elapsed time for single simulation: {round(elapsed_time, 2)}\")"
   ]
  },
  {
   "cell_type": "markdown",
   "metadata": {},
   "source": [
    "### Optimized Simulation"
   ]
  },
  {
   "cell_type": "code",
   "execution_count": null,
   "metadata": {},
   "outputs": [
    {
     "name": "stdout",
     "output_type": "stream",
     "text": [
      "LOG: Optimal Simulation: 4 TCS configurations are to be tested ...\n",
      "_____________________________________________________________________________________________________________\n",
      "_______________________ {'cd': {'cd_method': 'PCMCI', 'cd_kwargs': None}, 'fc': {'pred_method': 'TCDF', 'pred_kwargs': {}}, 'z': {'noise_approximation': 'est'}, 'o': {'noise_approximation': 'est'}} _______________________\n",
      "LOG : Phase (1) : Causal structure ...\n",
      "LOG : Phase (2) : Functional Dependencies ...\n",
      "LOG : Phase (3) : Noise Estimation ...\n"
     ]
    },
    {
     "name": "stderr",
     "output_type": "stream",
     "text": [
      "100%|██████████| 1000/1000 [00:01<00:00, 861.97it/s]\n",
      "100%|██████████| 1000/1000 [00:01<00:00, 867.05it/s]\n",
      "100%|██████████| 1000/1000 [00:01<00:00, 862.31it/s]\n",
      "100%|██████████| 1000/1000 [00:01<00:00, 879.87it/s]\n",
      "100%|██████████| 1000/1000 [00:01<00:00, 962.43it/s]\n"
     ]
    },
    {
     "name": "stdout",
     "output_type": "stream",
     "text": [
      "LOG : Simulation Phase : Ancestral Sampling ...\n"
     ]
    },
    {
     "name": "stderr",
     "output_type": "stream",
     "text": [
      "100%|██████████| 2420/2420 [00:13<00:00, 185.68it/s]\n",
      "100%|██████████| 12/12 [00:20<00:00,  1.67s/it]\n"
     ]
    },
    {
     "name": "stdout",
     "output_type": "stream",
     "text": [
      "LOG: Optimal Detection Config: svm_detection_XY: 0.933751388888889 (auc) || configs: 12 || elapsed_time: 20.09 (s)\n"
     ]
    },
    {
     "name": "stderr",
     "output_type": "stream",
     "text": [
      "100%|██████████| 8/8 [00:31<00:00,  3.95s/it]\n"
     ]
    },
    {
     "name": "stdout",
     "output_type": "stream",
     "text": [
      "LOG: Optimal Detection Config: lstm_detection_XY: 0.5184874126020955 (auc) || configs: 8 || elapsed_time: 31.63 (s)\n",
      "LOG: Optimal Simulation: Max C2ST AUC achieved: 0.9337319444444445\n",
      "_____________________________________________________________________________________________________________\n",
      "_____________________________________________________________________________________________________________\n",
      "_______________________ {'cd': {'cd_method': 'PCMCI', 'cd_kwargs': None}, 'fc': {'pred_method': 'TCDF', 'pred_kwargs': {}}, 'z': {'noise_approximation': 'spline'}, 'o': {'noise_approximation': 'spline'}} _______________________\n",
      "LOG : Phase (1) : Causal structure ...\n",
      "LOG : Phase (2) : Functional Dependencies ...\n",
      "LOG : Phase (3) : Noise Estimation ...\n"
     ]
    },
    {
     "name": "stderr",
     "output_type": "stream",
     "text": [
      "100%|██████████| 1000/1000 [00:01<00:00, 782.49it/s]\n",
      "100%|██████████| 1000/1000 [00:01<00:00, 709.27it/s]\n",
      " 48%|████▊     | 483/1000 [00:00<00:00, 791.45it/s]"
     ]
    }
   ],
   "source": [
    "# data\n",
    "data_path = list(Path(\".\").resolve().parents)[1] / 'data' / 'fMRI' / 'timeseries'\n",
    "fn = os.listdir(data_path)[0]\n",
    "true_data = pd.read_csv(data_path / fn)\n",
    "\n",
    "# simulate\n",
    "start_time = time.time()\n",
    "res = get_optimal_sim_XY(\n",
    "        true_data = true_data, \n",
    "        CONFIGS = None, \n",
    "        done_eval = False,\n",
    "        optimal_det_config = None,\n",
    "        optimal_det_func = None, \n",
    "        sparsity_penalty=True,\n",
    "        verbose = True\n",
    ")\n",
    "elapsed_time = time.time() - start_time\n",
    "print(f\"LOG : Optimized Simulation : Elapsed time for optimized simulation: {round(elapsed_time, 2)}\")"
   ]
  }
 ],
 "metadata": {
  "kernelspec": {
   "display_name": "Python 3",
   "language": "python",
   "name": "python3"
  },
  "language_info": {
   "codemirror_mode": {
    "name": "ipython",
    "version": 3
   },
   "file_extension": ".py",
   "mimetype": "text/x-python",
   "name": "python",
   "nbconvert_exporter": "python",
   "pygments_lexer": "ipython3",
   "version": "3.10.2"
  }
 },
 "nbformat": 4,
 "nbformat_minor": 2
}
