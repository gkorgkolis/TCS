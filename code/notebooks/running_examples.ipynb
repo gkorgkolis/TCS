{
 "cells": [
  {
   "cell_type": "markdown",
   "metadata": {},
   "source": [
    "### Imports"
   ]
  },
  {
   "cell_type": "code",
   "execution_count": null,
   "metadata": {},
   "outputs": [],
   "source": [
    "import os\n",
    "import time\n",
    "\n",
    "import numpy as np\n",
    "import pandas as pd\n",
    "from pathlib import Path\n",
    "\n",
    "import string\n",
    "import itertools\n",
    "\n",
    "import sys\n",
    "sys.path.append(\"..\")\n",
    "\n",
    "from simulation.simulation_utils import simulate\n",
    "from simulation.simulation_tools import get_optimal_sim_XY\n",
    "\n",
    "rng = np.random.default_rng()\n",
    "\n",
    "COL_NAMES = list(string.ascii_uppercase) + [\"\".join(a) for a in list(itertools.permutations(list(string.ascii_uppercase), r=2))]"
   ]
  },
  {
   "cell_type": "markdown",
   "metadata": {},
   "source": [
    "### Simple Simulation"
   ]
  },
  {
   "cell_type": "code",
   "execution_count": 7,
   "metadata": {},
   "outputs": [
    {
     "name": "stdout",
     "output_type": "stream",
     "text": [
      "LOG : Causal structure : estimate_with_PCMCI w/ {'n_lags': 1, 'n_reps': 10} ...\n",
      "LOG : Causal structure : estimate_with_PCMCI was successfully used.\n",
      "LOG : Forecasting : Node A_t (has parents) ...\n"
     ]
    },
    {
     "name": "stderr",
     "output_type": "stream",
     "text": [
      "100%|██████████| 1000/1000 [00:00<00:00, 1258.22it/s]\n"
     ]
    },
    {
     "name": "stdout",
     "output_type": "stream",
     "text": [
      "LOG : Forecasting : Node B_t (has parents) ...\n"
     ]
    },
    {
     "name": "stderr",
     "output_type": "stream",
     "text": [
      "100%|██████████| 1000/1000 [00:00<00:00, 1224.80it/s]\n"
     ]
    },
    {
     "name": "stdout",
     "output_type": "stream",
     "text": [
      "LOG : Forecasting : Node C_t (has parents) ...\n"
     ]
    },
    {
     "name": "stderr",
     "output_type": "stream",
     "text": [
      "100%|██████████| 1000/1000 [00:00<00:00, 1309.60it/s]\n"
     ]
    },
    {
     "name": "stdout",
     "output_type": "stream",
     "text": [
      "LOG : Forecasting : Node D_t (has parents) ...\n"
     ]
    },
    {
     "name": "stderr",
     "output_type": "stream",
     "text": [
      "100%|██████████| 1000/1000 [00:01<00:00, 762.56it/s]\n"
     ]
    },
    {
     "name": "stdout",
     "output_type": "stream",
     "text": [
      "LOG : Forecasting : Node E_t (has parents) ...\n"
     ]
    },
    {
     "name": "stderr",
     "output_type": "stream",
     "text": [
      "100%|██████████| 1000/1000 [00:00<00:00, 1399.25it/s]\n"
     ]
    },
    {
     "name": "stdout",
     "output_type": "stream",
     "text": [
      "LOG : Forecasting : Node F_t (orphan) ...\n",
      "LOG : Forecasting : Node G_t (orphan) ...\n",
      "LOG : Forecasting : Node H_t (orphan) ...\n",
      "LOG : Forecasting : Node I_t (orphan) ...\n",
      "LOG : Forecasting : Node J_t (orphan) ...\n"
     ]
    },
    {
     "name": "stderr",
     "output_type": "stream",
     "text": [
      "100%|██████████| 520/520 [00:09<00:00, 53.75it/s]"
     ]
    },
    {
     "name": "stdout",
     "output_type": "stream",
     "text": [
      "LOG : Simple Simulation : Elapsed time for single simulation: 51.99\n"
     ]
    },
    {
     "name": "stderr",
     "output_type": "stream",
     "text": [
      "\n"
     ]
    }
   ],
   "source": [
    "# data\n",
    "data_path = list(Path(\".\").resolve().parents)[1] / 'data' / 'cp_style' / 'increasing_edges_cp_1' / 'data'\n",
    "fn = os.listdir(data_path)[0]\n",
    "true_data = pd.read_csv(data_path / fn)\n",
    "\n",
    "# TCS configuration\n",
    "cfg = {\n",
    "    \"cd_method\" : \"PCMCI\", \n",
    "    \"cd_kwargs\" : None, \n",
    "    \"pred_method\" : \"TCDF\", \n",
    "    \"pred_kwargs\" : None, \n",
    "    \"o_approximation\" : \"spline\", \n",
    "    \"noise_approximation\" : \"spline\",\n",
    "}\n",
    "\n",
    "# simulate\n",
    "start_time = time.time()\n",
    "sim_data, sim_scm, funcs_and_noise, scores = simulate(\n",
    "    true_data=true_data, \n",
    "    true_label=None, \n",
    "    n_samples=500, \n",
    "    verbose=True, \n",
    "    **cfg\n",
    ")\n",
    "elapsed_time = time.time() - start_time\n",
    "print(f\"LOG : Simple Simulation : Elapsed time for single simulation: {round(elapsed_time, 2)}\")"
   ]
  },
  {
   "cell_type": "markdown",
   "metadata": {},
   "source": [
    "### Optimized Simulation"
   ]
  },
  {
   "cell_type": "code",
   "execution_count": null,
   "metadata": {},
   "outputs": [
    {
     "name": "stdout",
     "output_type": "stream",
     "text": [
      "LOG: Optimal simulation: 8 are to be tested ...\n",
      "_____________________________________________________________________________________________________________\n",
      "_______________________ {'cd': {'cd_method': 'CP', 'cd_kwargs': {'model': '../cd_methods/CausalPretraining/res/deep_CI_RH_12_3_merged_290k.ckpt', 'model_name': 'deep_CI_RH_12_3_merged_290k', 'MAX_VAR': 12, 'thresholded': True, 'threshold': 0.05, 'enforce_density': False, 'density': [2, 10]}}, 'fc': {'pred_method': 'TCDF', 'pred_kwargs': {}}, 'z': 'spline', 'o': 'spline'} _______________________\n"
     ]
    },
    {
     "name": "stderr",
     "output_type": "stream",
     "text": [
      "100%|██████████| 1000/1000 [00:01<00:00, 570.68it/s]\n",
      "100%|██████████| 1000/1000 [00:01<00:00, 654.68it/s]\n",
      "100%|██████████| 1000/1000 [00:01<00:00, 687.49it/s]\n",
      "100%|██████████| 1000/1000 [00:01<00:00, 677.71it/s]\n",
      "100%|██████████| 1000/1000 [00:01<00:00, 638.14it/s]\n",
      "100%|██████████| 2420/2420 [00:30<00:00, 78.76it/s]\n",
      "100%|██████████| 24/24 [00:32<00:00,  1.37s/it]\n"
     ]
    },
    {
     "name": "stdout",
     "output_type": "stream",
     "text": [
      "LOG: Optimal Detection Config: svm_detection_XY: 0.9351095652173913 (auc) || configs: 24 || elapsed_time: 32.88 (s)\n"
     ]
    },
    {
     "name": "stderr",
     "output_type": "stream",
     "text": [
      "100%|██████████| 16/16 [02:48<00:00, 10.56s/it]\n"
     ]
    },
    {
     "name": "stdout",
     "output_type": "stream",
     "text": [
      "LOG: Optimal Detection Config: lstm_detection_XY: 0.6192131734068448 (auc) || configs: 16 || elapsed_time: 168.89 (s)\n",
      "LOG: Optimal Simulation: Max C2ST AUC achieved: 0.9351067826086956\n",
      "_____________________________________________________________________________________________________________\n",
      "_____________________________________________________________________________________________________________\n",
      "_______________________ {'cd': {'cd_method': 'CP', 'cd_kwargs': {'model': '../cd_methods/CausalPretraining/res/deep_CI_RH_12_3_merged_290k.ckpt', 'model_name': 'deep_CI_RH_12_3_merged_290k', 'MAX_VAR': 12, 'thresholded': True, 'threshold': 0.05, 'enforce_density': False, 'density': [2, 10]}}, 'fc': {'pred_method': 'TCDF', 'pred_kwargs': {}}, 'z': 'est', 'o': 'est'} _______________________\n"
     ]
    },
    {
     "name": "stderr",
     "output_type": "stream",
     "text": [
      "100%|██████████| 1000/1000 [00:02<00:00, 434.96it/s]\n",
      "100%|██████████| 1000/1000 [00:02<00:00, 414.46it/s]\n",
      "100%|██████████| 1000/1000 [00:01<00:00, 516.97it/s]\n",
      "100%|██████████| 1000/1000 [00:02<00:00, 442.44it/s]\n",
      "100%|██████████| 1000/1000 [00:02<00:00, 419.60it/s]\n",
      "100%|██████████| 2420/2420 [00:18<00:00, 129.52it/s]\n",
      "100%|██████████| 24/24 [00:06<00:00,  3.58it/s]\n"
     ]
    },
    {
     "name": "stdout",
     "output_type": "stream",
     "text": [
      "LOG: Optimal Detection Config: svm_detection_XY: 0.9993331832995758 (auc) || configs: 24 || elapsed_time: 6.71 (s)\n"
     ]
    },
    {
     "name": "stderr",
     "output_type": "stream",
     "text": [
      "100%|██████████| 16/16 [02:53<00:00, 10.83s/it]\n"
     ]
    },
    {
     "name": "stdout",
     "output_type": "stream",
     "text": [
      "LOG: Optimal Detection Config: lstm_detection_XY: 0.979413383935997 (auc) || configs: 16 || elapsed_time: 173.33 (s)\n",
      "LOG: Optimal Simulation: Max C2ST AUC achieved: 0.9993331832995758\n",
      "_____________________________________________________________________________________________________________\n",
      "_____________________________________________________________________________________________________________\n",
      "_______________________ {'cd': {'cd_method': 'CP', 'cd_kwargs': {'model': 'E:/CausalPretraining/Weights/2025+/lcm_CI_RH_12_3_merged_290k.ckpt', 'model_name': 'LCM_CI_RH_12_3_merged_290k', 'MAX_VAR': 12, 'thresholded': True, 'threshold': 0.05, 'enforce_density': False, 'density': [2, 10]}}, 'fc': {'pred_method': 'TCDF', 'pred_kwargs': {}}, 'z': 'spline', 'o': 'spline'} _______________________\n"
     ]
    },
    {
     "name": "stderr",
     "output_type": "stream",
     "text": [
      "100%|██████████| 1000/1000 [00:02<00:00, 434.52it/s]\n",
      "100%|██████████| 1000/1000 [00:01<00:00, 588.33it/s]\n",
      "100%|██████████| 1000/1000 [00:01<00:00, 552.96it/s]\n",
      "100%|██████████| 1000/1000 [00:01<00:00, 508.66it/s]\n",
      "100%|██████████| 1000/1000 [00:01<00:00, 605.06it/s]\n",
      "100%|██████████| 2420/2420 [00:31<00:00, 76.62it/s]\n",
      "100%|██████████| 24/24 [00:35<00:00,  1.48s/it]\n"
     ]
    },
    {
     "name": "stdout",
     "output_type": "stream",
     "text": [
      "LOG: Optimal Detection Config: svm_detection_XY: 0.9032245010730662 (auc) || configs: 24 || elapsed_time: 35.57 (s)\n"
     ]
    },
    {
     "name": "stderr",
     "output_type": "stream",
     "text": [
      "100%|██████████| 16/16 [02:54<00:00, 10.90s/it]\n"
     ]
    },
    {
     "name": "stdout",
     "output_type": "stream",
     "text": [
      "LOG: Optimal Detection Config: lstm_detection_XY: 0.5304944025530589 (auc) || configs: 16 || elapsed_time: 174.35 (s)\n",
      "LOG: Optimal Simulation: Max C2ST AUC achieved: 0.9032258964777196\n",
      "_____________________________________________________________________________________________________________\n",
      "_____________________________________________________________________________________________________________\n",
      "_______________________ {'cd': {'cd_method': 'CP', 'cd_kwargs': {'model': 'E:/CausalPretraining/Weights/2025+/lcm_CI_RH_12_3_merged_290k.ckpt', 'model_name': 'LCM_CI_RH_12_3_merged_290k', 'MAX_VAR': 12, 'thresholded': True, 'threshold': 0.05, 'enforce_density': False, 'density': [2, 10]}}, 'fc': {'pred_method': 'TCDF', 'pred_kwargs': {}}, 'z': 'est', 'o': 'est'} _______________________\n"
     ]
    },
    {
     "name": "stderr",
     "output_type": "stream",
     "text": [
      "100%|██████████| 1000/1000 [00:02<00:00, 445.96it/s]\n",
      "100%|██████████| 1000/1000 [00:02<00:00, 443.74it/s]\n",
      "100%|██████████| 1000/1000 [00:01<00:00, 541.97it/s]\n",
      "100%|██████████| 1000/1000 [00:01<00:00, 559.83it/s]\n",
      "100%|██████████| 1000/1000 [00:02<00:00, 416.93it/s]\n",
      "100%|██████████| 2420/2420 [00:16<00:00, 145.20it/s]\n",
      "100%|██████████| 24/24 [00:27<00:00,  1.15s/it]\n"
     ]
    },
    {
     "name": "stdout",
     "output_type": "stream",
     "text": [
      "LOG: Optimal Detection Config: svm_detection_XY: 0.955330255247747 (auc) || configs: 24 || elapsed_time: 27.54 (s)\n"
     ]
    },
    {
     "name": "stderr",
     "output_type": "stream",
     "text": [
      "100%|██████████| 16/16 [02:57<00:00, 11.08s/it]\n"
     ]
    },
    {
     "name": "stdout",
     "output_type": "stream",
     "text": [
      "LOG: Optimal Detection Config: lstm_detection_XY: 0.5193907563025211 (auc) || configs: 16 || elapsed_time: 177.21 (s)\n",
      "LOG: Optimal Simulation: Max C2ST AUC achieved: 0.9553260881643719\n",
      "_____________________________________________________________________________________________________________\n",
      "_____________________________________________________________________________________________________________\n",
      "_______________________ {'cd': {'cd_method': 'PCMCI', 'cd_kwargs': {'n_lags': 3, 'n_reps': 10}}, 'fc': {'pred_method': 'TCDF', 'pred_kwargs': {}}, 'z': 'spline', 'o': 'spline'} _______________________\n"
     ]
    },
    {
     "name": "stderr",
     "output_type": "stream",
     "text": [
      "100%|██████████| 1000/1000 [00:01<00:00, 777.02it/s]\n",
      "100%|██████████| 1000/1000 [00:01<00:00, 684.68it/s]\n",
      "100%|██████████| 1000/1000 [00:01<00:00, 822.35it/s]\n",
      "100%|██████████| 1000/1000 [00:01<00:00, 788.33it/s]\n",
      "100%|██████████| 1000/1000 [00:01<00:00, 764.61it/s]\n",
      "100%|██████████| 2420/2420 [00:29<00:00, 83.23it/s]\n",
      " 12%|█▎        | 3/24 [41:00<6:33:02, 1122.96s/it]"
     ]
    }
   ],
   "source": [
    "# data\n",
    "data_path = list(Path(\".\").resolve().parents)[1] / 'data' / 'fMRI' / 'timeseries'\n",
    "fn = os.listdir(data_path)[0]\n",
    "true_data = pd.read_csv(data_path / fn)\n",
    "\n",
    "# simulate\n",
    "start_time = time.time()\n",
    "res = get_optimal_sim_XY(\n",
    "        true_data = true_data, \n",
    "        CONFIGS = None, \n",
    "        done_eval = False,\n",
    "        optimal_det_config = None,\n",
    "        optimal_det_func = None, \n",
    "        sparsity_penalty=True,\n",
    "        verbose = True\n",
    ")\n",
    "elapsed_time = time.time() - start_time\n",
    "print(f\"LOG : Simple Simulation : Elapsed time for optimized simulation: {round(elapsed_time, 2)}\")"
   ]
  }
 ],
 "metadata": {
  "kernelspec": {
   "display_name": "Python 3",
   "language": "python",
   "name": "python3"
  },
  "language_info": {
   "codemirror_mode": {
    "name": "ipython",
    "version": 3
   },
   "file_extension": ".py",
   "mimetype": "text/x-python",
   "name": "python",
   "nbconvert_exporter": "python",
   "pygments_lexer": "ipython3",
   "version": "3.10.2"
  }
 },
 "nbformat": 4,
 "nbformat_minor": 2
}
